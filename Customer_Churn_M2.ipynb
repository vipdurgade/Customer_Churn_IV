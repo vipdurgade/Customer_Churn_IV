{
 "cells": [
  {
   "cell_type": "markdown",
   "id": "f83765d9",
   "metadata": {},
   "source": [
    "In Model M1 we made a customer churn prediction with the help of XGboost in which kilometer_cleaned where induted with the help of Xgboost, \n",
    "In Model M2 Customer churn will be predicted without  intuting and with missing values of Kilometer_clean usidng LightGBM"
   ]
  },
  {
   "cell_type": "code",
   "execution_count": 1,
   "id": "d1191520",
   "metadata": {},
   "outputs": [
    {
     "name": "stderr",
     "output_type": "stream",
     "text": [
      "d:\\temp\\IV_Master_thesis\\.venv\\Lib\\site-packages\\tqdm\\auto.py:21: TqdmWarning: IProgress not found. Please update jupyter and ipywidgets. See https://ipywidgets.readthedocs.io/en/stable/user_install.html\n",
      "  from .autonotebook import tqdm as notebook_tqdm\n"
     ]
    }
   ],
   "source": [
    "#importing all required python librabries\n",
    "import pandas as pd\n",
    "import numpy as np\n",
    "from sklearn.model_selection import train_test_split\n",
    "from sklearn.ensemble import RandomForestClassifier\n",
    "from sklearn.metrics import classification_report, confusion_matrix\n",
    "from sklearn.preprocessing import LabelEncoder, StandardScaler\n",
    "import matplotlib.pyplot as plt\n",
    "import seaborn as sns\n",
    "from datetime import datetime\n",
    "pd.set_option('display.max_columns', None)\n",
    "import optuna "
   ]
  },
  {
   "cell_type": "code",
   "execution_count": 3,
   "id": "6b0c2268",
   "metadata": {},
   "outputs": [
    {
     "name": "stderr",
     "output_type": "stream",
     "text": [
      "C:\\Users\\VIP\\AppData\\Local\\Temp\\ipykernel_12032\\2674684066.py:1: DtypeWarning: Columns (20) have mixed types. Specify dtype option on import or set low_memory=False.\n",
      "  df= pd.read_csv('df_missing_kilometerstand.csv', index_col=0)\n"
     ]
    }
   ],
   "source": [
    "df= pd.read_csv('df_missing_kilometerstand.csv', index_col=0)"
   ]
  },
  {
   "cell_type": "code",
   "execution_count": 4,
   "id": "2d8afd19",
   "metadata": {},
   "outputs": [
    {
     "data": {
      "text/html": [
       "<div>\n",
       "<style scoped>\n",
       "    .dataframe tbody tr th:only-of-type {\n",
       "        vertical-align: middle;\n",
       "    }\n",
       "\n",
       "    .dataframe tbody tr th {\n",
       "        vertical-align: top;\n",
       "    }\n",
       "\n",
       "    .dataframe thead th {\n",
       "        text-align: right;\n",
       "    }\n",
       "</style>\n",
       "<table border=\"1\" class=\"dataframe\">\n",
       "  <thead>\n",
       "    <tr style=\"text-align: right;\">\n",
       "      <th></th>\n",
       "      <th>vsnr</th>\n",
       "      <th>status</th>\n",
       "      <th>aktiv</th>\n",
       "      <th>akt_kuka</th>\n",
       "      <th>spartek</th>\n",
       "      <th>beginn</th>\n",
       "      <th>datum_s</th>\n",
       "      <th>vtr_dau</th>\n",
       "      <th>kund_beg</th>\n",
       "      <th>vtrweg</th>\n",
       "      <th>gesbeitr</th>\n",
       "      <th>SDANZAHL</th>\n",
       "      <th>SCHAGESA</th>\n",
       "      <th>KOSTGESA</th>\n",
       "      <th>KOSTGEKA</th>\n",
       "      <th>kosten_verw</th>\n",
       "      <th>kosten_prov</th>\n",
       "      <th>gfeld</th>\n",
       "      <th>ort</th>\n",
       "      <th>plz</th>\n",
       "      <th>alter</th>\n",
       "      <th>anr</th>\n",
       "      <th>SDBEITR5</th>\n",
       "      <th>HERSTELLER</th>\n",
       "      <th>HSN</th>\n",
       "      <th>TSN</th>\n",
       "      <th>ELEKTRO</th>\n",
       "      <th>KILOMETERSTAND_CLEAN</th>\n",
       "      <th>claim</th>\n",
       "      <th>ersz_final</th>\n",
       "      <th>beg_year</th>\n",
       "      <th>beg_month</th>\n",
       "      <th>beg_day</th>\n",
       "      <th>weekday</th>\n",
       "      <th>Quarter</th>\n",
       "      <th>Weekday_id</th>\n",
       "      <th>Cus_type</th>\n",
       "      <th>Cus_typ_id</th>\n",
       "      <th>ort_id</th>\n",
       "      <th>Sex_id</th>\n",
       "      <th>Sex</th>\n",
       "      <th>gender_id</th>\n",
       "      <th>plz_id</th>\n",
       "      <th>Hersteller_id</th>\n",
       "      <th>state</th>\n",
       "      <th>state_id</th>\n",
       "      <th>status_id</th>\n",
       "      <th>First_reg</th>\n",
       "      <th>Car_age_indays</th>\n",
       "      <th>carage_years</th>\n",
       "      <th>TSN_id</th>\n",
       "      <th>estimated_total_paid</th>\n",
       "    </tr>\n",
       "    <tr>\n",
       "      <th>pvsnr</th>\n",
       "      <th></th>\n",
       "      <th></th>\n",
       "      <th></th>\n",
       "      <th></th>\n",
       "      <th></th>\n",
       "      <th></th>\n",
       "      <th></th>\n",
       "      <th></th>\n",
       "      <th></th>\n",
       "      <th></th>\n",
       "      <th></th>\n",
       "      <th></th>\n",
       "      <th></th>\n",
       "      <th></th>\n",
       "      <th></th>\n",
       "      <th></th>\n",
       "      <th></th>\n",
       "      <th></th>\n",
       "      <th></th>\n",
       "      <th></th>\n",
       "      <th></th>\n",
       "      <th></th>\n",
       "      <th></th>\n",
       "      <th></th>\n",
       "      <th></th>\n",
       "      <th></th>\n",
       "      <th></th>\n",
       "      <th></th>\n",
       "      <th></th>\n",
       "      <th></th>\n",
       "      <th></th>\n",
       "      <th></th>\n",
       "      <th></th>\n",
       "      <th></th>\n",
       "      <th></th>\n",
       "      <th></th>\n",
       "      <th></th>\n",
       "      <th></th>\n",
       "      <th></th>\n",
       "      <th></th>\n",
       "      <th></th>\n",
       "      <th></th>\n",
       "      <th></th>\n",
       "      <th></th>\n",
       "      <th></th>\n",
       "      <th></th>\n",
       "      <th></th>\n",
       "      <th></th>\n",
       "      <th></th>\n",
       "      <th></th>\n",
       "      <th></th>\n",
       "      <th></th>\n",
       "    </tr>\n",
       "  </thead>\n",
       "  <tbody>\n",
       "    <tr>\n",
       "      <th>1012223</th>\n",
       "      <td>01012223-003</td>\n",
       "      <td>Aktiv</td>\n",
       "      <td>1</td>\n",
       "      <td>1</td>\n",
       "      <td>1</td>\n",
       "      <td>2013-06-16</td>\n",
       "      <td>NaN</td>\n",
       "      <td>4306.0</td>\n",
       "      <td>17.09.1969</td>\n",
       "      <td>1</td>\n",
       "      <td>110.00</td>\n",
       "      <td>0.0</td>\n",
       "      <td>0.00</td>\n",
       "      <td>0.00</td>\n",
       "      <td>0.00</td>\n",
       "      <td>70.54</td>\n",
       "      <td>41.38</td>\n",
       "      <td>70270/ Privatkunden</td>\n",
       "      <td>Flensburg</td>\n",
       "      <td>24944</td>\n",
       "      <td>83.0</td>\n",
       "      <td>71296/ Frau</td>\n",
       "      <td>404.26</td>\n",
       "      <td>VOLKSWAGEN-VW</td>\n",
       "      <td>603.0</td>\n",
       "      <td>1346.0</td>\n",
       "      <td>1</td>\n",
       "      <td>104982.0</td>\n",
       "      <td>0</td>\n",
       "      <td>16JUN2009</td>\n",
       "      <td>2013</td>\n",
       "      <td>6</td>\n",
       "      <td>16</td>\n",
       "      <td>Sunday</td>\n",
       "      <td>2</td>\n",
       "      <td>1</td>\n",
       "      <td>70270</td>\n",
       "      <td>1</td>\n",
       "      <td>1</td>\n",
       "      <td>71296</td>\n",
       "      <td>Frau</td>\n",
       "      <td>1</td>\n",
       "      <td>1</td>\n",
       "      <td>1</td>\n",
       "      <td>Schleswig-Holstein</td>\n",
       "      <td>1</td>\n",
       "      <td>1</td>\n",
       "      <td>2009-06-16</td>\n",
       "      <td>5847</td>\n",
       "      <td>16.0</td>\n",
       "      <td>1</td>\n",
       "      <td>953.832088</td>\n",
       "    </tr>\n",
       "    <tr>\n",
       "      <th>1012223</th>\n",
       "      <td>01012223-003</td>\n",
       "      <td>Aktiv</td>\n",
       "      <td>1</td>\n",
       "      <td>1</td>\n",
       "      <td>2</td>\n",
       "      <td>2013-06-16</td>\n",
       "      <td>NaN</td>\n",
       "      <td>4306.0</td>\n",
       "      <td>17.09.1969</td>\n",
       "      <td>1</td>\n",
       "      <td>253.96</td>\n",
       "      <td>0.0</td>\n",
       "      <td>0.00</td>\n",
       "      <td>0.00</td>\n",
       "      <td>0.00</td>\n",
       "      <td>186.81</td>\n",
       "      <td>89.36</td>\n",
       "      <td>70270/ Privatkunden</td>\n",
       "      <td>Flensburg</td>\n",
       "      <td>24944</td>\n",
       "      <td>83.0</td>\n",
       "      <td>71296/ Frau</td>\n",
       "      <td>1076.16</td>\n",
       "      <td>VOLKSWAGEN-VW</td>\n",
       "      <td>603.0</td>\n",
       "      <td>1346.0</td>\n",
       "      <td>1</td>\n",
       "      <td>104982.0</td>\n",
       "      <td>0</td>\n",
       "      <td>16JUN2009</td>\n",
       "      <td>2013</td>\n",
       "      <td>6</td>\n",
       "      <td>16</td>\n",
       "      <td>Sunday</td>\n",
       "      <td>2</td>\n",
       "      <td>1</td>\n",
       "      <td>70270</td>\n",
       "      <td>1</td>\n",
       "      <td>1</td>\n",
       "      <td>71296</td>\n",
       "      <td>Frau</td>\n",
       "      <td>1</td>\n",
       "      <td>1</td>\n",
       "      <td>1</td>\n",
       "      <td>Schleswig-Holstein</td>\n",
       "      <td>1</td>\n",
       "      <td>1</td>\n",
       "      <td>2009-06-16</td>\n",
       "      <td>5847</td>\n",
       "      <td>16.0</td>\n",
       "      <td>1</td>\n",
       "      <td>2539.147923</td>\n",
       "    </tr>\n",
       "    <tr>\n",
       "      <th>1013206</th>\n",
       "      <td>01013206-003</td>\n",
       "      <td>Aktiv</td>\n",
       "      <td>1</td>\n",
       "      <td>1</td>\n",
       "      <td>1</td>\n",
       "      <td>2013-01-01</td>\n",
       "      <td>NaN</td>\n",
       "      <td>4472.0</td>\n",
       "      <td>21.07.1977</td>\n",
       "      <td>1</td>\n",
       "      <td>313.58</td>\n",
       "      <td>0.0</td>\n",
       "      <td>0.00</td>\n",
       "      <td>0.00</td>\n",
       "      <td>0.00</td>\n",
       "      <td>232.13</td>\n",
       "      <td>135.88</td>\n",
       "      <td>70270/ Privatkunden</td>\n",
       "      <td>Sieverstedt</td>\n",
       "      <td>24885</td>\n",
       "      <td>74.0</td>\n",
       "      <td>71295/ Herr</td>\n",
       "      <td>1327.05</td>\n",
       "      <td>BMW BAYERISCHE MOTORENWER</td>\n",
       "      <td>5.0</td>\n",
       "      <td>2842.0</td>\n",
       "      <td>1</td>\n",
       "      <td>35000.0</td>\n",
       "      <td>0</td>\n",
       "      <td>11DEC2020</td>\n",
       "      <td>2013</td>\n",
       "      <td>1</td>\n",
       "      <td>1</td>\n",
       "      <td>Tuesday</td>\n",
       "      <td>1</td>\n",
       "      <td>2</td>\n",
       "      <td>70270</td>\n",
       "      <td>1</td>\n",
       "      <td>3</td>\n",
       "      <td>71295</td>\n",
       "      <td>Herr</td>\n",
       "      <td>3</td>\n",
       "      <td>3</td>\n",
       "      <td>3</td>\n",
       "      <td>Schleswig-Holstein</td>\n",
       "      <td>1</td>\n",
       "      <td>1</td>\n",
       "      <td>2020-12-11</td>\n",
       "      <td>1651</td>\n",
       "      <td>5.0</td>\n",
       "      <td>2</td>\n",
       "      <td>3251.817863</td>\n",
       "    </tr>\n",
       "    <tr>\n",
       "      <th>1013206</th>\n",
       "      <td>01013206-003</td>\n",
       "      <td>Aktiv</td>\n",
       "      <td>1</td>\n",
       "      <td>1</td>\n",
       "      <td>2</td>\n",
       "      <td>2013-01-01</td>\n",
       "      <td>NaN</td>\n",
       "      <td>4472.0</td>\n",
       "      <td>21.07.1977</td>\n",
       "      <td>1</td>\n",
       "      <td>95.42</td>\n",
       "      <td>1.0</td>\n",
       "      <td>3481.01</td>\n",
       "      <td>3481.01</td>\n",
       "      <td>4402.64</td>\n",
       "      <td>82.90</td>\n",
       "      <td>39.66</td>\n",
       "      <td>70270/ Privatkunden</td>\n",
       "      <td>Sieverstedt</td>\n",
       "      <td>24885</td>\n",
       "      <td>74.0</td>\n",
       "      <td>71295/ Herr</td>\n",
       "      <td>478.44</td>\n",
       "      <td>BMW BAYERISCHE MOTORENWER</td>\n",
       "      <td>5.0</td>\n",
       "      <td>2842.0</td>\n",
       "      <td>1</td>\n",
       "      <td>35000.0</td>\n",
       "      <td>1</td>\n",
       "      <td>11DEC2020</td>\n",
       "      <td>2013</td>\n",
       "      <td>1</td>\n",
       "      <td>1</td>\n",
       "      <td>Tuesday</td>\n",
       "      <td>1</td>\n",
       "      <td>2</td>\n",
       "      <td>70270</td>\n",
       "      <td>1</td>\n",
       "      <td>3</td>\n",
       "      <td>71295</td>\n",
       "      <td>Herr</td>\n",
       "      <td>3</td>\n",
       "      <td>3</td>\n",
       "      <td>3</td>\n",
       "      <td>Schleswig-Holstein</td>\n",
       "      <td>1</td>\n",
       "      <td>1</td>\n",
       "      <td>2020-12-11</td>\n",
       "      <td>1651</td>\n",
       "      <td>5.0</td>\n",
       "      <td>2</td>\n",
       "      <td>1172.374619</td>\n",
       "    </tr>\n",
       "    <tr>\n",
       "      <th>1013242</th>\n",
       "      <td>01013242-004</td>\n",
       "      <td>Aktiv</td>\n",
       "      <td>1</td>\n",
       "      <td>1</td>\n",
       "      <td>2</td>\n",
       "      <td>2012-01-01</td>\n",
       "      <td>NaN</td>\n",
       "      <td>4838.0</td>\n",
       "      <td>26.09.1975</td>\n",
       "      <td>1</td>\n",
       "      <td>212.80</td>\n",
       "      <td>0.0</td>\n",
       "      <td>0.00</td>\n",
       "      <td>0.00</td>\n",
       "      <td>0.00</td>\n",
       "      <td>155.16</td>\n",
       "      <td>74.26</td>\n",
       "      <td>70270/ Privatkunden</td>\n",
       "      <td>Lrschau</td>\n",
       "      <td>24850</td>\n",
       "      <td>82.0</td>\n",
       "      <td>71296/ Frau</td>\n",
       "      <td>894.10</td>\n",
       "      <td>NISSAN (J)</td>\n",
       "      <td>1329.0</td>\n",
       "      <td>1104.0</td>\n",
       "      <td>1</td>\n",
       "      <td>28000.0</td>\n",
       "      <td>0</td>\n",
       "      <td>02APR2009</td>\n",
       "      <td>2012</td>\n",
       "      <td>1</td>\n",
       "      <td>1</td>\n",
       "      <td>Sunday</td>\n",
       "      <td>1</td>\n",
       "      <td>1</td>\n",
       "      <td>70270</td>\n",
       "      <td>1</td>\n",
       "      <td>4</td>\n",
       "      <td>71296</td>\n",
       "      <td>Frau</td>\n",
       "      <td>1</td>\n",
       "      <td>4</td>\n",
       "      <td>2</td>\n",
       "      <td>Schleswig-Holstein</td>\n",
       "      <td>1</td>\n",
       "      <td>1</td>\n",
       "      <td>2009-04-02</td>\n",
       "      <td>5922</td>\n",
       "      <td>16.0</td>\n",
       "      <td>3</td>\n",
       "      <td>2370.222356</td>\n",
       "    </tr>\n",
       "  </tbody>\n",
       "</table>\n",
       "</div>"
      ],
      "text/plain": [
       "                 vsnr status  aktiv  akt_kuka  spartek      beginn datum_s  \\\n",
       "pvsnr                                                                        \n",
       "1012223  01012223-003  Aktiv      1         1        1  2013-06-16     NaN   \n",
       "1012223  01012223-003  Aktiv      1         1        2  2013-06-16     NaN   \n",
       "1013206  01013206-003  Aktiv      1         1        1  2013-01-01     NaN   \n",
       "1013206  01013206-003  Aktiv      1         1        2  2013-01-01     NaN   \n",
       "1013242  01013242-004  Aktiv      1         1        2  2012-01-01     NaN   \n",
       "\n",
       "         vtr_dau    kund_beg  vtrweg  gesbeitr  SDANZAHL  SCHAGESA  KOSTGESA  \\\n",
       "pvsnr                                                                          \n",
       "1012223   4306.0  17.09.1969       1    110.00       0.0      0.00      0.00   \n",
       "1012223   4306.0  17.09.1969       1    253.96       0.0      0.00      0.00   \n",
       "1013206   4472.0  21.07.1977       1    313.58       0.0      0.00      0.00   \n",
       "1013206   4472.0  21.07.1977       1     95.42       1.0   3481.01   3481.01   \n",
       "1013242   4838.0  26.09.1975       1    212.80       0.0      0.00      0.00   \n",
       "\n",
       "         KOSTGEKA  kosten_verw  kosten_prov                gfeld          ort  \\\n",
       "pvsnr                                                                           \n",
       "1012223      0.00        70.54        41.38  70270/ Privatkunden    Flensburg   \n",
       "1012223      0.00       186.81        89.36  70270/ Privatkunden    Flensburg   \n",
       "1013206      0.00       232.13       135.88  70270/ Privatkunden  Sieverstedt   \n",
       "1013206   4402.64        82.90        39.66  70270/ Privatkunden  Sieverstedt   \n",
       "1013242      0.00       155.16        74.26  70270/ Privatkunden      Lrschau   \n",
       "\n",
       "           plz  alter          anr  SDBEITR5                 HERSTELLER  \\\n",
       "pvsnr                                                                     \n",
       "1012223  24944   83.0  71296/ Frau    404.26              VOLKSWAGEN-VW   \n",
       "1012223  24944   83.0  71296/ Frau   1076.16              VOLKSWAGEN-VW   \n",
       "1013206  24885   74.0  71295/ Herr   1327.05  BMW BAYERISCHE MOTORENWER   \n",
       "1013206  24885   74.0  71295/ Herr    478.44  BMW BAYERISCHE MOTORENWER   \n",
       "1013242  24850   82.0  71296/ Frau    894.10                 NISSAN (J)   \n",
       "\n",
       "            HSN     TSN  ELEKTRO  KILOMETERSTAND_CLEAN  claim ersz_final  \\\n",
       "pvsnr                                                                      \n",
       "1012223   603.0  1346.0        1              104982.0      0  16JUN2009   \n",
       "1012223   603.0  1346.0        1              104982.0      0  16JUN2009   \n",
       "1013206     5.0  2842.0        1               35000.0      0  11DEC2020   \n",
       "1013206     5.0  2842.0        1               35000.0      1  11DEC2020   \n",
       "1013242  1329.0  1104.0        1               28000.0      0  02APR2009   \n",
       "\n",
       "         beg_year  beg_month  beg_day  weekday  Quarter  Weekday_id  Cus_type  \\\n",
       "pvsnr                                                                           \n",
       "1012223      2013          6       16   Sunday        2           1     70270   \n",
       "1012223      2013          6       16   Sunday        2           1     70270   \n",
       "1013206      2013          1        1  Tuesday        1           2     70270   \n",
       "1013206      2013          1        1  Tuesday        1           2     70270   \n",
       "1013242      2012          1        1   Sunday        1           1     70270   \n",
       "\n",
       "         Cus_typ_id  ort_id  Sex_id    Sex  gender_id  plz_id  Hersteller_id  \\\n",
       "pvsnr                                                                          \n",
       "1012223           1       1   71296   Frau          1       1              1   \n",
       "1012223           1       1   71296   Frau          1       1              1   \n",
       "1013206           1       3   71295   Herr          3       3              3   \n",
       "1013206           1       3   71295   Herr          3       3              3   \n",
       "1013242           1       4   71296   Frau          1       4              2   \n",
       "\n",
       "                      state  state_id  status_id   First_reg  Car_age_indays  \\\n",
       "pvsnr                                                                          \n",
       "1012223  Schleswig-Holstein         1          1  2009-06-16            5847   \n",
       "1012223  Schleswig-Holstein         1          1  2009-06-16            5847   \n",
       "1013206  Schleswig-Holstein         1          1  2020-12-11            1651   \n",
       "1013206  Schleswig-Holstein         1          1  2020-12-11            1651   \n",
       "1013242  Schleswig-Holstein         1          1  2009-04-02            5922   \n",
       "\n",
       "         carage_years  TSN_id  estimated_total_paid  \n",
       "pvsnr                                                \n",
       "1012223          16.0       1            953.832088  \n",
       "1012223          16.0       1           2539.147923  \n",
       "1013206           5.0       2           3251.817863  \n",
       "1013206           5.0       2           1172.374619  \n",
       "1013242          16.0       3           2370.222356  "
      ]
     },
     "execution_count": 4,
     "metadata": {},
     "output_type": "execute_result"
    }
   ],
   "source": [
    "df.head()"
   ]
  },
  {
   "cell_type": "code",
   "execution_count": 5,
   "id": "5c06fc66",
   "metadata": {},
   "outputs": [
    {
     "data": {
      "text/plain": [
       "vsnr                         0\n",
       "status                       0\n",
       "aktiv                        0\n",
       "akt_kuka                     0\n",
       "spartek                      0\n",
       "beginn                       0\n",
       "datum_s                 999192\n",
       "vtr_dau                      0\n",
       "kund_beg                     0\n",
       "vtrweg                       0\n",
       "gesbeitr                     0\n",
       "SDANZAHL                     0\n",
       "SCHAGESA                     0\n",
       "KOSTGESA                     0\n",
       "KOSTGEKA                     0\n",
       "kosten_verw                  0\n",
       "kosten_prov                  0\n",
       "gfeld                        0\n",
       "ort                          0\n",
       "plz                          0\n",
       "alter                        0\n",
       "anr                          0\n",
       "SDBEITR5                     0\n",
       "HERSTELLER                   0\n",
       "HSN                         19\n",
       "TSN                          0\n",
       "ELEKTRO                      0\n",
       "KILOMETERSTAND_CLEAN    380244\n",
       "claim                        0\n",
       "ersz_final                   0\n",
       "beg_year                     0\n",
       "beg_month                    0\n",
       "beg_day                      0\n",
       "weekday                      0\n",
       "Quarter                      0\n",
       "Weekday_id                   0\n",
       "Cus_type                     0\n",
       "Cus_typ_id                   0\n",
       "ort_id                       0\n",
       "Sex_id                       0\n",
       "Sex                          0\n",
       "gender_id                    0\n",
       "plz_id                       0\n",
       "Hersteller_id                0\n",
       "state                        0\n",
       "state_id                     0\n",
       "status_id                    0\n",
       "First_reg                    0\n",
       "Car_age_indays               0\n",
       "carage_years                 0\n",
       "TSN_id                       0\n",
       "estimated_total_paid         0\n",
       "dtype: int64"
      ]
     },
     "execution_count": 5,
     "metadata": {},
     "output_type": "execute_result"
    }
   ],
   "source": [
    "df.isnull().sum()"
   ]
  },
  {
   "cell_type": "code",
   "execution_count": 6,
   "id": "a1527828",
   "metadata": {},
   "outputs": [
    {
     "data": {
      "text/plain": [
       "(2335742, 52)"
      ]
     },
     "execution_count": 6,
     "metadata": {},
     "output_type": "execute_result"
    }
   ],
   "source": [
    "df.shape"
   ]
  },
  {
   "cell_type": "code",
   "execution_count": 7,
   "id": "d47f4f8a",
   "metadata": {},
   "outputs": [],
   "source": [
    "df['Dura_in_yrs'] = df['vtr_dau'] // 365\n",
    "df = df[df['carage_years'] < 13]\n",
    "columns_needed = [\n",
    "    \"vsnr\",'aktiv', \"vtr_dau\",\"Dura_in_yrs\", \"vtrweg\", \"SDANZAHL\", \"SCHAGESA\", \"KOSTGESA\",\n",
    "    \"kosten_verw\", \"kosten_prov\", \"alter\", \"ELEKTRO\", \"KILOMETERSTAND_CLEAN\",\n",
    "    \"claim\", \"beg_year\", \"beg_month\", \"Quarter\", \"Weekday_id\", \"Cus_typ_id\",\n",
    "    \"ort_id\", \"gender_id\", \"plz_id\", \"Hersteller_id\", \"state_id\", \"TSN_id\",\n",
    "    \"estimated_total_paid\",'spartek','carage_years','Car_age_indays']"
   ]
  },
  {
   "cell_type": "code",
   "execution_count": 8,
   "id": "75cf9d98",
   "metadata": {},
   "outputs": [
    {
     "data": {
      "text/plain": [
       "(1040849, 53)"
      ]
     },
     "execution_count": 8,
     "metadata": {},
     "output_type": "execute_result"
    }
   ],
   "source": [
    "df.shape"
   ]
  },
  {
   "cell_type": "code",
   "execution_count": 9,
   "id": "44a5af9d",
   "metadata": {},
   "outputs": [],
   "source": [
    "df= df[columns_needed]"
   ]
  },
  {
   "cell_type": "code",
   "execution_count": 10,
   "id": "45645343",
   "metadata": {},
   "outputs": [
    {
     "data": {
      "text/plain": [
       "vsnr                     object\n",
       "aktiv                     int64\n",
       "vtr_dau                 float64\n",
       "Dura_in_yrs             float64\n",
       "vtrweg                    int64\n",
       "SDANZAHL                float64\n",
       "SCHAGESA                float64\n",
       "KOSTGESA                float64\n",
       "kosten_verw             float64\n",
       "kosten_prov             float64\n",
       "alter                   float64\n",
       "ELEKTRO                   int64\n",
       "KILOMETERSTAND_CLEAN    float64\n",
       "claim                     int64\n",
       "beg_year                  int64\n",
       "beg_month                 int64\n",
       "Quarter                   int64\n",
       "Weekday_id                int64\n",
       "Cus_typ_id                int64\n",
       "ort_id                    int64\n",
       "gender_id                 int64\n",
       "plz_id                    int64\n",
       "Hersteller_id             int64\n",
       "state_id                  int64\n",
       "TSN_id                    int64\n",
       "estimated_total_paid    float64\n",
       "spartek                   int64\n",
       "carage_years            float64\n",
       "Car_age_indays            int64\n",
       "dtype: object"
      ]
     },
     "execution_count": 10,
     "metadata": {},
     "output_type": "execute_result"
    }
   ],
   "source": [
    "df.dtypes"
   ]
  },
  {
   "cell_type": "code",
   "execution_count": null,
   "id": "52dccf3e",
   "metadata": {},
   "outputs": [
    {
     "name": "stdout",
     "output_type": "stream",
     "text": [
      "🚀 Starting Enhanced LightGBM Training with Optuna\n",
      "📊 Features: 10\n",
      "🎯 Target: aktiv\n",
      "📈 Dataset shape after cleaning: (877729, 11)\n",
      "🎲 Target distribution:\n",
      "aktiv\n",
      "0    0.504453\n",
      "1    0.495547\n",
      "Name: proportion, dtype: float64\n",
      "🏷️ Categorical features detected: ['state_id', 'plz_id', 'Cus_typ_id']\n"
     ]
    },
    {
     "name": "stderr",
     "output_type": "stream",
     "text": [
      "[I 2025-06-27 10:51:42,783] A new study created in memory with name: no-name-6e53db44-3fcd-4664-9166-51ccb39367d9\n"
     ]
    },
    {
     "name": "stdout",
     "output_type": "stream",
     "text": [
      "📊 Data splits:\n",
      "   Training: 703060 samples\n",
      "   Validation: 86896 samples\n",
      "   Test: 87773 samples\n",
      "\n",
      "🔍 Starting hyperparameter optimization...\n"
     ]
    },
    {
     "name": "stderr",
     "output_type": "stream",
     "text": [
      "Best trial: 0. Best value: 0.821725:   1%|          | 1/100 [00:21<36:17, 22.00s/it]"
     ]
    },
    {
     "name": "stdout",
     "output_type": "stream",
     "text": [
      "[I 2025-06-27 10:52:04,772] Trial 0 finished with value: 0.8217246514402232 and parameters: {'num_leaves': 44, 'learning_rate': 0.19063571821788408, 'feature_fraction': 0.8195981825434215, 'bagging_fraction': 0.779597545259111, 'bagging_freq': 2, 'min_child_samples': 12, 'lambda_l1': 0.2684424752877784, 'lambda_l2': 2.611910822747312, 'min_gain_to_split': 1.2022300234864176, 'max_depth': 7}. Best is trial 0 with value: 0.8217246514402232.\n",
      "⚡ Trial   0: F1 = 0.8217 | Best = 0.8217\n"
     ]
    },
    {
     "name": "stderr",
     "output_type": "stream",
     "text": [
      "Best trial: 0. Best value: 0.821725:   2%|▏         | 2/100 [00:34<26:26, 16.19s/it]"
     ]
    },
    {
     "name": "stdout",
     "output_type": "stream",
     "text": [
      "[I 2025-06-27 10:52:16,910] Trial 1 finished with value: 0.8081093586660749 and parameters: {'num_leaves': 11, 'learning_rate': 0.19428287191077892, 'feature_fraction': 0.8497327922401265, 'bagging_fraction': 0.6637017332034828, 'bagging_freq': 2, 'min_child_samples': 13, 'lambda_l1': 0.9823025045826593, 'lambda_l2': 1.6217936517334899, 'min_gain_to_split': 0.8638900372842315, 'max_depth': 4}. Best is trial 0 with value: 0.8217246514402232.\n",
      "⚡ Trial   1: F1 = 0.8081 | Best = 0.8217\n"
     ]
    },
    {
     "name": "stderr",
     "output_type": "stream",
     "text": [
      "Best trial: 0. Best value: 0.821725:   3%|▎         | 3/100 [00:43<20:55, 12.95s/it]"
     ]
    },
    {
     "name": "stdout",
     "output_type": "stream",
     "text": [
      "[I 2025-06-27 10:52:25,994] Trial 2 finished with value: 0.7867132626588543 and parameters: {'num_leaves': 65, 'learning_rate': 0.036503833523887946, 'feature_fraction': 0.6876433945605654, 'bagging_fraction': 0.7099085529881075, 'bagging_freq': 4, 'min_child_samples': 41, 'lambda_l1': 0.6790539682592432, 'lambda_l2': 1.5912798713994738, 'min_gain_to_split': 1.184829137724085, 'max_depth': 3}. Best is trial 0 with value: 0.8217246514402232.\n",
      "⚡ Trial   2: F1 = 0.7867 | Best = 0.8217\n"
     ]
    },
    {
     "name": "stderr",
     "output_type": "stream",
     "text": [
      "Best trial: 0. Best value: 0.821725:   4%|▍         | 4/100 [00:55<20:17, 12.68s/it]"
     ]
    },
    {
     "name": "stdout",
     "output_type": "stream",
     "text": [
      "[I 2025-06-27 10:52:38,253] Trial 3 finished with value: 0.8016466343261165 and parameters: {'num_leaves': 65, 'learning_rate': 0.04239958350058539, 'feature_fraction': 0.6195154778955838, 'bagging_fraction': 0.884665661176, 'bagging_freq': 7, 'min_child_samples': 42, 'lambda_l1': 0.983379930602775, 'lambda_l2': 0.3832491306185132, 'min_gain_to_split': 1.3684660530243138, 'max_depth': 5}. Best is trial 0 with value: 0.8217246514402232.\n",
      "⚡ Trial   3: F1 = 0.8016 | Best = 0.8217\n"
     ]
    },
    {
     "name": "stderr",
     "output_type": "stream",
     "text": [
      "Best trial: 0. Best value: 0.821725:   5%|▌         | 5/100 [01:04<17:51, 11.28s/it]"
     ]
    },
    {
     "name": "stdout",
     "output_type": "stream",
     "text": [
      "[I 2025-06-27 10:52:47,068] Trial 4 finished with value: 0.8040001412671524 and parameters: {'num_leaves': 21, 'learning_rate': 0.10408361292114134, 'feature_fraction': 0.6103165563345655, 'bagging_fraction': 0.8727961206236347, 'bagging_freq': 2, 'min_child_samples': 35, 'lambda_l1': 1.0039621206592917, 'lambda_l2': 1.6081972614156514, 'min_gain_to_split': 1.0934205586865593, 'max_depth': 4}. Best is trial 0 with value: 0.8217246514402232.\n",
      "⚡ Trial   4: F1 = 0.8040 | Best = 0.8217\n"
     ]
    },
    {
     "name": "stderr",
     "output_type": "stream",
     "text": [
      "Best trial: 0. Best value: 0.821725:   6%|▌         | 6/100 [01:11<15:19,  9.78s/it]"
     ]
    },
    {
     "name": "stdout",
     "output_type": "stream",
     "text": [
      "[I 2025-06-27 10:52:53,940] Trial 5 finished with value: 0.8081644160898761 and parameters: {'num_leaves': 98, 'learning_rate': 0.15727523643861177, 'feature_fraction': 0.8818496824692568, 'bagging_fraction': 0.8684482051282947, 'bagging_freq': 5, 'min_child_samples': 47, 'lambda_l1': 0.3566282559505666, 'lambda_l2': 0.6683503010155211, 'min_gain_to_split': 0.09045457782107613, 'max_depth': 4}. Best is trial 0 with value: 0.8217246514402232.\n",
      "⚡ Trial   5: F1 = 0.8082 | Best = 0.8217\n"
     ]
    },
    {
     "name": "stderr",
     "output_type": "stream",
     "text": [
      "Best trial: 0. Best value: 0.821725:   7%|▋         | 7/100 [01:21<15:21,  9.91s/it]"
     ]
    },
    {
     "name": "stdout",
     "output_type": "stream",
     "text": [
      "[I 2025-06-27 10:53:04,119] Trial 6 finished with value: 0.8127616987403838 and parameters: {'num_leaves': 45, 'learning_rate': 0.061556316037040225, 'feature_fraction': 0.8486212527455788, 'bagging_fraction': 0.7070259980080768, 'bagging_freq': 2, 'min_child_samples': 29, 'lambda_l1': 0.5086802524268117, 'lambda_l2': 2.426371244186715, 'min_gain_to_split': 0.14910128735954165, 'max_depth': 8}. Best is trial 0 with value: 0.8217246514402232.\n",
      "⚡ Trial   6: F1 = 0.8128 | Best = 0.8217\n"
     ]
    },
    {
     "name": "stderr",
     "output_type": "stream",
     "text": [
      "Best trial: 0. Best value: 0.821725:   8%|▊         | 8/100 [01:27<13:07,  8.56s/it]"
     ]
    },
    {
     "name": "stdout",
     "output_type": "stream",
     "text": [
      "[I 2025-06-27 10:53:09,797] Trial 7 finished with value: 0.789063130938445 and parameters: {'num_leaves': 80, 'learning_rate': 0.04775597949149276, 'feature_fraction': 0.6016566351370807, 'bagging_fraction': 0.8446384285364503, 'bagging_freq': 5, 'min_child_samples': 38, 'lambda_l1': 2.336684005389243, 'lambda_l2': 0.3147294900288621, 'min_gain_to_split': 0.7169314570885452, 'max_depth': 3}. Best is trial 0 with value: 0.8217246514402232.\n",
      "⚡ Trial   7: F1 = 0.7891 | Best = 0.8217\n"
     ]
    },
    {
     "name": "stderr",
     "output_type": "stream",
     "text": [
      "Best trial: 0. Best value: 0.821725:   9%|▉         | 9/100 [01:33<12:03,  7.95s/it]"
     ]
    },
    {
     "name": "stdout",
     "output_type": "stream",
     "text": [
      "[I 2025-06-27 10:53:16,394] Trial 8 finished with value: 0.809891586689858 and parameters: {'num_leaves': 88, 'learning_rate': 0.128426644097236, 'feature_fraction': 0.6992694074557948, 'bagging_fraction': 0.6190675050858071, 'bagging_freq': 3, 'min_child_samples': 19, 'lambda_l1': 2.215857917180386, 'lambda_l2': 1.9489166669301181, 'min_gain_to_split': 1.774425485152653, 'max_depth': 5}. Best is trial 0 with value: 0.8217246514402232.\n",
      "⚡ Trial   8: F1 = 0.8099 | Best = 0.8217\n"
     ]
    },
    {
     "name": "stderr",
     "output_type": "stream",
     "text": [
      "Best trial: 0. Best value: 0.821725:  10%|█         | 10/100 [01:38<10:29,  6.99s/it]"
     ]
    },
    {
     "name": "stdout",
     "output_type": "stream",
     "text": [
      "[I 2025-06-27 10:53:21,248] Trial 9 finished with value: 0.8025327540527135 and parameters: {'num_leaves': 20, 'learning_rate': 0.14551650957236906, 'feature_fraction': 0.8282355145850693, 'bagging_fraction': 0.7683831592708489, 'bagging_freq': 6, 'min_child_samples': 27, 'lambda_l1': 1.6159252052077828, 'lambda_l2': 1.339868953239794, 'min_gain_to_split': 0.05083825348819038, 'max_depth': 3}. Best is trial 0 with value: 0.8217246514402232.\n",
      "⚡ Trial   9: F1 = 0.8025 | Best = 0.8217\n"
     ]
    },
    {
     "name": "stderr",
     "output_type": "stream",
     "text": [
      "Best trial: 0. Best value: 0.821725:  11%|█         | 11/100 [01:45<10:22,  6.99s/it]"
     ]
    },
    {
     "name": "stdout",
     "output_type": "stream",
     "text": [
      "[I 2025-06-27 10:53:28,240] Trial 10 finished with value: 0.81657150628908 and parameters: {'num_leaves': 44, 'learning_rate': 0.18724377998959227, 'feature_fraction': 0.7777093115363782, 'bagging_fraction': 0.7962507917821569, 'bagging_freq': 1, 'min_child_samples': 6, 'lambda_l1': 2.8833351632417186, 'lambda_l2': 2.930805709588186, 'min_gain_to_split': 1.8939237527802988, 'max_depth': 8}. Best is trial 0 with value: 0.8217246514402232.\n",
      "⚡ Trial  10: F1 = 0.8166 | Best = 0.8217\n"
     ]
    },
    {
     "name": "stderr",
     "output_type": "stream",
     "text": [
      "Best trial: 0. Best value: 0.821725:  12%|█▏        | 12/100 [01:51<10:02,  6.85s/it]"
     ]
    },
    {
     "name": "stdout",
     "output_type": "stream",
     "text": [
      "[I 2025-06-27 10:53:34,764] Trial 11 finished with value: 0.8159389722289269 and parameters: {'num_leaves': 41, 'learning_rate': 0.18970384679500554, 'feature_fraction': 0.7831899423567357, 'bagging_fraction': 0.794014447590537, 'bagging_freq': 1, 'min_child_samples': 5, 'lambda_l1': 2.9737559306422403, 'lambda_l2': 2.996930753720212, 'min_gain_to_split': 1.8993202484538119, 'max_depth': 8}. Best is trial 0 with value: 0.8217246514402232.\n",
      "⚡ Trial  11: F1 = 0.8159 | Best = 0.8217\n"
     ]
    },
    {
     "name": "stderr",
     "output_type": "stream",
     "text": [
      "Best trial: 0. Best value: 0.821725:  13%|█▎        | 13/100 [01:59<10:06,  6.97s/it]"
     ]
    },
    {
     "name": "stdout",
     "output_type": "stream",
     "text": [
      "[I 2025-06-27 10:53:42,020] Trial 12 finished with value: 0.8180905703375685 and parameters: {'num_leaves': 38, 'learning_rate': 0.17311077285988852, 'feature_fraction': 0.7827221590301234, 'bagging_fraction': 0.8072736437500273, 'bagging_freq': 1, 'min_child_samples': 6, 'lambda_l1': 1.7587870290663785, 'lambda_l2': 2.9884479420675634, 'min_gain_to_split': 1.4306523474491086, 'max_depth': 7}. Best is trial 0 with value: 0.8217246514402232.\n",
      "⚡ Trial  12: F1 = 0.8181 | Best = 0.8217\n"
     ]
    },
    {
     "name": "stderr",
     "output_type": "stream",
     "text": [
      "Best trial: 0. Best value: 0.821725:  14%|█▍        | 14/100 [02:08<11:00,  7.68s/it]"
     ]
    },
    {
     "name": "stdout",
     "output_type": "stream",
     "text": [
      "[I 2025-06-27 10:53:51,334] Trial 13 finished with value: 0.8116409108328746 and parameters: {'num_leaves': 32, 'learning_rate': 0.08921567558222511, 'feature_fraction': 0.735389855487743, 'bagging_fraction': 0.8226888948303281, 'bagging_freq': 3, 'min_child_samples': 15, 'lambda_l1': 1.6505763915516118, 'lambda_l2': 2.3560489080210436, 'min_gain_to_split': 1.511556899151709, 'max_depth': 7}. Best is trial 0 with value: 0.8217246514402232.\n",
      "⚡ Trial  13: F1 = 0.8116 | Best = 0.8217\n"
     ]
    },
    {
     "name": "stderr",
     "output_type": "stream",
     "text": [
      "Best trial: 14. Best value: 0.823705:  15%|█▌        | 15/100 [02:16<11:07,  7.85s/it]"
     ]
    },
    {
     "name": "stdout",
     "output_type": "stream",
     "text": [
      "[I 2025-06-27 10:53:59,593] Trial 14 finished with value: 0.8237050766709353 and parameters: {'num_leaves': 59, 'learning_rate': 0.16322151712406838, 'feature_fraction': 0.7996282122617545, 'bagging_fraction': 0.7393172740640864, 'bagging_freq': 1, 'min_child_samples': 12, 'lambda_l1': 2.019133622390162, 'lambda_l2': 2.5255624439360393, 'min_gain_to_split': 0.5913861016719708, 'max_depth': 7}. Best is trial 14 with value: 0.8237050766709353.\n",
      "⚡ Trial  14: F1 = 0.8237 | Best = 0.8237\n"
     ]
    },
    {
     "name": "stderr",
     "output_type": "stream",
     "text": [
      "Best trial: 14. Best value: 0.823705:  16%|█▌        | 16/100 [02:25<11:13,  8.01s/it]"
     ]
    },
    {
     "name": "stdout",
     "output_type": "stream",
     "text": [
      "[I 2025-06-27 10:54:07,974] Trial 15 finished with value: 0.816047218103023 and parameters: {'num_leaves': 61, 'learning_rate': 0.13423755963456926, 'feature_fraction': 0.8993794670696741, 'bagging_fraction': 0.7316966231477721, 'bagging_freq': 3, 'min_child_samples': 22, 'lambda_l1': 0.16576175225274437, 'lambda_l2': 2.417212196205198, 'min_gain_to_split': 0.5101141384277922, 'max_depth': 6}. Best is trial 14 with value: 0.8237050766709353.\n",
      "⚡ Trial  15: F1 = 0.8160 | Best = 0.8237\n"
     ]
    },
    {
     "name": "stderr",
     "output_type": "stream",
     "text": [
      "Best trial: 16. Best value: 0.825106:  17%|█▋        | 17/100 [02:34<11:38,  8.41s/it]"
     ]
    },
    {
     "name": "stdout",
     "output_type": "stream",
     "text": [
      "[I 2025-06-27 10:54:17,310] Trial 16 finished with value: 0.8251055708559606 and parameters: {'num_leaves': 75, 'learning_rate': 0.16392483409401593, 'feature_fraction': 0.8142866147567633, 'bagging_fraction': 0.7568971810492274, 'bagging_freq': 2, 'min_child_samples': 12, 'lambda_l1': 2.1255998085149894, 'lambda_l2': 2.1000558331141255, 'min_gain_to_split': 0.4659806200742789, 'max_depth': 7}. Best is trial 16 with value: 0.8251055708559606.\n",
      "⚡ Trial  16: F1 = 0.8251 | Best = 0.8251\n"
     ]
    },
    {
     "name": "stderr",
     "output_type": "stream",
     "text": [
      "Best trial: 16. Best value: 0.825106:  18%|█▊        | 18/100 [02:41<11:00,  8.06s/it]"
     ]
    },
    {
     "name": "stdout",
     "output_type": "stream",
     "text": [
      "[I 2025-06-27 10:54:24,546] Trial 17 finished with value: 0.8174408142932865 and parameters: {'num_leaves': 78, 'learning_rate': 0.1613309508989999, 'feature_fraction': 0.7319186736346895, 'bagging_fraction': 0.6682070497762976, 'bagging_freq': 1, 'min_child_samples': 21, 'lambda_l1': 2.1300925106657327, 'lambda_l2': 2.002527119822456, 'min_gain_to_split': 0.41430173078648624, 'max_depth': 6}. Best is trial 16 with value: 0.8251055708559606.\n",
      "⚡ Trial  17: F1 = 0.8174 | Best = 0.8251\n"
     ]
    },
    {
     "name": "stderr",
     "output_type": "stream",
     "text": [
      "Best trial: 16. Best value: 0.825106:  19%|█▉        | 19/100 [02:51<11:22,  8.42s/it]"
     ]
    },
    {
     "name": "stdout",
     "output_type": "stream",
     "text": [
      "[I 2025-06-27 10:54:33,824] Trial 18 finished with value: 0.8193084907523712 and parameters: {'num_leaves': 74, 'learning_rate': 0.12003546958158995, 'feature_fraction': 0.8065497086750016, 'bagging_fraction': 0.7399151434696863, 'bagging_freq': 4, 'min_child_samples': 11, 'lambda_l1': 2.622133354603304, 'lambda_l2': 1.1669727694822267, 'min_gain_to_split': 0.4094732470470681, 'max_depth': 7}. Best is trial 16 with value: 0.8251055708559606.\n",
      "⚡ Trial  18: F1 = 0.8193 | Best = 0.8251\n"
     ]
    },
    {
     "name": "stderr",
     "output_type": "stream",
     "text": [
      "Best trial: 16. Best value: 0.825106:  20%|██        | 20/100 [02:59<11:07,  8.34s/it]"
     ]
    },
    {
     "name": "stdout",
     "output_type": "stream",
     "text": [
      "[I 2025-06-27 10:54:41,978] Trial 19 finished with value: 0.8117105812345784 and parameters: {'num_leaves': 54, 'learning_rate': 0.08345953515390764, 'feature_fraction': 0.7556476162459863, 'bagging_fraction': 0.677610919972705, 'bagging_freq': 3, 'min_child_samples': 28, 'lambda_l1': 1.9842070028338952, 'lambda_l2': 2.0060005425239744, 'min_gain_to_split': 0.6781843854432417, 'max_depth': 6}. Best is trial 16 with value: 0.8251055708559606.\n",
      "⚡ Trial  19: F1 = 0.8117 | Best = 0.8251\n"
     ]
    },
    {
     "name": "stderr",
     "output_type": "stream",
     "text": [
      "Best trial: 20. Best value: 0.825172:  21%|██        | 21/100 [03:08<11:15,  8.55s/it]"
     ]
    },
    {
     "name": "stdout",
     "output_type": "stream",
     "text": [
      "[I 2025-06-27 10:54:51,013] Trial 20 finished with value: 0.8251722664775333 and parameters: {'num_leaves': 96, 'learning_rate': 0.1681943631050224, 'feature_fraction': 0.8622454922526357, 'bagging_fraction': 0.6014776266857917, 'bagging_freq': 2, 'min_child_samples': 18, 'lambda_l1': 2.5731983150945563, 'lambda_l2': 2.6480183190907964, 'min_gain_to_split': 0.28110088405309686, 'max_depth': 7}. Best is trial 20 with value: 0.8251722664775333.\n",
      "⚡ Trial  20: F1 = 0.8252 | Best = 0.8252\n"
     ]
    },
    {
     "name": "stderr",
     "output_type": "stream",
     "text": [
      "Best trial: 20. Best value: 0.825172:  22%|██▏       | 22/100 [03:17<11:31,  8.86s/it]"
     ]
    },
    {
     "name": "stdout",
     "output_type": "stream",
     "text": [
      "[I 2025-06-27 10:55:00,596] Trial 21 finished with value: 0.825160148929568 and parameters: {'num_leaves': 100, 'learning_rate': 0.16511008962975093, 'feature_fraction': 0.868514537603807, 'bagging_fraction': 0.6213011299341776, 'bagging_freq': 2, 'min_child_samples': 17, 'lambda_l1': 2.4589106269210723, 'lambda_l2': 2.578620878696033, 'min_gain_to_split': 0.317527620455451, 'max_depth': 7}. Best is trial 20 with value: 0.8251722664775333.\n",
      "⚡ Trial  21: F1 = 0.8252 | Best = 0.8252\n"
     ]
    },
    {
     "name": "stderr",
     "output_type": "stream",
     "text": [
      "Best trial: 22. Best value: 0.833464:  23%|██▎       | 23/100 [03:27<11:45,  9.17s/it]"
     ]
    },
    {
     "name": "stdout",
     "output_type": "stream",
     "text": [
      "[I 2025-06-27 10:55:10,476] Trial 22 finished with value: 0.8334641196640472 and parameters: {'num_leaves': 100, 'learning_rate': 0.17465108814125163, 'feature_fraction': 0.8689927786519993, 'bagging_fraction': 0.6012759155363465, 'bagging_freq': 2, 'min_child_samples': 19, 'lambda_l1': 2.453836458999568, 'lambda_l2': 2.729799169855729, 'min_gain_to_split': 0.2614865594922101, 'max_depth': 8}. Best is trial 22 with value: 0.8334641196640472.\n",
      "⚡ Trial  22: F1 = 0.8335 | Best = 0.8335\n"
     ]
    },
    {
     "name": "stderr",
     "output_type": "stream",
     "text": [
      "Best trial: 22. Best value: 0.833464:  24%|██▍       | 24/100 [03:38<12:22,  9.76s/it]"
     ]
    },
    {
     "name": "stdout",
     "output_type": "stream",
     "text": [
      "[I 2025-06-27 10:55:21,635] Trial 23 finished with value: 0.8071006979699948 and parameters: {'num_leaves': 100, 'learning_rate': 0.01600811451606149, 'feature_fraction': 0.8695917876231107, 'bagging_fraction': 0.60365478093392, 'bagging_freq': 3, 'min_child_samples': 24, 'lambda_l1': 2.5776514928794843, 'lambda_l2': 2.7301222492486814, 'min_gain_to_split': 0.2564518454325672, 'max_depth': 8}. Best is trial 22 with value: 0.8334641196640472.\n",
      "⚡ Trial  23: F1 = 0.8071 | Best = 0.8335\n"
     ]
    },
    {
     "name": "stderr",
     "output_type": "stream",
     "text": [
      "Best trial: 22. Best value: 0.833464:  25%|██▌       | 25/100 [03:48<12:19,  9.86s/it]"
     ]
    },
    {
     "name": "stdout",
     "output_type": "stream",
     "text": [
      "[I 2025-06-27 10:55:31,732] Trial 24 finished with value: 0.8292185863971633 and parameters: {'num_leaves': 90, 'learning_rate': 0.142549415160547, 'feature_fraction': 0.8596160870445, 'bagging_fraction': 0.6333390436658121, 'bagging_freq': 2, 'min_child_samples': 17, 'lambda_l1': 2.5065305563170726, 'lambda_l2': 2.7312032498944467, 'min_gain_to_split': 0.2664564297913512, 'max_depth': 8}. Best is trial 22 with value: 0.8334641196640472.\n",
      "⚡ Trial  24: F1 = 0.8292 | Best = 0.8335\n"
     ]
    },
    {
     "name": "stderr",
     "output_type": "stream",
     "text": [
      "Best trial: 22. Best value: 0.833464:  26%|██▌       | 26/100 [03:58<12:04,  9.79s/it]"
     ]
    },
    {
     "name": "stdout",
     "output_type": "stream",
     "text": [
      "[I 2025-06-27 10:55:41,344] Trial 25 finished with value: 0.823859090738683 and parameters: {'num_leaves': 91, 'learning_rate': 0.14344674596104282, 'feature_fraction': 0.8441221984886723, 'bagging_fraction': 0.6435856710303259, 'bagging_freq': 4, 'min_child_samples': 25, 'lambda_l1': 2.677031838643015, 'lambda_l2': 2.211273623943159, 'min_gain_to_split': 0.8809729309184768, 'max_depth': 8}. Best is trial 22 with value: 0.8334641196640472.\n",
      "⚡ Trial  25: F1 = 0.8239 | Best = 0.8335\n"
     ]
    },
    {
     "name": "stderr",
     "output_type": "stream",
     "text": [
      "Best trial: 22. Best value: 0.833464:  27%|██▋       | 27/100 [04:08<11:57,  9.83s/it]"
     ]
    },
    {
     "name": "stdout",
     "output_type": "stream",
     "text": [
      "[I 2025-06-27 10:55:51,278] Trial 26 finished with value: 0.8231095626460574 and parameters: {'num_leaves': 88, 'learning_rate': 0.11462946465828006, 'feature_fraction': 0.895562324271082, 'bagging_fraction': 0.6007037226292646, 'bagging_freq': 3, 'min_child_samples': 32, 'lambda_l1': 2.8603484680389752, 'lambda_l2': 2.7744221035990098, 'min_gain_to_split': 0.23727778337621225, 'max_depth': 8}. Best is trial 22 with value: 0.8334641196640472.\n",
      "⚡ Trial  26: F1 = 0.8231 | Best = 0.8335\n"
     ]
    },
    {
     "name": "stderr",
     "output_type": "stream",
     "text": [
      "Best trial: 22. Best value: 0.833464:  28%|██▊       | 28/100 [04:18<11:46,  9.81s/it]"
     ]
    },
    {
     "name": "stdout",
     "output_type": "stream",
     "text": [
      "[I 2025-06-27 10:56:01,030] Trial 27 finished with value: 0.8326164887564431 and parameters: {'num_leaves': 93, 'learning_rate': 0.17526159813118194, 'feature_fraction': 0.8664968295109315, 'bagging_fraction': 0.6380111374182745, 'bagging_freq': 2, 'min_child_samples': 17, 'lambda_l1': 2.3956562966079757, 'lambda_l2': 2.7805752905102743, 'min_gain_to_split': 0.020696877938192637, 'max_depth': 8}. Best is trial 22 with value: 0.8334641196640472.\n",
      "⚡ Trial  27: F1 = 0.8326 | Best = 0.8335\n"
     ]
    },
    {
     "name": "stderr",
     "output_type": "stream",
     "text": [
      "Best trial: 22. Best value: 0.833464:  29%|██▉       | 29/100 [04:27<11:26,  9.67s/it]"
     ]
    },
    {
     "name": "stdout",
     "output_type": "stream",
     "text": [
      "[I 2025-06-27 10:56:10,372] Trial 28 finished with value: 0.8302231472207757 and parameters: {'num_leaves': 85, 'learning_rate': 0.17897323802881396, 'feature_fraction': 0.835244695374324, 'bagging_fraction': 0.6383154585920003, 'bagging_freq': 5, 'min_child_samples': 21, 'lambda_l1': 1.8189283282643147, 'lambda_l2': 2.231560921098382, 'min_gain_to_split': 0.03756496558344055, 'max_depth': 8}. Best is trial 22 with value: 0.8334641196640472.\n",
      "⚡ Trial  28: F1 = 0.8302 | Best = 0.8335\n"
     ]
    },
    {
     "name": "stderr",
     "output_type": "stream",
     "text": [
      "Best trial: 22. Best value: 0.833464:  30%|███       | 30/100 [04:37<11:23,  9.76s/it]"
     ]
    },
    {
     "name": "stdout",
     "output_type": "stream",
     "text": [
      "[I 2025-06-27 10:56:20,340] Trial 29 finished with value: 0.8302506214062765 and parameters: {'num_leaves': 82, 'learning_rate': 0.1778039420047242, 'feature_fraction': 0.8336755616311213, 'bagging_fraction': 0.6517289145694263, 'bagging_freq': 5, 'min_child_samples': 22, 'lambda_l1': 1.3974725181886638, 'lambda_l2': 2.212692609384121, 'min_gain_to_split': 0.01806498088540424, 'max_depth': 8}. Best is trial 22 with value: 0.8334641196640472.\n",
      "⚡ Trial  29: F1 = 0.8303 | Best = 0.8335\n"
     ]
    },
    {
     "name": "stderr",
     "output_type": "stream",
     "text": [
      "Best trial: 22. Best value: 0.833464:  31%|███       | 31/100 [04:46<10:51,  9.45s/it]"
     ]
    },
    {
     "name": "stdout",
     "output_type": "stream",
     "text": [
      "[I 2025-06-27 10:56:29,057] Trial 30 finished with value: 0.8200333965235557 and parameters: {'num_leaves': 82, 'learning_rate': 0.19616513522079856, 'feature_fraction': 0.883273260525318, 'bagging_fraction': 0.6997084021069994, 'bagging_freq': 6, 'min_child_samples': 9, 'lambda_l1': 1.3350365552692562, 'lambda_l2': 1.8182731129876981, 'min_gain_to_split': 0.0036360104695015473, 'max_depth': 6}. Best is trial 22 with value: 0.8334641196640472.\n",
      "⚡ Trial  30: F1 = 0.8200 | Best = 0.8335\n"
     ]
    },
    {
     "name": "stderr",
     "output_type": "stream",
     "text": [
      "Best trial: 22. Best value: 0.833464:  32%|███▏      | 32/100 [04:55<10:40,  9.42s/it]"
     ]
    },
    {
     "name": "stdout",
     "output_type": "stream",
     "text": [
      "[I 2025-06-27 10:56:38,429] Trial 31 finished with value: 0.8319079460903526 and parameters: {'num_leaves': 84, 'learning_rate': 0.18110561982014386, 'feature_fraction': 0.8235034898682231, 'bagging_fraction': 0.6494829235554274, 'bagging_freq': 6, 'min_child_samples': 21, 'lambda_l1': 1.4098316345990876, 'lambda_l2': 2.2227590349908404, 'min_gain_to_split': 0.003954832686124756, 'max_depth': 8}. Best is trial 22 with value: 0.8334641196640472.\n",
      "⚡ Trial  31: F1 = 0.8319 | Best = 0.8335\n"
     ]
    },
    {
     "name": "stderr",
     "output_type": "stream",
     "text": [
      "Best trial: 22. Best value: 0.833464:  33%|███▎      | 33/100 [05:05<10:45,  9.63s/it]"
     ]
    },
    {
     "name": "stdout",
     "output_type": "stream",
     "text": [
      "[I 2025-06-27 10:56:48,556] Trial 32 finished with value: 0.83065382358495 and parameters: {'num_leaves': 93, 'learning_rate': 0.18049532445950012, 'feature_fraction': 0.8251089047522002, 'bagging_fraction': 0.6544971534419848, 'bagging_freq': 6, 'min_child_samples': 24, 'lambda_l1': 1.3507451677309228, 'lambda_l2': 2.274870135631525, 'min_gain_to_split': 0.133623106681718, 'max_depth': 8}. Best is trial 22 with value: 0.8334641196640472.\n",
      "⚡ Trial  32: F1 = 0.8307 | Best = 0.8335\n"
     ]
    },
    {
     "name": "stderr",
     "output_type": "stream",
     "text": [
      "Best trial: 22. Best value: 0.833464:  34%|███▍      | 34/100 [05:15<10:46,  9.79s/it]"
     ]
    },
    {
     "name": "stdout",
     "output_type": "stream",
     "text": [
      "[I 2025-06-27 10:56:58,711] Trial 33 finished with value: 0.8327200083226326 and parameters: {'num_leaves': 93, 'learning_rate': 0.1841076277902802, 'feature_fraction': 0.8223788414745513, 'bagging_fraction': 0.6823551417505713, 'bagging_freq': 7, 'min_child_samples': 32, 'lambda_l1': 1.2542031173991264, 'lambda_l2': 1.8307230351112094, 'min_gain_to_split': 0.173033881238156, 'max_depth': 8}. Best is trial 22 with value: 0.8334641196640472.\n",
      "⚡ Trial  33: F1 = 0.8327 | Best = 0.8335\n"
     ]
    },
    {
     "name": "stderr",
     "output_type": "stream",
     "text": [
      "Best trial: 22. Best value: 0.833464:  35%|███▌      | 35/100 [05:26<10:51, 10.02s/it]"
     ]
    },
    {
     "name": "stdout",
     "output_type": "stream",
     "text": [
      "[I 2025-06-27 10:57:09,269] Trial 34 finished with value: 0.8329557331782476 and parameters: {'num_leaves': 72, 'learning_rate': 0.19814592744290643, 'feature_fraction': 0.7945152864969889, 'bagging_fraction': 0.6833684969148336, 'bagging_freq': 7, 'min_child_samples': 30, 'lambda_l1': 1.1733787201197292, 'lambda_l2': 1.8251676116196416, 'min_gain_to_split': 0.15824463205303674, 'max_depth': 8}. Best is trial 22 with value: 0.8334641196640472.\n",
      "⚡ Trial  34: F1 = 0.8330 | Best = 0.8335\n"
     ]
    },
    {
     "name": "stderr",
     "output_type": "stream",
     "text": [
      "Best trial: 22. Best value: 0.833464:  36%|███▌      | 36/100 [05:35<10:14,  9.60s/it]"
     ]
    },
    {
     "name": "stdout",
     "output_type": "stream",
     "text": [
      "[I 2025-06-27 10:57:17,882] Trial 35 finished with value: 0.8279972748990437 and parameters: {'num_leaves': 72, 'learning_rate': 0.19507880662686797, 'feature_fraction': 0.7972748205903438, 'bagging_fraction': 0.6836608177912583, 'bagging_freq': 7, 'min_child_samples': 33, 'lambda_l1': 1.1768824764242736, 'lambda_l2': 1.026492278709862, 'min_gain_to_split': 0.1651798289964889, 'max_depth': 7}. Best is trial 22 with value: 0.8334641196640472.\n",
      "⚡ Trial  35: F1 = 0.8280 | Best = 0.8335\n"
     ]
    },
    {
     "name": "stderr",
     "output_type": "stream",
     "text": [
      "Best trial: 22. Best value: 0.833464:  37%|███▋      | 37/100 [05:43<09:46,  9.31s/it]"
     ]
    },
    {
     "name": "stdout",
     "output_type": "stream",
     "text": [
      "[I 2025-06-27 10:57:26,507] Trial 36 finished with value: 0.8285467857347136 and parameters: {'num_leaves': 71, 'learning_rate': 0.1986413575449538, 'feature_fraction': 0.7644596033613716, 'bagging_fraction': 0.6877078138900674, 'bagging_freq': 7, 'min_child_samples': 32, 'lambda_l1': 1.0774556940236981, 'lambda_l2': 1.749571329617622, 'min_gain_to_split': 0.3506095911139183, 'max_depth': 7}. Best is trial 22 with value: 0.8334641196640472.\n",
      "⚡ Trial  36: F1 = 0.8285 | Best = 0.8335\n"
     ]
    },
    {
     "name": "stderr",
     "output_type": "stream",
     "text": [
      "Best trial: 37. Best value: 0.833495:  38%|███▊      | 38/100 [05:54<10:12,  9.88s/it]"
     ]
    },
    {
     "name": "stdout",
     "output_type": "stream",
     "text": [
      "[I 2025-06-27 10:57:37,706] Trial 37 finished with value: 0.8334948019748462 and parameters: {'num_leaves': 95, 'learning_rate': 0.19986364169234963, 'feature_fraction': 0.6532787710164852, 'bagging_fraction': 0.7159584123728306, 'bagging_freq': 7, 'min_child_samples': 37, 'lambda_l1': 0.8025055572736168, 'lambda_l2': 1.5352957585437774, 'min_gain_to_split': 0.5469696745156003, 'max_depth': 8}. Best is trial 37 with value: 0.8334948019748462.\n",
      "⚡ Trial  37: F1 = 0.8335 | Best = 0.8335\n"
     ]
    },
    {
     "name": "stderr",
     "output_type": "stream",
     "text": [
      "Best trial: 37. Best value: 0.833495:  39%|███▉      | 39/100 [06:05<10:21, 10.19s/it]"
     ]
    },
    {
     "name": "stdout",
     "output_type": "stream",
     "text": [
      "[I 2025-06-27 10:57:48,613] Trial 38 finished with value: 0.8108533464310375 and parameters: {'num_leaves': 66, 'learning_rate': 0.14912214828918952, 'feature_fraction': 0.6634073410847846, 'bagging_fraction': 0.7184913084415353, 'bagging_freq': 7, 'min_child_samples': 38, 'lambda_l1': 0.8431617585072568, 'lambda_l2': 1.4673177270533955, 'min_gain_to_split': 0.9391081514431616, 'max_depth': 5}. Best is trial 37 with value: 0.8334948019748462.\n",
      "⚡ Trial  38: F1 = 0.8109 | Best = 0.8335\n"
     ]
    },
    {
     "name": "stderr",
     "output_type": "stream",
     "text": [
      "Best trial: 37. Best value: 0.833495:  40%|████      | 40/100 [06:18<11:00, 11.01s/it]"
     ]
    },
    {
     "name": "stdout",
     "output_type": "stream",
     "text": [
      "[I 2025-06-27 10:58:01,545] Trial 39 finished with value: 0.8322186246474789 and parameters: {'num_leaves': 96, 'learning_rate': 0.19886417810675608, 'feature_fraction': 0.6592826977621242, 'bagging_fraction': 0.7162554572470243, 'bagging_freq': 7, 'min_child_samples': 40, 'lambda_l1': 0.7173124214094526, 'lambda_l2': 0.8732206840790964, 'min_gain_to_split': 0.7379431479631614, 'max_depth': 8}. Best is trial 37 with value: 0.8334948019748462.\n",
      "⚡ Trial  39: F1 = 0.8322 | Best = 0.8335\n"
     ]
    },
    {
     "name": "stderr",
     "output_type": "stream",
     "text": [
      "Best trial: 37. Best value: 0.833495:  41%|████      | 41/100 [06:28<10:30, 10.68s/it]"
     ]
    },
    {
     "name": "stdout",
     "output_type": "stream",
     "text": [
      "[I 2025-06-27 10:58:11,467] Trial 40 finished with value: 0.8198925937539148 and parameters: {'num_leaves': 87, 'learning_rate': 0.1552954357212955, 'feature_fraction': 0.6280856731413678, 'bagging_fraction': 0.6973997004456237, 'bagging_freq': 6, 'min_child_samples': 45, 'lambda_l1': 0.5570959034758065, 'lambda_l2': 1.4350888838249045, 'min_gain_to_split': 0.557532519923044, 'max_depth': 7}. Best is trial 37 with value: 0.8334948019748462.\n",
      "⚡ Trial  40: F1 = 0.8199 | Best = 0.8335\n"
     ]
    },
    {
     "name": "stderr",
     "output_type": "stream",
     "text": [
      "Best trial: 37. Best value: 0.833495:  42%|████▏     | 42/100 [06:39<10:26, 10.80s/it]"
     ]
    },
    {
     "name": "stdout",
     "output_type": "stream",
     "text": [
      "[I 2025-06-27 10:58:22,553] Trial 41 finished with value: 0.8315001609626246 and parameters: {'num_leaves': 94, 'learning_rate': 0.1846733290422163, 'feature_fraction': 0.7003763436740617, 'bagging_fraction': 0.6703528821288329, 'bagging_freq': 7, 'min_child_samples': 35, 'lambda_l1': 0.8687328654516238, 'lambda_l2': 1.785880432805517, 'min_gain_to_split': 0.16236115931976824, 'max_depth': 8}. Best is trial 37 with value: 0.8334948019748462.\n",
      "⚡ Trial  41: F1 = 0.8315 | Best = 0.8335\n"
     ]
    },
    {
     "name": "stderr",
     "output_type": "stream",
     "text": [
      "Best trial: 37. Best value: 0.833495:  43%|████▎     | 43/100 [06:50<10:11, 10.73s/it]"
     ]
    },
    {
     "name": "stdout",
     "output_type": "stream",
     "text": [
      "[I 2025-06-27 10:58:33,098] Trial 42 finished with value: 0.8302309099532409 and parameters: {'num_leaves': 92, 'learning_rate': 0.17245891305683392, 'feature_fraction': 0.8463335942387545, 'bagging_fraction': 0.6238682413051666, 'bagging_freq': 7, 'min_child_samples': 29, 'lambda_l1': 1.207382282372828, 'lambda_l2': 1.2760945683298222, 'min_gain_to_split': 0.1797114027863947, 'max_depth': 8}. Best is trial 37 with value: 0.8334948019748462.\n",
      "⚡ Trial  42: F1 = 0.8302 | Best = 0.8335\n"
     ]
    },
    {
     "name": "stderr",
     "output_type": "stream",
     "text": [
      "Best trial: 37. Best value: 0.833495:  44%|████▍     | 44/100 [07:00<09:55, 10.64s/it]"
     ]
    },
    {
     "name": "stdout",
     "output_type": "stream",
     "text": [
      "[I 2025-06-27 10:58:43,540] Trial 43 finished with value: 0.8327583094810945 and parameters: {'num_leaves': 96, 'learning_rate': 0.18829677881769696, 'feature_fraction': 0.8793074228091217, 'bagging_fraction': 0.6641758843171228, 'bagging_freq': 6, 'min_child_samples': 50, 'lambda_l1': 0.905520153188514, 'lambda_l2': 1.6362068020380498, 'min_gain_to_split': 0.373284639263294, 'max_depth': 8}. Best is trial 37 with value: 0.8334948019748462.\n",
      "⚡ Trial  43: F1 = 0.8328 | Best = 0.8335\n"
     ]
    },
    {
     "name": "stderr",
     "output_type": "stream",
     "text": [
      "Best trial: 37. Best value: 0.833495:  45%|████▌     | 45/100 [07:09<09:11, 10.03s/it]"
     ]
    },
    {
     "name": "stdout",
     "output_type": "stream",
     "text": [
      "[I 2025-06-27 10:58:52,156] Trial 44 finished with value: 0.8256063783153773 and parameters: {'num_leaves': 100, 'learning_rate': 0.18937957406345995, 'feature_fraction': 0.880262100966437, 'bagging_fraction': 0.6623021516291251, 'bagging_freq': 6, 'min_child_samples': 50, 'lambda_l1': 0.42339000458878906, 'lambda_l2': 1.6168511080011565, 'min_gain_to_split': 1.0873246624271742, 'max_depth': 8}. Best is trial 37 with value: 0.8334948019748462.\n",
      "⚡ Trial  44: F1 = 0.8256 | Best = 0.8335\n"
     ]
    },
    {
     "name": "stderr",
     "output_type": "stream",
     "text": [
      "Best trial: 37. Best value: 0.833495:  46%|████▌     | 46/100 [07:20<09:12, 10.24s/it]"
     ]
    },
    {
     "name": "stdout",
     "output_type": "stream",
     "text": [
      "[I 2025-06-27 10:59:02,875] Trial 45 finished with value: 0.8292117330479742 and parameters: {'num_leaves': 78, 'learning_rate': 0.18802285826355702, 'feature_fraction': 0.7373080577256289, 'bagging_fraction': 0.6914563172629282, 'bagging_freq': 7, 'min_child_samples': 44, 'lambda_l1': 0.9031694445192898, 'lambda_l2': 1.685992590277945, 'min_gain_to_split': 0.6495111868801186, 'max_depth': 8}. Best is trial 37 with value: 0.8334948019748462.\n",
      "⚡ Trial  45: F1 = 0.8292 | Best = 0.8335\n"
     ]
    },
    {
     "name": "stderr",
     "output_type": "stream",
     "text": [
      "Best trial: 37. Best value: 0.833495:  47%|████▋     | 47/100 [07:29<08:44,  9.89s/it]"
     ]
    },
    {
     "name": "stdout",
     "output_type": "stream",
     "text": [
      "[I 2025-06-27 10:59:11,938] Trial 46 finished with value: 0.8074802965375635 and parameters: {'num_leaves': 51, 'learning_rate': 0.1995860856468376, 'feature_fraction': 0.6329156283114347, 'bagging_fraction': 0.7274775841254693, 'bagging_freq': 6, 'min_child_samples': 36, 'lambda_l1': 0.694644166560983, 'lambda_l2': 1.5588439491117416, 'min_gain_to_split': 0.3886547816314586, 'max_depth': 4}. Best is trial 37 with value: 0.8334948019748462.\n",
      "⚡ Trial  46: F1 = 0.8075 | Best = 0.8335\n"
     ]
    },
    {
     "name": "stderr",
     "output_type": "stream",
     "text": [
      "Best trial: 37. Best value: 0.833495:  48%|████▊     | 48/100 [07:40<09:02, 10.43s/it]"
     ]
    },
    {
     "name": "stdout",
     "output_type": "stream",
     "text": [
      "[I 2025-06-27 10:59:23,622] Trial 47 finished with value: 0.8240396467786475 and parameters: {'num_leaves': 68, 'learning_rate': 0.1867031922970068, 'feature_fraction': 0.7190417674384909, 'bagging_fraction': 0.7060993158067491, 'bagging_freq': 7, 'min_child_samples': 31, 'lambda_l1': 1.0696000423846086, 'lambda_l2': 1.8856193339048657, 'min_gain_to_split': 0.7944881330300827, 'max_depth': 7}. Best is trial 37 with value: 0.8334948019748462.\n",
      "⚡ Trial  47: F1 = 0.8240 | Best = 0.8335\n"
     ]
    },
    {
     "name": "stderr",
     "output_type": "stream",
     "text": [
      "Best trial: 37. Best value: 0.833495:  49%|████▉     | 49/100 [07:53<09:18, 10.95s/it]"
     ]
    },
    {
     "name": "stdout",
     "output_type": "stream",
     "text": [
      "[I 2025-06-27 10:59:35,783] Trial 48 finished with value: 0.8283711238911352 and parameters: {'num_leaves': 96, 'learning_rate': 0.1547566647634409, 'feature_fraction': 0.7892784884542621, 'bagging_fraction': 0.7725641830311911, 'bagging_freq': 5, 'min_child_samples': 49, 'lambda_l1': 0.5868044216721505, 'lambda_l2': 0.7609166145972145, 'min_gain_to_split': 0.5407776809327273, 'max_depth': 8}. Best is trial 37 with value: 0.8334948019748462.\n",
      "⚡ Trial  48: F1 = 0.8284 | Best = 0.8335\n"
     ]
    },
    {
     "name": "stderr",
     "output_type": "stream",
     "text": [
      "Best trial: 37. Best value: 0.833495:  50%|█████     | 50/100 [08:00<08:20, 10.02s/it]"
     ]
    },
    {
     "name": "stdout",
     "output_type": "stream",
     "text": [
      "[I 2025-06-27 10:59:43,633] Trial 49 finished with value: 0.8006265085675613 and parameters: {'num_leaves': 10, 'learning_rate': 0.059380928946783484, 'feature_fraction': 0.7725419892901881, 'bagging_fraction': 0.7538558465404233, 'bagging_freq': 6, 'min_child_samples': 41, 'lambda_l1': 1.5044878787712745, 'lambda_l2': 0.425373981742182, 'min_gain_to_split': 1.2190097513403406, 'max_depth': 7}. Best is trial 37 with value: 0.8334948019748462.\n",
      "⚡ Trial  49: F1 = 0.8006 | Best = 0.8335\n"
     ]
    },
    {
     "name": "stderr",
     "output_type": "stream",
     "text": [
      "Best trial: 37. Best value: 0.833495:  51%|█████     | 51/100 [08:07<07:17,  8.94s/it]"
     ]
    },
    {
     "name": "stdout",
     "output_type": "stream",
     "text": [
      "[I 2025-06-27 10:59:50,046] Trial 50 finished with value: 0.8079255180702597 and parameters: {'num_leaves': 87, 'learning_rate': 0.1709219959251847, 'feature_fraction': 0.8096451252093618, 'bagging_fraction': 0.6759044726696734, 'bagging_freq': 7, 'min_child_samples': 27, 'lambda_l1': 1.2481964705716304, 'lambda_l2': 1.2272142615242398, 'min_gain_to_split': 0.462867328634743, 'max_depth': 4}. Best is trial 37 with value: 0.8334948019748462.\n",
      "⚡ Trial  50: F1 = 0.8079 | Best = 0.8335\n"
     ]
    },
    {
     "name": "stderr",
     "output_type": "stream",
     "text": [
      "Best trial: 37. Best value: 0.833495:  52%|█████▏    | 52/100 [08:19<07:59,  9.98s/it]"
     ]
    },
    {
     "name": "stdout",
     "output_type": "stream",
     "text": [
      "[I 2025-06-27 11:00:02,475] Trial 51 finished with value: 0.8330025313786186 and parameters: {'num_leaves': 91, 'learning_rate': 0.17523882782172837, 'feature_fraction': 0.8860674047626175, 'bagging_fraction': 0.8982293719964, 'bagging_freq': 7, 'min_child_samples': 38, 'lambda_l1': 2.288117040825692, 'lambda_l2': 2.8756050287156842, 'min_gain_to_split': 0.09843764206082387, 'max_depth': 8}. Best is trial 37 with value: 0.8334948019748462.\n",
      "⚡ Trial  51: F1 = 0.8330 | Best = 0.8335\n"
     ]
    },
    {
     "name": "stderr",
     "output_type": "stream",
     "text": [
      "Best trial: 52. Best value: 0.836644:  53%|█████▎    | 53/100 [08:33<08:45, 11.17s/it]"
     ]
    },
    {
     "name": "stdout",
     "output_type": "stream",
     "text": [
      "[I 2025-06-27 11:00:16,406] Trial 52 finished with value: 0.8366435382979193 and parameters: {'num_leaves': 89, 'learning_rate': 0.1916037190474059, 'feature_fraction': 0.8837353792143711, 'bagging_fraction': 0.8966364766519824, 'bagging_freq': 7, 'min_child_samples': 38, 'lambda_l1': 2.260642152368845, 'lambda_l2': 2.8898020562728552, 'min_gain_to_split': 0.11987406536650375, 'max_depth': 8}. Best is trial 52 with value: 0.8366435382979193.\n",
      "⚡ Trial  52: F1 = 0.8366 | Best = 0.8366\n"
     ]
    },
    {
     "name": "stderr",
     "output_type": "stream",
     "text": [
      "Best trial: 52. Best value: 0.836644:  54%|█████▍    | 54/100 [08:45<08:50, 11.53s/it]"
     ]
    },
    {
     "name": "stdout",
     "output_type": "stream",
     "text": [
      "[I 2025-06-27 11:00:28,771] Trial 53 finished with value: 0.8351809060943788 and parameters: {'num_leaves': 79, 'learning_rate': 0.1913417128748579, 'feature_fraction': 0.884809959959265, 'bagging_fraction': 0.8934227024545189, 'bagging_freq': 6, 'min_child_samples': 38, 'lambda_l1': 2.275899594567971, 'lambda_l2': 2.897075578895909, 'min_gain_to_split': 0.09170721334670096, 'max_depth': 8}. Best is trial 52 with value: 0.8366435382979193.\n",
      "⚡ Trial  53: F1 = 0.8352 | Best = 0.8366\n"
     ]
    },
    {
     "name": "stderr",
     "output_type": "stream",
     "text": [
      "Best trial: 52. Best value: 0.836644:  55%|█████▌    | 55/100 [08:58<08:53, 11.86s/it]"
     ]
    },
    {
     "name": "stdout",
     "output_type": "stream",
     "text": [
      "[I 2025-06-27 11:00:41,408] Trial 54 finished with value: 0.8338015970349549 and parameters: {'num_leaves': 79, 'learning_rate': 0.19227290589592447, 'feature_fraction': 0.8910823464244458, 'bagging_fraction': 0.8906290835001887, 'bagging_freq': 7, 'min_child_samples': 38, 'lambda_l1': 2.262280723899945, 'lambda_l2': 2.8460784033772595, 'min_gain_to_split': 0.08702346947695855, 'max_depth': 8}. Best is trial 52 with value: 0.8366435382979193.\n",
      "⚡ Trial  54: F1 = 0.8338 | Best = 0.8366\n"
     ]
    },
    {
     "name": "stderr",
     "output_type": "stream",
     "text": [
      "Best trial: 52. Best value: 0.836644:  56%|█████▌    | 56/100 [09:09<08:30, 11.61s/it]"
     ]
    },
    {
     "name": "stdout",
     "output_type": "stream",
     "text": [
      "[I 2025-06-27 11:00:52,436] Trial 55 finished with value: 0.8285878963326384 and parameters: {'num_leaves': 81, 'learning_rate': 0.19148096757377395, 'feature_fraction': 0.890156846512386, 'bagging_fraction': 0.8992712245260498, 'bagging_freq': 7, 'min_child_samples': 38, 'lambda_l1': 2.2504779203226937, 'lambda_l2': 2.8743938764375083, 'min_gain_to_split': 0.07716058494998829, 'max_depth': 7}. Best is trial 52 with value: 0.8366435382979193.\n",
      "⚡ Trial  55: F1 = 0.8286 | Best = 0.8366\n"
     ]
    },
    {
     "name": "stderr",
     "output_type": "stream",
     "text": [
      "Best trial: 52. Best value: 0.836644:  57%|█████▋    | 57/100 [09:22<08:30, 11.87s/it]"
     ]
    },
    {
     "name": "stdout",
     "output_type": "stream",
     "text": [
      "[I 2025-06-27 11:01:04,925] Trial 56 finished with value: 0.8317308735604563 and parameters: {'num_leaves': 89, 'learning_rate': 0.17010085712941128, 'feature_fraction': 0.8546247649775046, 'bagging_fraction': 0.8525032857591394, 'bagging_freq': 5, 'min_child_samples': 43, 'lambda_l1': 2.757401637217786, 'lambda_l2': 2.8898932452413915, 'min_gain_to_split': 0.10178387461202897, 'max_depth': 8}. Best is trial 52 with value: 0.8366435382979193.\n",
      "⚡ Trial  56: F1 = 0.8317 | Best = 0.8366\n"
     ]
    },
    {
     "name": "stderr",
     "output_type": "stream",
     "text": [
      "Best trial: 52. Best value: 0.836644:  58%|█████▊    | 58/100 [09:33<08:15, 11.80s/it]"
     ]
    },
    {
     "name": "stdout",
     "output_type": "stream",
     "text": [
      "[I 2025-06-27 11:01:16,563] Trial 57 finished with value: 0.8167124134699822 and parameters: {'num_leaves': 77, 'learning_rate': 0.0967699974151165, 'feature_fraction': 0.8998226764962323, 'bagging_fraction': 0.8713879746718961, 'bagging_freq': 6, 'min_child_samples': 36, 'lambda_l1': 2.0138512555972996, 'lambda_l2': 2.559019064273013, 'min_gain_to_split': 0.22519185912947481, 'max_depth': 7}. Best is trial 52 with value: 0.8366435382979193.\n",
      "⚡ Trial  57: F1 = 0.8167 | Best = 0.8366\n"
     ]
    },
    {
     "name": "stderr",
     "output_type": "stream",
     "text": [
      "Best trial: 52. Best value: 0.836644:  59%|█████▉    | 59/100 [09:42<07:31, 11.01s/it]"
     ]
    },
    {
     "name": "stdout",
     "output_type": "stream",
     "text": [
      "[I 2025-06-27 11:01:25,709] Trial 58 finished with value: 0.81074613831826 and parameters: {'num_leaves': 16, 'learning_rate': 0.13379233210921132, 'feature_fraction': 0.875805143304027, 'bagging_fraction': 0.8826255361120205, 'bagging_freq': 7, 'min_child_samples': 40, 'lambda_l1': 2.3249607767090223, 'lambda_l2': 2.6587074113249183, 'min_gain_to_split': 0.30445835523962755, 'max_depth': 8}. Best is trial 52 with value: 0.8366435382979193.\n",
      "⚡ Trial  58: F1 = 0.8107 | Best = 0.8366\n"
     ]
    },
    {
     "name": "stderr",
     "output_type": "stream",
     "text": [
      "Best trial: 52. Best value: 0.836644:  60%|██████    | 60/100 [09:48<06:17,  9.45s/it]"
     ]
    },
    {
     "name": "stdout",
     "output_type": "stream",
     "text": [
      "[I 2025-06-27 11:01:31,515] Trial 59 finished with value: 0.8029347914645433 and parameters: {'num_leaves': 31, 'learning_rate': 0.15923359194754022, 'feature_fraction': 0.8851246376707502, 'bagging_fraction': 0.8996763959073986, 'bagging_freq': 6, 'min_child_samples': 35, 'lambda_l1': 1.877295590189588, 'lambda_l2': 2.472130936869209, 'min_gain_to_split': 0.08457910026447779, 'max_depth': 3}. Best is trial 52 with value: 0.8366435382979193.\n",
      "⚡ Trial  59: F1 = 0.8029 | Best = 0.8366\n"
     ]
    },
    {
     "name": "stderr",
     "output_type": "stream",
     "text": [
      "Best trial: 52. Best value: 0.836644:  61%|██████    | 61/100 [09:56<05:45,  8.86s/it]"
     ]
    },
    {
     "name": "stdout",
     "output_type": "stream",
     "text": [
      "[I 2025-06-27 11:01:38,997] Trial 60 finished with value: 0.8159246696355803 and parameters: {'num_leaves': 85, 'learning_rate': 0.1783318861152991, 'feature_fraction': 0.8525142664467521, 'bagging_fraction': 0.8583280480929877, 'bagging_freq': 7, 'min_child_samples': 39, 'lambda_l1': 2.1463812365274553, 'lambda_l2': 2.845866761957569, 'min_gain_to_split': 1.5969429827470916, 'max_depth': 8}. Best is trial 52 with value: 0.8366435382979193.\n",
      "⚡ Trial  60: F1 = 0.8159 | Best = 0.8366\n"
     ]
    },
    {
     "name": "stderr",
     "output_type": "stream",
     "text": [
      "Best trial: 52. Best value: 0.836644:  62%|██████▏   | 62/100 [10:07<06:01,  9.52s/it]"
     ]
    },
    {
     "name": "stdout",
     "output_type": "stream",
     "text": [
      "[I 2025-06-27 11:01:50,064] Trial 61 finished with value: 0.830841231683349 and parameters: {'num_leaves': 61, 'learning_rate': 0.19538432527929964, 'feature_fraction': 0.8722554784161523, 'bagging_fraction': 0.8861680442956639, 'bagging_freq': 7, 'min_child_samples': 42, 'lambda_l1': 2.277255631675024, 'lambda_l2': 2.9525337789099075, 'min_gain_to_split': 0.09876905454135143, 'max_depth': 8}. Best is trial 52 with value: 0.8366435382979193.\n",
      "⚡ Trial  61: F1 = 0.8308 | Best = 0.8366\n"
     ]
    },
    {
     "name": "stderr",
     "output_type": "stream",
     "text": [
      "Best trial: 52. Best value: 0.836644:  63%|██████▎   | 63/100 [10:20<06:29, 10.52s/it]"
     ]
    },
    {
     "name": "stdout",
     "output_type": "stream",
     "text": [
      "[I 2025-06-27 11:02:02,931] Trial 62 finished with value: 0.8326534227857382 and parameters: {'num_leaves': 77, 'learning_rate': 0.1917665528931588, 'feature_fraction': 0.8916208608515455, 'bagging_fraction': 0.8430236814920488, 'bagging_freq': 7, 'min_child_samples': 46, 'lambda_l1': 2.4137787884417103, 'lambda_l2': 2.7065389649391083, 'min_gain_to_split': 0.21871780905559837, 'max_depth': 8}. Best is trial 52 with value: 0.8366435382979193.\n",
      "⚡ Trial  62: F1 = 0.8327 | Best = 0.8366\n"
     ]
    },
    {
     "name": "stderr",
     "output_type": "stream",
     "text": [
      "Best trial: 52. Best value: 0.836644:  64%|██████▍   | 64/100 [10:31<06:31, 10.88s/it]"
     ]
    },
    {
     "name": "stdout",
     "output_type": "stream",
     "text": [
      "[I 2025-06-27 11:02:14,627] Trial 63 finished with value: 0.8311619844449281 and parameters: {'num_leaves': 71, 'learning_rate': 0.18298761428918128, 'feature_fraction': 0.8380377997160225, 'bagging_fraction': 0.8881311600788316, 'bagging_freq': 7, 'min_child_samples': 37, 'lambda_l1': 2.177074998029576, 'lambda_l2': 2.9925568245973366, 'min_gain_to_split': 0.31776779123250537, 'max_depth': 8}. Best is trial 52 with value: 0.8366435382979193.\n",
      "⚡ Trial  63: F1 = 0.8312 | Best = 0.8366\n"
     ]
    },
    {
     "name": "stderr",
     "output_type": "stream",
     "text": [
      "Best trial: 52. Best value: 0.836644:  65%|██████▌   | 65/100 [10:42<06:20, 10.87s/it]"
     ]
    },
    {
     "name": "stdout",
     "output_type": "stream",
     "text": [
      "[I 2025-06-27 11:02:25,474] Trial 64 finished with value: 0.8289157318914083 and parameters: {'num_leaves': 83, 'learning_rate': 0.16660594427086656, 'feature_fraction': 0.86344428034595, 'bagging_fraction': 0.8640196070558969, 'bagging_freq': 6, 'min_child_samples': 34, 'lambda_l1': 1.7146142124888883, 'lambda_l2': 2.8235698996779712, 'min_gain_to_split': 0.4639650889606322, 'max_depth': 8}. Best is trial 52 with value: 0.8366435382979193.\n",
      "⚡ Trial  64: F1 = 0.8289 | Best = 0.8366\n"
     ]
    },
    {
     "name": "stderr",
     "output_type": "stream",
     "text": [
      "Best trial: 52. Best value: 0.836644:  66%|██████▌   | 66/100 [10:56<06:36, 11.65s/it]"
     ]
    },
    {
     "name": "stdout",
     "output_type": "stream",
     "text": [
      "[I 2025-06-27 11:02:38,956] Trial 65 finished with value: 0.8304702365034414 and parameters: {'num_leaves': 79, 'learning_rate': 0.17647971390577127, 'feature_fraction': 0.8876360261359802, 'bagging_fraction': 0.840954642742619, 'bagging_freq': 7, 'min_child_samples': 29, 'lambda_l1': 1.913051702735411, 'lambda_l2': 2.621840169602669, 'min_gain_to_split': 0.11881526287851064, 'max_depth': 8}. Best is trial 52 with value: 0.8366435382979193.\n",
      "⚡ Trial  65: F1 = 0.8305 | Best = 0.8366\n"
     ]
    },
    {
     "name": "stderr",
     "output_type": "stream",
     "text": [
      "Best trial: 52. Best value: 0.836644:  67%|██████▋   | 67/100 [11:04<05:52, 10.69s/it]"
     ]
    },
    {
     "name": "stdout",
     "output_type": "stream",
     "text": [
      "[I 2025-06-27 11:02:47,388] Trial 66 finished with value: 0.8144047460282696 and parameters: {'num_leaves': 90, 'learning_rate': 0.19155065873411067, 'feature_fraction': 0.8975956207147179, 'bagging_fraction': 0.8267419085061296, 'bagging_freq': 4, 'min_child_samples': 42, 'lambda_l1': 2.5058082630194685, 'lambda_l2': 2.3653159833300554, 'min_gain_to_split': 0.2271765967575921, 'max_depth': 5}. Best is trial 52 with value: 0.8366435382979193.\n",
      "⚡ Trial  66: F1 = 0.8144 | Best = 0.8366\n"
     ]
    },
    {
     "name": "stderr",
     "output_type": "stream",
     "text": [
      "Best trial: 52. Best value: 0.836644:  68%|██████▊   | 68/100 [11:14<05:36, 10.53s/it]"
     ]
    },
    {
     "name": "stdout",
     "output_type": "stream",
     "text": [
      "[I 2025-06-27 11:02:57,549] Trial 67 finished with value: 0.8298718921484768 and parameters: {'num_leaves': 98, 'learning_rate': 0.19946055719739592, 'feature_fraction': 0.8600925524819656, 'bagging_fraction': 0.8780695333461481, 'bagging_freq': 7, 'min_child_samples': 38, 'lambda_l1': 2.3715542931645985, 'lambda_l2': 2.805185777322442, 'min_gain_to_split': 0.283169079061332, 'max_depth': 7}. Best is trial 52 with value: 0.8366435382979193.\n",
      "⚡ Trial  67: F1 = 0.8299 | Best = 0.8366\n"
     ]
    },
    {
     "name": "stderr",
     "output_type": "stream",
     "text": [
      "Best trial: 52. Best value: 0.836644:  69%|██████▉   | 69/100 [11:24<05:18, 10.27s/it]"
     ]
    },
    {
     "name": "stdout",
     "output_type": "stream",
     "text": [
      "[I 2025-06-27 11:03:07,222] Trial 68 finished with value: 0.829060510242383 and parameters: {'num_leaves': 75, 'learning_rate': 0.17415941507157043, 'feature_fraction': 0.8726173915167725, 'bagging_fraction': 0.7934603095123398, 'bagging_freq': 6, 'min_child_samples': 40, 'lambda_l1': 2.72081816193004, 'lambda_l2': 2.456227232094914, 'min_gain_to_split': 0.06567690066237858, 'max_depth': 8}. Best is trial 52 with value: 0.8366435382979193.\n",
      "⚡ Trial  68: F1 = 0.8291 | Best = 0.8366\n"
     ]
    },
    {
     "name": "stderr",
     "output_type": "stream",
     "text": [
      "Best trial: 52. Best value: 0.836644:  70%|███████   | 70/100 [11:37<05:30, 11.01s/it]"
     ]
    },
    {
     "name": "stdout",
     "output_type": "stream",
     "text": [
      "[I 2025-06-27 11:03:19,969] Trial 69 finished with value: 0.8016871697663658 and parameters: {'num_leaves': 88, 'learning_rate': 0.01857554839784567, 'feature_fraction': 0.6680994404060355, 'bagging_fraction': 0.8911426605033028, 'bagging_freq': 7, 'min_child_samples': 34, 'lambda_l1': 2.0443698936259302, 'lambda_l2': 2.910451500687003, 'min_gain_to_split': 0.16229670148570458, 'max_depth': 7}. Best is trial 52 with value: 0.8366435382979193.\n",
      "⚡ Trial  69: F1 = 0.8017 | Best = 0.8366\n"
     ]
    },
    {
     "name": "stderr",
     "output_type": "stream",
     "text": [
      "Best trial: 52. Best value: 0.836644:  71%|███████   | 71/100 [11:50<05:43, 11.84s/it]"
     ]
    },
    {
     "name": "stdout",
     "output_type": "stream",
     "text": [
      "[I 2025-06-27 11:03:33,745] Trial 70 finished with value: 0.8275817697848756 and parameters: {'num_leaves': 85, 'learning_rate': 0.15092659386567922, 'feature_fraction': 0.8442017406157715, 'bagging_fraction': 0.8654607110932556, 'bagging_freq': 7, 'min_child_samples': 37, 'lambda_l1': 2.083825768202874, 'lambda_l2': 2.6835650525034893, 'min_gain_to_split': 0.4163105138808989, 'max_depth': 8}. Best is trial 52 with value: 0.8366435382979193.\n",
      "⚡ Trial  70: F1 = 0.8276 | Best = 0.8366\n"
     ]
    },
    {
     "name": "stderr",
     "output_type": "stream",
     "text": [
      "Best trial: 52. Best value: 0.836644:  72%|███████▏  | 72/100 [12:03<05:40, 12.17s/it]"
     ]
    },
    {
     "name": "stdout",
     "output_type": "stream",
     "text": [
      "[I 2025-06-27 11:03:46,679] Trial 71 finished with value: 0.8336722794599244 and parameters: {'num_leaves': 96, 'learning_rate': 0.18624968479144663, 'feature_fraction': 0.8791423800354603, 'bagging_fraction': 0.8768740184794359, 'bagging_freq': 5, 'min_child_samples': 48, 'lambda_l1': 0.812765014592671, 'lambda_l2': 2.1026679978044966, 'min_gain_to_split': 0.3421071238506006, 'max_depth': 8}. Best is trial 52 with value: 0.8366435382979193.\n",
      "⚡ Trial  71: F1 = 0.8337 | Best = 0.8366\n"
     ]
    },
    {
     "name": "stderr",
     "output_type": "stream",
     "text": [
      "Best trial: 52. Best value: 0.836644:  73%|███████▎  | 73/100 [12:14<05:16, 11.74s/it]"
     ]
    },
    {
     "name": "stdout",
     "output_type": "stream",
     "text": [
      "[I 2025-06-27 11:03:57,408] Trial 72 finished with value: 0.834536182995962 and parameters: {'num_leaves': 98, 'learning_rate': 0.18312580604161577, 'feature_fraction': 0.8835062802842679, 'bagging_fraction': 0.8739309207160812, 'bagging_freq': 5, 'min_child_samples': 47, 'lambda_l1': 0.769792235151096, 'lambda_l2': 2.0864636443767592, 'min_gain_to_split': 0.3359923529708279, 'max_depth': 8}. Best is trial 52 with value: 0.8366435382979193.\n",
      "⚡ Trial  72: F1 = 0.8345 | Best = 0.8366\n"
     ]
    },
    {
     "name": "stderr",
     "output_type": "stream",
     "text": [
      "Best trial: 52. Best value: 0.836644:  74%|███████▍  | 74/100 [12:27<05:11, 11.97s/it]"
     ]
    },
    {
     "name": "stdout",
     "output_type": "stream",
     "text": [
      "[I 2025-06-27 11:04:09,926] Trial 73 finished with value: 0.8329125523396584 and parameters: {'num_leaves': 97, 'learning_rate': 0.18326922197184714, 'feature_fraction': 0.8865329900463353, 'bagging_fraction': 0.8792844867080568, 'bagging_freq': 5, 'min_child_samples': 46, 'lambda_l1': 0.28333405564118364, 'lambda_l2': 2.138385118095707, 'min_gain_to_split': 0.33870437823875477, 'max_depth': 8}. Best is trial 52 with value: 0.8366435382979193.\n",
      "⚡ Trial  73: F1 = 0.8329 | Best = 0.8366\n"
     ]
    },
    {
     "name": "stderr",
     "output_type": "stream",
     "text": [
      "Best trial: 52. Best value: 0.836644:  75%|███████▌  | 75/100 [12:39<04:59, 11.96s/it]"
     ]
    },
    {
     "name": "stdout",
     "output_type": "stream",
     "text": [
      "[I 2025-06-27 11:04:21,873] Trial 74 finished with value: 0.8233966714909274 and parameters: {'num_leaves': 100, 'learning_rate': 0.16304294233406244, 'feature_fraction': 0.6000220238019329, 'bagging_fraction': 0.8931437908731208, 'bagging_freq': 4, 'min_child_samples': 47, 'lambda_l1': 0.7934379486358549, 'lambda_l2': 2.545073415132393, 'min_gain_to_split': 0.6185822781390635, 'max_depth': 8}. Best is trial 52 with value: 0.8366435382979193.\n",
      "⚡ Trial  74: F1 = 0.8234 | Best = 0.8366\n"
     ]
    },
    {
     "name": "stderr",
     "output_type": "stream",
     "text": [
      "Best trial: 52. Best value: 0.836644:  76%|███████▌  | 76/100 [12:49<04:38, 11.59s/it]"
     ]
    },
    {
     "name": "stdout",
     "output_type": "stream",
     "text": [
      "[I 2025-06-27 11:04:32,576] Trial 75 finished with value: 0.8349447432799771 and parameters: {'num_leaves': 93, 'learning_rate': 0.19276975299814117, 'feature_fraction': 0.8766596260263292, 'bagging_fraction': 0.8745900185810388, 'bagging_freq': 5, 'min_child_samples': 48, 'lambda_l1': 2.621418977961506, 'lambda_l2': 2.064488993726537, 'min_gain_to_split': 0.22814702176201265, 'max_depth': 8}. Best is trial 52 with value: 0.8366435382979193.\n",
      "⚡ Trial  75: F1 = 0.8349 | Best = 0.8366\n"
     ]
    },
    {
     "name": "stderr",
     "output_type": "stream",
     "text": [
      "Best trial: 52. Best value: 0.836644:  77%|███████▋  | 77/100 [13:01<04:25, 11.52s/it]"
     ]
    },
    {
     "name": "stdout",
     "output_type": "stream",
     "text": [
      "[I 2025-06-27 11:04:43,958] Trial 76 finished with value: 0.8351028325265459 and parameters: {'num_leaves': 95, 'learning_rate': 0.19293206344923586, 'feature_fraction': 0.8678156965129293, 'bagging_fraction': 0.8324508900093422, 'bagging_freq': 5, 'min_child_samples': 48, 'lambda_l1': 2.9367769869775637, 'lambda_l2': 2.0420093540178907, 'min_gain_to_split': 0.2610047088077847, 'max_depth': 8}. Best is trial 52 with value: 0.8366435382979193.\n",
      "⚡ Trial  76: F1 = 0.8351 | Best = 0.8366\n"
     ]
    },
    {
     "name": "stderr",
     "output_type": "stream",
     "text": [
      "Best trial: 52. Best value: 0.836644:  78%|███████▊  | 78/100 [13:12<04:10, 11.39s/it]"
     ]
    },
    {
     "name": "stdout",
     "output_type": "stream",
     "text": [
      "[I 2025-06-27 11:04:55,042] Trial 77 finished with value: 0.8326635537974317 and parameters: {'num_leaves': 94, 'learning_rate': 0.19408749129619132, 'feature_fraction': 0.8560802931407829, 'bagging_fraction': 0.8536730037461903, 'bagging_freq': 5, 'min_child_samples': 48, 'lambda_l1': 2.9640337768431286, 'lambda_l2': 2.1101862329943053, 'min_gain_to_split': 0.492165443252257, 'max_depth': 8}. Best is trial 52 with value: 0.8366435382979193.\n",
      "⚡ Trial  77: F1 = 0.8327 | Best = 0.8366\n"
     ]
    },
    {
     "name": "stderr",
     "output_type": "stream",
     "text": [
      "Best trial: 52. Best value: 0.836644:  79%|███████▉  | 79/100 [13:21<03:44, 10.69s/it]"
     ]
    },
    {
     "name": "stdout",
     "output_type": "stream",
     "text": [
      "[I 2025-06-27 11:05:04,085] Trial 78 finished with value: 0.8204806239363416 and parameters: {'num_leaves': 94, 'learning_rate': 0.18613966009217953, 'feature_fraction': 0.8767167825399719, 'bagging_fraction': 0.8277056520599713, 'bagging_freq': 5, 'min_child_samples': 48, 'lambda_l1': 2.822565297605421, 'lambda_l2': 1.9479605636810118, 'min_gain_to_split': 0.2010186361469588, 'max_depth': 6}. Best is trial 52 with value: 0.8366435382979193.\n",
      "⚡ Trial  78: F1 = 0.8205 | Best = 0.8366\n"
     ]
    },
    {
     "name": "stderr",
     "output_type": "stream",
     "text": [
      "Best trial: 52. Best value: 0.836644:  80%|████████  | 80/100 [13:32<03:37, 10.88s/it]"
     ]
    },
    {
     "name": "stdout",
     "output_type": "stream",
     "text": [
      "[I 2025-06-27 11:05:15,409] Trial 79 finished with value: 0.8362735867448059 and parameters: {'num_leaves': 91, 'learning_rate': 0.193139330756196, 'feature_fraction': 0.8635501692077292, 'bagging_fraction': 0.8705343052173011, 'bagging_freq': 4, 'min_child_samples': 44, 'lambda_l1': 2.6103982084304582, 'lambda_l2': 2.0147721654515762, 'min_gain_to_split': 0.270962891852479, 'max_depth': 8}. Best is trial 52 with value: 0.8366435382979193.\n",
      "⚡ Trial  79: F1 = 0.8363 | Best = 0.8366\n"
     ]
    },
    {
     "name": "stderr",
     "output_type": "stream",
     "text": [
      "Best trial: 52. Best value: 0.836644:  81%|████████  | 81/100 [13:44<03:33, 11.23s/it]"
     ]
    },
    {
     "name": "stdout",
     "output_type": "stream",
     "text": [
      "[I 2025-06-27 11:05:27,462] Trial 80 finished with value: 0.8350838090709667 and parameters: {'num_leaves': 98, 'learning_rate': 0.18034528659793386, 'feature_fraction': 0.8669009692071209, 'bagging_fraction': 0.8753516496363446, 'bagging_freq': 4, 'min_child_samples': 44, 'lambda_l1': 2.6137236073631738, 'lambda_l2': 2.036246518096203, 'min_gain_to_split': 0.4230178168544503, 'max_depth': 8}. Best is trial 52 with value: 0.8366435382979193.\n",
      "⚡ Trial  80: F1 = 0.8351 | Best = 0.8366\n"
     ]
    },
    {
     "name": "stderr",
     "output_type": "stream",
     "text": [
      "Best trial: 52. Best value: 0.836644:  82%|████████▏ | 82/100 [13:57<03:31, 11.73s/it]"
     ]
    },
    {
     "name": "stdout",
     "output_type": "stream",
     "text": [
      "[I 2025-06-27 11:05:40,351] Trial 81 finished with value: 0.8365723937977086 and parameters: {'num_leaves': 98, 'learning_rate': 0.19258035888455177, 'feature_fraction': 0.8664328930318802, 'bagging_fraction': 0.8764140935455748, 'bagging_freq': 4, 'min_child_samples': 44, 'lambda_l1': 2.6435963189905456, 'lambda_l2': 2.0525306381987916, 'min_gain_to_split': 0.2765744924126209, 'max_depth': 8}. Best is trial 52 with value: 0.8366435382979193.\n",
      "⚡ Trial  81: F1 = 0.8366 | Best = 0.8366\n"
     ]
    },
    {
     "name": "stderr",
     "output_type": "stream",
     "text": [
      "Best trial: 52. Best value: 0.836644:  83%|████████▎ | 83/100 [14:10<03:23, 11.96s/it]"
     ]
    },
    {
     "name": "stdout",
     "output_type": "stream",
     "text": [
      "[I 2025-06-27 11:05:52,847] Trial 82 finished with value: 0.8364443969417482 and parameters: {'num_leaves': 92, 'learning_rate': 0.1923461972650988, 'feature_fraction': 0.8667547098362295, 'bagging_fraction': 0.8687114104551217, 'bagging_freq': 4, 'min_child_samples': 45, 'lambda_l1': 2.6414518136557215, 'lambda_l2': 1.996465772714493, 'min_gain_to_split': 0.2696833095726081, 'max_depth': 8}. Best is trial 52 with value: 0.8366435382979193.\n",
      "⚡ Trial  82: F1 = 0.8364 | Best = 0.8366\n"
     ]
    },
    {
     "name": "stderr",
     "output_type": "stream",
     "text": [
      "Best trial: 52. Best value: 0.836644:  84%|████████▍ | 84/100 [14:21<03:10, 11.92s/it]"
     ]
    },
    {
     "name": "stdout",
     "output_type": "stream",
     "text": [
      "[I 2025-06-27 11:06:04,667] Trial 83 finished with value: 0.8337569847666422 and parameters: {'num_leaves': 92, 'learning_rate': 0.18105897006579094, 'feature_fraction': 0.8640285172139035, 'bagging_fraction': 0.833996968072666, 'bagging_freq': 4, 'min_child_samples': 44, 'lambda_l1': 2.6049964858914825, 'lambda_l2': 2.004171814486467, 'min_gain_to_split': 0.28218540900935174, 'max_depth': 8}. Best is trial 52 with value: 0.8366435382979193.\n",
      "⚡ Trial  83: F1 = 0.8338 | Best = 0.8366\n"
     ]
    },
    {
     "name": "stderr",
     "output_type": "stream",
     "text": [
      "Best trial: 52. Best value: 0.836644:  85%|████████▌ | 85/100 [14:33<02:58, 11.89s/it]"
     ]
    },
    {
     "name": "stdout",
     "output_type": "stream",
     "text": [
      "[I 2025-06-27 11:06:16,508] Trial 84 finished with value: 0.8344823227203539 and parameters: {'num_leaves': 98, 'learning_rate': 0.1914798295113485, 'feature_fraction': 0.850524316678318, 'bagging_fraction': 0.8110450718260966, 'bagging_freq': 4, 'min_child_samples': 45, 'lambda_l1': 2.660635873003756, 'lambda_l2': 1.9267526341723595, 'min_gain_to_split': 0.38403585031485843, 'max_depth': 8}. Best is trial 52 with value: 0.8366435382979193.\n",
      "⚡ Trial  84: F1 = 0.8345 | Best = 0.8366\n"
     ]
    },
    {
     "name": "stderr",
     "output_type": "stream",
     "text": [
      "Best trial: 52. Best value: 0.836644:  86%|████████▌ | 86/100 [14:45<02:47, 11.96s/it]"
     ]
    },
    {
     "name": "stdout",
     "output_type": "stream",
     "text": [
      "[I 2025-06-27 11:06:28,615] Trial 85 finished with value: 0.8160351203363482 and parameters: {'num_leaves': 87, 'learning_rate': 0.0826712703558459, 'feature_fraction': 0.8376211601778745, 'bagging_fraction': 0.8690929022389998, 'bagging_freq': 4, 'min_child_samples': 44, 'lambda_l1': 2.932026104846422, 'lambda_l2': 2.3067376807936872, 'min_gain_to_split': 0.4163363375996518, 'max_depth': 7}. Best is trial 52 with value: 0.8366435382979193.\n",
      "⚡ Trial  85: F1 = 0.8160 | Best = 0.8366\n"
     ]
    },
    {
     "name": "stderr",
     "output_type": "stream",
     "text": [
      "Best trial: 52. Best value: 0.836644:  87%|████████▋ | 87/100 [14:57<02:32, 11.76s/it]"
     ]
    },
    {
     "name": "stdout",
     "output_type": "stream",
     "text": [
      "[I 2025-06-27 11:06:39,920] Trial 86 finished with value: 0.8339148503527946 and parameters: {'num_leaves': 98, 'learning_rate': 0.18044067590546742, 'feature_fraction': 0.8681307807184421, 'bagging_fraction': 0.8583325041719762, 'bagging_freq': 4, 'min_child_samples': 46, 'lambda_l1': 2.5403593274674487, 'lambda_l2': 2.034241003018199, 'min_gain_to_split': 0.21363759409874178, 'max_depth': 8}. Best is trial 52 with value: 0.8366435382979193.\n",
      "⚡ Trial  86: F1 = 0.8339 | Best = 0.8366\n"
     ]
    },
    {
     "name": "stderr",
     "output_type": "stream",
     "text": [
      "Best trial: 52. Best value: 0.836644:  88%|████████▊ | 88/100 [15:09<02:24, 12.08s/it]"
     ]
    },
    {
     "name": "stdout",
     "output_type": "stream",
     "text": [
      "[I 2025-06-27 11:06:52,749] Trial 87 finished with value: 0.8347936286911392 and parameters: {'num_leaves': 90, 'learning_rate': 0.19443518633988785, 'feature_fraction': 0.871783683741428, 'bagging_fraction': 0.848119390782073, 'bagging_freq': 3, 'min_child_samples': 43, 'lambda_l1': 2.842570175570347, 'lambda_l2': 2.1595409894269166, 'min_gain_to_split': 0.2635428149460818, 'max_depth': 8}. Best is trial 52 with value: 0.8366435382979193.\n",
      "⚡ Trial  87: F1 = 0.8348 | Best = 0.8366\n"
     ]
    },
    {
     "name": "stderr",
     "output_type": "stream",
     "text": [
      "Best trial: 52. Best value: 0.836644:  89%|████████▉ | 89/100 [15:21<02:12, 12.01s/it]"
     ]
    },
    {
     "name": "stdout",
     "output_type": "stream",
     "text": [
      "[I 2025-06-27 11:07:04,584] Trial 88 finished with value: 0.8365645410435406 and parameters: {'num_leaves': 91, 'learning_rate': 0.1948604461323931, 'feature_fraction': 0.8559728744733366, 'bagging_fraction': 0.8508404638883272, 'bagging_freq': 3, 'min_child_samples': 43, 'lambda_l1': 2.8096768225002458, 'lambda_l2': 2.1679199661440025, 'min_gain_to_split': 0.28150063868377645, 'max_depth': 8}. Best is trial 52 with value: 0.8366435382979193.\n",
      "⚡ Trial  88: F1 = 0.8366 | Best = 0.8366\n"
     ]
    },
    {
     "name": "stderr",
     "output_type": "stream",
     "text": [
      "Best trial: 52. Best value: 0.836644:  90%|█████████ | 90/100 [15:33<01:58, 11.81s/it]"
     ]
    },
    {
     "name": "stdout",
     "output_type": "stream",
     "text": [
      "[I 2025-06-27 11:07:15,920] Trial 89 finished with value: 0.8341093900308075 and parameters: {'num_leaves': 91, 'learning_rate': 0.1883689664356414, 'feature_fraction': 0.8594469295926073, 'bagging_fraction': 0.860589741579678, 'bagging_freq': 3, 'min_child_samples': 49, 'lambda_l1': 2.7707076421869177, 'lambda_l2': 1.7006959776712507, 'min_gain_to_split': 0.25731637832994964, 'max_depth': 8}. Best is trial 52 with value: 0.8366435382979193.\n",
      "⚡ Trial  89: F1 = 0.8341 | Best = 0.8366\n"
     ]
    },
    {
     "name": "stderr",
     "output_type": "stream",
     "text": [
      "Best trial: 52. Best value: 0.836644:  91%|█████████ | 91/100 [15:45<01:47, 11.90s/it]"
     ]
    },
    {
     "name": "stdout",
     "output_type": "stream",
     "text": [
      "[I 2025-06-27 11:07:28,026] Trial 90 finished with value: 0.8255236919231684 and parameters: {'num_leaves': 86, 'learning_rate': 0.16927150193877513, 'feature_fraction': 0.8446731917564773, 'bagging_fraction': 0.8373783817196934, 'bagging_freq': 3, 'min_child_samples': 45, 'lambda_l1': 2.6787716231586414, 'lambda_l2': 1.8898244878500767, 'min_gain_to_split': 0.13655358664268633, 'max_depth': 7}. Best is trial 52 with value: 0.8366435382979193.\n",
      "⚡ Trial  90: F1 = 0.8255 | Best = 0.8366\n"
     ]
    },
    {
     "name": "stderr",
     "output_type": "stream",
     "text": [
      "Best trial: 52. Best value: 0.836644:  92%|█████████▏| 92/100 [15:59<01:41, 12.74s/it]"
     ]
    },
    {
     "name": "stdout",
     "output_type": "stream",
     "text": [
      "[I 2025-06-27 11:07:42,727] Trial 91 finished with value: 0.8343665447197784 and parameters: {'num_leaves': 89, 'learning_rate': 0.19524848179869125, 'feature_fraction': 0.8717516906465143, 'bagging_fraction': 0.8488444236450986, 'bagging_freq': 3, 'min_child_samples': 43, 'lambda_l1': 2.886123366240521, 'lambda_l2': 2.168566041134585, 'min_gain_to_split': 0.4396833124818158, 'max_depth': 8}. Best is trial 52 with value: 0.8366435382979193.\n",
      "⚡ Trial  91: F1 = 0.8344 | Best = 0.8366\n"
     ]
    },
    {
     "name": "stderr",
     "output_type": "stream",
     "text": [
      "Best trial: 52. Best value: 0.836644:  93%|█████████▎| 93/100 [16:12<01:28, 12.69s/it]"
     ]
    },
    {
     "name": "stdout",
     "output_type": "stream",
     "text": [
      "[I 2025-06-27 11:07:55,312] Trial 92 finished with value: 0.8333745634901576 and parameters: {'num_leaves': 92, 'learning_rate': 0.1947144230657012, 'feature_fraction': 0.8285714168758275, 'bagging_fraction': 0.8479006471489319, 'bagging_freq': 4, 'min_child_samples': 43, 'lambda_l1': 2.479247195255657, 'lambda_l2': 2.2884290310975173, 'min_gain_to_split': 0.2722308790862138, 'max_depth': 8}. Best is trial 52 with value: 0.8366435382979193.\n",
      "⚡ Trial  92: F1 = 0.8334 | Best = 0.8366\n"
     ]
    },
    {
     "name": "stderr",
     "output_type": "stream",
     "text": [
      "Best trial: 52. Best value: 0.836644:  94%|█████████▍| 94/100 [16:25<01:17, 12.85s/it]"
     ]
    },
    {
     "name": "stdout",
     "output_type": "stream",
     "text": [
      "[I 2025-06-27 11:08:08,527] Trial 93 finished with value: 0.8355126979526354 and parameters: {'num_leaves': 94, 'learning_rate': 0.1895228784466561, 'feature_fraction': 0.851524359408486, 'bagging_fraction': 0.8173818115513569, 'bagging_freq': 3, 'min_child_samples': 41, 'lambda_l1': 2.9960570567434224, 'lambda_l2': 2.041982093031568, 'min_gain_to_split': 0.044118749254420137, 'max_depth': 8}. Best is trial 52 with value: 0.8366435382979193.\n",
      "⚡ Trial  93: F1 = 0.8355 | Best = 0.8366\n"
     ]
    },
    {
     "name": "stderr",
     "output_type": "stream",
     "text": [
      "Best trial: 52. Best value: 0.836644:  95%|█████████▌| 95/100 [16:37<01:01, 12.37s/it]"
     ]
    },
    {
     "name": "stdout",
     "output_type": "stream",
     "text": [
      "[I 2025-06-27 11:08:19,794] Trial 94 finished with value: 0.8344212954084619 and parameters: {'num_leaves': 95, 'learning_rate': 0.18740150065721328, 'feature_fraction': 0.8543185363996375, 'bagging_fraction': 0.8086871426111294, 'bagging_freq': 4, 'min_child_samples': 41, 'lambda_l1': 2.79065379818039, 'lambda_l2': 2.3765938582274178, 'min_gain_to_split': 0.03807579301158423, 'max_depth': 8}. Best is trial 52 with value: 0.8366435382979193.\n",
      "⚡ Trial  94: F1 = 0.8344 | Best = 0.8366\n"
     ]
    },
    {
     "name": "stderr",
     "output_type": "stream",
     "text": [
      "Best trial: 52. Best value: 0.836644:  96%|█████████▌| 96/100 [16:49<00:49, 12.31s/it]"
     ]
    },
    {
     "name": "stdout",
     "output_type": "stream",
     "text": [
      "[I 2025-06-27 11:08:31,972] Trial 95 finished with value: 0.8324795487142418 and parameters: {'num_leaves': 83, 'learning_rate': 0.17844345321692334, 'feature_fraction': 0.8150306596972934, 'bagging_fraction': 0.8837487789113054, 'bagging_freq': 3, 'min_child_samples': 42, 'lambda_l1': 2.934190059022411, 'lambda_l2': 2.066101494403254, 'min_gain_to_split': 0.0015265354562978284, 'max_depth': 8}. Best is trial 52 with value: 0.8366435382979193.\n",
      "⚡ Trial  95: F1 = 0.8325 | Best = 0.8366\n"
     ]
    },
    {
     "name": "stderr",
     "output_type": "stream",
     "text": [
      "Best trial: 52. Best value: 0.836644:  97%|█████████▋| 97/100 [17:00<00:36, 12.05s/it]"
     ]
    },
    {
     "name": "stdout",
     "output_type": "stream",
     "text": [
      "[I 2025-06-27 11:08:43,411] Trial 96 finished with value: 0.8364840765877255 and parameters: {'num_leaves': 93, 'learning_rate': 0.1998656053551337, 'feature_fraction': 0.8649944440125662, 'bagging_fraction': 0.8711805371048508, 'bagging_freq': 4, 'min_child_samples': 45, 'lambda_l1': 2.9869243714886187, 'lambda_l2': 1.9991031711697231, 'min_gain_to_split': 0.16177886496827903, 'max_depth': 8}. Best is trial 52 with value: 0.8366435382979193.\n",
      "⚡ Trial  96: F1 = 0.8365 | Best = 0.8366\n"
     ]
    },
    {
     "name": "stderr",
     "output_type": "stream",
     "text": [
      "Best trial: 52. Best value: 0.836644:  98%|█████████▊| 98/100 [17:12<00:24, 12.04s/it]"
     ]
    },
    {
     "name": "stdout",
     "output_type": "stream",
     "text": [
      "[I 2025-06-27 11:08:55,411] Trial 97 finished with value: 0.8364529038171439 and parameters: {'num_leaves': 99, 'learning_rate': 0.19892163060877371, 'feature_fraction': 0.8632203029838635, 'bagging_fraction': 0.8692030057821535, 'bagging_freq': 4, 'min_child_samples': 40, 'lambda_l1': 2.9964318475382465, 'lambda_l2': 1.962622105007232, 'min_gain_to_split': 0.17081433941791643, 'max_depth': 8}. Best is trial 52 with value: 0.8366435382979193.\n",
      "⚡ Trial  97: F1 = 0.8365 | Best = 0.8366\n"
     ]
    },
    {
     "name": "stderr",
     "output_type": "stream",
     "text": [
      "Best trial: 52. Best value: 0.836644:  99%|█████████▉| 99/100 [17:24<00:11, 11.91s/it]"
     ]
    },
    {
     "name": "stdout",
     "output_type": "stream",
     "text": [
      "[I 2025-06-27 11:09:07,017] Trial 98 finished with value: 0.8337743898657856 and parameters: {'num_leaves': 88, 'learning_rate': 0.18976768460251814, 'feature_fraction': 0.8408002884312277, 'bagging_fraction': 0.8213536505671482, 'bagging_freq': 4, 'min_child_samples': 40, 'lambda_l1': 2.992403259216391, 'lambda_l2': 1.8660208234413407, 'min_gain_to_split': 0.18810568693391075, 'max_depth': 8}. Best is trial 52 with value: 0.8366435382979193.\n",
      "⚡ Trial  98: F1 = 0.8338 | Best = 0.8366\n"
     ]
    },
    {
     "name": "stderr",
     "output_type": "stream",
     "text": [
      "Best trial: 99. Best value: 0.837181: 100%|██████████| 100/100 [17:35<00:00, 10.55s/it]"
     ]
    },
    {
     "name": "stdout",
     "output_type": "stream",
     "text": [
      "[I 2025-06-27 11:09:18,148] Trial 99 finished with value: 0.837180983405981 and parameters: {'num_leaves': 100, 'learning_rate': 0.19984771352783506, 'feature_fraction': 0.8283482411552469, 'bagging_fraction': 0.8682844881223966, 'bagging_freq': 4, 'min_child_samples': 41, 'lambda_l1': 2.8953672351107667, 'lambda_l2': 1.9572317006495852, 'min_gain_to_split': 0.05577832927298877, 'max_depth': 8}. Best is trial 99 with value: 0.837180983405981.\n",
      "⚡ Trial  99: F1 = 0.8372 | Best = 0.8372\n",
      "\n",
      "🎯 Optimization completed!\n",
      "🏆 Best F1-Score: 0.8372\n",
      "📋 Best Parameters:\n",
      "   num_leaves: 100\n",
      "   learning_rate: 0.19984771352783506\n",
      "   feature_fraction: 0.8283482411552469\n",
      "   bagging_fraction: 0.8682844881223966\n",
      "   bagging_freq: 4\n",
      "   min_child_samples: 41\n",
      "   lambda_l1: 2.8953672351107667\n",
      "   lambda_l2: 1.9572317006495852\n",
      "   min_gain_to_split: 0.05577832927298877\n",
      "   max_depth: 8\n",
      "✅ Part 2 completed! Best parameters found.\n"
     ]
    },
    {
     "name": "stderr",
     "output_type": "stream",
     "text": [
      "\n"
     ]
    }
   ],
   "source": [
    "# LIGHTGBM G\n",
    "# PART 1: SETUP AND DATA PREPARATION\n",
    "# Run this first to set up your data\n",
    "\n",
    "import pandas as pd\n",
    "import numpy as np\n",
    "import optuna\n",
    "import joblib\n",
    "import matplotlib.pyplot as plt\n",
    "import seaborn as sns\n",
    "import warnings\n",
    "warnings.filterwarnings('ignore')\n",
    "\n",
    "from sklearn.model_selection import train_test_split, cross_val_score\n",
    "from sklearn.metrics import classification_report, confusion_matrix, f1_score, roc_auc_score, accuracy_score\n",
    "import lightgbm as lgb\n",
    "\n",
    "# ✅ 1. Select features and target\n",
    "selected_features = [ \n",
    "    \"estimated_total_paid\",\n",
    "    \"carage_years\",\n",
    "    \"kosten_verw\", \n",
    "    \"kosten_prov\", \n",
    "    \"alter\", \n",
    "    \"KILOMETERSTAND_CLEAN\", \n",
    "    \"claim\",\n",
    "    \"state_id\",\n",
    "    \"plz_id\",\n",
    "    \"Cus_typ_id\"\n",
    "]\n",
    "target = 'aktiv'\n",
    "\n",
    "print(\"🚀 Starting Enhanced LightGBM Training with Optuna\")\n",
    "print(f\"📊 Features: {len(selected_features)}\")\n",
    "print(f\"🎯 Target: {target}\")\n",
    "\n",
    "# ✅ 2. Prepare data (changed from df_imp to df)\n",
    "df_model = df[selected_features + [target]].dropna()\n",
    "print(f\"📈 Dataset shape after cleaning: {df_model.shape}\")\n",
    "print(f\"🎲 Target distribution:\\n{df_model[target].value_counts(normalize=True)}\")\n",
    "\n",
    "X = df_model[selected_features]\n",
    "y = df_model[target]\n",
    "\n",
    "# Identify categorical features for LightGBM\n",
    "categorical_features = []\n",
    "for col in selected_features:\n",
    "    if X[col].dtype == 'object' or col.endswith('_id'):\n",
    "        categorical_features.append(col)\n",
    "        \n",
    "print(f\"🏷️ Categorical features detected: {categorical_features}\")\n",
    "\n",
    "# ✅ 3. Split data strategically\n",
    "X_temp, X_test, y_temp, y_test = train_test_split(\n",
    "    X, y, test_size=0.1, random_state=42, stratify=y\n",
    ")\n",
    "X_train, X_val, y_train, y_val = train_test_split(\n",
    "    X_temp, y_temp, test_size=0.11, random_state=42, stratify=y_temp\n",
    ")\n",
    "\n",
    "print(f\"📊 Data splits:\")\n",
    "print(f\"   Training: {X_train.shape[0]} samples\")\n",
    "print(f\"   Validation: {X_val.shape[0]} samples\") \n",
    "print(f\"   Test: {X_test.shape[0]} samples\")\n",
    "\n",
    "# ✅ 4. Enhanced Optuna objective function for LightGBM\n",
    "def objective(trial):\n",
    "    \"\"\"\n",
    "    Enhanced objective function with regularization focus to combat overfitting\n",
    "    \"\"\"\n",
    "    params = {\n",
    "        'objective': 'binary',\n",
    "        'metric': 'binary_logloss',\n",
    "        'boosting_type': 'gbdt',\n",
    "        'num_leaves': trial.suggest_int('num_leaves', 10, 100),\n",
    "        'learning_rate': trial.suggest_float('learning_rate', 0.01, 0.2),\n",
    "        'feature_fraction': trial.suggest_float('feature_fraction', 0.6, 0.9),\n",
    "        'bagging_fraction': trial.suggest_float('bagging_fraction', 0.6, 0.9),\n",
    "        'bagging_freq': trial.suggest_int('bagging_freq', 1, 7),\n",
    "        'min_child_samples': trial.suggest_int('min_child_samples', 5, 50),\n",
    "        'lambda_l1': trial.suggest_float('lambda_l1', 0.1, 3.0),  # L1 regularization\n",
    "        'lambda_l2': trial.suggest_float('lambda_l2', 0.1, 3.0),  # L2 regularization\n",
    "        'min_gain_to_split': trial.suggest_float('min_gain_to_split', 0, 2),\n",
    "        'max_depth': trial.suggest_int('max_depth', 3, 8),\n",
    "        'verbosity': -1,\n",
    "        'random_state': 42,\n",
    "        'n_jobs': -1\n",
    "    }\n",
    "    \n",
    "    # Use cross-validation for robust evaluation\n",
    "    model = lgb.LGBMClassifier(**params, n_estimators=200)\n",
    "    cv_scores = cross_val_score(\n",
    "        model, X_train, y_train, \n",
    "        cv=3,  # 3-fold CV for speed\n",
    "        scoring='f1',\n",
    "        n_jobs=-1\n",
    "    )\n",
    "    \n",
    "    return cv_scores.mean()\n",
    "\n",
    "# ✅ 5. Run Optuna optimization with progress tracking\n",
    "def print_callback(study, trial):\n",
    "    \"\"\"Callback to print progress\"\"\"\n",
    "    print(f\"⚡ Trial {trial.number:3d}: F1 = {trial.value:.4f} | Best = {study.best_value:.4f}\")\n",
    "\n",
    "print(\"\\n🔍 Starting hyperparameter optimization...\")\n",
    "study = optuna.create_study(\n",
    "    direction='maximize',\n",
    "    sampler=optuna.samplers.TPESampler(seed=42)\n",
    ")\n",
    "#no. of trials Optuna will run\n",
    "n_trials = 100  \n",
    "\n",
    "study.optimize(\n",
    "    objective, \n",
    "    n_trials=n_trials,\n",
    "    callbacks=[print_callback],\n",
    "    show_progress_bar=True\n",
    ")\n",
    "\n",
    "print(f\"\\n🎯 Optimization completed!\")\n",
    "print(f\"🏆 Best F1-Score: {study.best_value:.4f}\")\n",
    "print(f\"📋 Best Parameters:\")\n",
    "for key, value in study.best_params.items():\n",
    "    print(f\"   {key}: {value}\")\n",
    "\n",
    "print(\"✅ Part 2 completed! Best parameters found.\")"
   ]
  },
  {
   "cell_type": "code",
   "execution_count": 12,
   "id": "8742bdf6",
   "metadata": {},
   "outputs": [
    {
     "name": "stdout",
     "output_type": "stream",
     "text": [
      "\n",
      "🏗️ Training final model...\n",
      "Training until validation scores don't improve for 20 rounds\n",
      "Did not meet early stopping. Best iteration is:\n",
      "[500]\tvalid_0's binary_logloss: 0.337383\n",
      "💾 Model saved as: enhanced_tuned_lightgbm_model.pkl\n",
      "\n",
      "📊 VALIDATION SET EVALUATION:\n",
      "Classification Report:\n",
      "              precision    recall  f1-score   support\n",
      "\n",
      "           0       0.91      0.78      0.84     43835\n",
      "           1       0.81      0.92      0.86     43061\n",
      "\n",
      "    accuracy                           0.85     86896\n",
      "   macro avg       0.86      0.85      0.85     86896\n",
      "weighted avg       0.86      0.85      0.85     86896\n",
      "\n",
      "📈 Additional Metrics:\n",
      "   F1-Score: 0.8602\n",
      "   Accuracy: 0.8518\n",
      "   ROC-AUC: 0.9237\n",
      "\n",
      "🎯 FINAL TEST SET EVALUATION:\n",
      "Classification Report:\n",
      "              precision    recall  f1-score   support\n",
      "\n",
      "           0       0.91      0.79      0.84     44277\n",
      "           1       0.81      0.92      0.86     43496\n",
      "\n",
      "    accuracy                           0.85     87773\n",
      "   macro avg       0.86      0.85      0.85     87773\n",
      "weighted avg       0.86      0.85      0.85     87773\n",
      "\n",
      "📈 Test Set Metrics:\n",
      "   F1-Score: 0.8619\n",
      "   Accuracy: 0.8535\n",
      "   ROC-AUC: 0.9243\n",
      "✅ Model generalization: Excellent (F1 diff: 0.0017)\n",
      "✅ Part 3 completed! Model trained and evaluated.\n"
     ]
    }
   ],
   "source": [
    "# ✅ 6. Train final model with best parameters\n",
    "print(\"\\n🏗️ Training final model...\")\n",
    "best_params = study.best_params.copy()\n",
    "best_params.update({\n",
    "    'objective': 'binary',\n",
    "    'metric': 'binary_logloss',\n",
    "    'verbosity': -1,\n",
    "    'random_state': 42,\n",
    "    'n_jobs': -1,\n",
    "    'n_estimators': 500  # Increase estimators for final model\n",
    "})\n",
    "\n",
    "final_model = lgb.LGBMClassifier(**best_params)\n",
    "\n",
    "# Fit with evaluation set for early stopping\n",
    "final_model.fit(\n",
    "    X_train, y_train,\n",
    "    eval_set=[(X_val, y_val)],\n",
    "    eval_metric='binary_logloss',\n",
    "    callbacks=[lgb.early_stopping(stopping_rounds=20), lgb.log_evaluation(0)]\n",
    ")\n",
    "\n",
    "# 💾 Save the model\n",
    "model_filename = 'enhanced_tuned_lightgbm_model.pkl'\n",
    "joblib.dump(final_model, model_filename)\n",
    "print(f\"💾 Model saved as: {model_filename}\")\n",
    "\n",
    "# ✅ 7. Comprehensive evaluation on validation set\n",
    "print(\"\\n📊 VALIDATION SET EVALUATION:\")\n",
    "y_pred_val = final_model.predict(X_val)\n",
    "y_pred_proba_val = final_model.predict_proba(X_val)[:, 1]\n",
    "\n",
    "print(\"Classification Report:\")\n",
    "print(classification_report(y_val, y_pred_val))\n",
    "\n",
    "# Additional metrics\n",
    "val_f1 = f1_score(y_val, y_pred_val)\n",
    "val_accuracy = accuracy_score(y_val, y_pred_val)\n",
    "val_auc = roc_auc_score(y_val, y_pred_proba_val)\n",
    "\n",
    "print(f\"📈 Additional Metrics:\")\n",
    "print(f\"   F1-Score: {val_f1:.4f}\")\n",
    "print(f\"   Accuracy: {val_accuracy:.4f}\")\n",
    "print(f\"   ROC-AUC: {val_auc:.4f}\")\n",
    "\n",
    "# ✅ 8. Final evaluation on test set\n",
    "print(\"\\n🎯 FINAL TEST SET EVALUATION:\")\n",
    "y_pred_test = final_model.predict(X_test)\n",
    "y_pred_proba_test = final_model.predict_proba(X_test)[:, 1]\n",
    "\n",
    "print(\"Classification Report:\")\n",
    "print(classification_report(y_test, y_pred_test))\n",
    "\n",
    "# Test metrics\n",
    "test_f1 = f1_score(y_test, y_pred_test)\n",
    "test_accuracy = accuracy_score(y_test, y_pred_test)\n",
    "test_auc = roc_auc_score(y_test, y_pred_proba_test)\n",
    "\n",
    "print(f\"📈 Test Set Metrics:\")\n",
    "print(f\"   F1-Score: {test_f1:.4f}\")\n",
    "print(f\"   Accuracy: {test_accuracy:.4f}\")\n",
    "print(f\"   ROC-AUC: {test_auc:.4f}\")\n",
    "\n",
    "# Overfitting check\n",
    "f1_diff = abs(val_f1 - test_f1)\n",
    "if f1_diff < 0.02:\n",
    "    print(f\"✅ Model generalization: Excellent (F1 diff: {f1_diff:.4f})\")\n",
    "elif f1_diff < 0.05:\n",
    "    print(f\"⚠️  Model generalization: Good (F1 diff: {f1_diff:.4f})\")\n",
    "else:\n",
    "    print(f\"❌ Model generalization: Poor (F1 diff: {f1_diff:.4f})\")\n",
    "\n",
    "print(\"✅ Part 3 completed! Model trained and evaluated.\")\n"
   ]
  },
  {
   "cell_type": "code",
   "execution_count": 13,
   "id": "3d1c9ac4",
   "metadata": {},
   "outputs": [
    {
     "data": {
      "image/png": "[encoded data removed]",
      "text/plain": [
       "<Figure size 1500x1000 with 6 Axes>"
      ]
     },
     "metadata": {},
     "output_type": "display_data"
    },
    {
     "name": "stdout",
     "output_type": "stream",
     "text": [
      "\n",
      "📊 LightGBM Specific Analysis:\n"
     ]
    },
    {
     "data": {
      "image/png": "[encoded data removed]",
      "text/plain": [
       "<Figure size 1200x400 with 2 Axes>"
      ]
     },
     "metadata": {},
     "output_type": "display_data"
    },
    {
     "name": "stdout",
     "output_type": "stream",
     "text": [
      "\n",
      "============================================================\n",
      "📋 FINAL LIGHTGBM SUMMARY REPORT\n",
      "============================================================\n",
      "🎯 Best Hyperparameters Found:\n",
      "   num_leaves: 100\n",
      "   learning_rate: 0.19984771352783506\n",
      "   feature_fraction: 0.8283482411552469\n",
      "   bagging_fraction: 0.8682844881223966\n",
      "   bagging_freq: 4\n",
      "   min_child_samples: 41\n",
      "   lambda_l1: 2.8953672351107667\n",
      "   lambda_l2: 1.9572317006495852\n",
      "   min_gain_to_split: 0.05577832927298877\n",
      "   max_depth: 8\n",
      "\n",
      "📊 Performance Summary:\n",
      "   Validation F1: 0.8602\n",
      "   Test F1:       0.8619\n",
      "   Validation AUC: 0.9237\n",
      "   Test AUC:       0.9243\n",
      "\n",
      "🏷️ Categorical Features: ['state_id', 'plz_id', 'Cus_typ_id']\n",
      "🌳 Final number of trees: 500\n",
      "🛑 Early stopping rounds: 0\n",
      "\n",
      "💾 Model saved as: enhanced_tuned_lightgbm_model.pkl\n",
      "🎉 LightGBM Training completed successfully!\n",
      "📊 Study results saved as: lightgbm_optuna100results.pkl\n",
      "\n",
      "📈 Results Summary:\n",
      "      Dataset  F1_Score  Accuracy   ROC_AUC\n",
      "0  Validation  0.860223  0.851811  0.923689\n",
      "1        Test  0.861880  0.853543  0.924274\n",
      "\n",
      "🔍 LightGBM vs XGBoost Insights:\n",
      "   • LightGBM typically trains faster than XGBoost\n",
      "   • LightGBM uses leaf-wise tree growth (vs level-wise)\n",
      "   • Better memory efficiency with categorical features\n",
      "   • Native support for categorical features detected: 3 features\n",
      "✅ Part 4 completed! All visualizations and reports generated.\n",
      "\n",
      "🔮 Model ready for predictions!\n",
      "   Use: predict_with_model(final_model, your_new_data)\n"
     ]
    }
   ],
   "source": [
    "# PART 4: VISUALIZATIONS AND FINAL REPORT\n",
    "# Run this after Part 3 is completed\n",
    "\n",
    "# ✅ 9. Visualizations\n",
    "plt.figure(figsize=(15, 10))\n",
    "\n",
    "# Confusion Matrix - Validation\n",
    "plt.subplot(2, 3, 1)\n",
    "cm_val = confusion_matrix(y_val, y_pred_val)\n",
    "sns.heatmap(cm_val, annot=True, fmt=\"d\", cmap=\"Blues\", cbar=False)\n",
    "plt.title(\"Confusion Matrix - Validation\")\n",
    "plt.xlabel(\"Predicted\")\n",
    "plt.ylabel(\"Actual\")\n",
    "\n",
    "# Confusion Matrix - Test\n",
    "plt.subplot(2, 3, 2)\n",
    "cm_test = confusion_matrix(y_test, y_pred_test)\n",
    "sns.heatmap(cm_test, annot=True, fmt=\"d\", cmap=\"Greens\", cbar=False)\n",
    "plt.title(\"Confusion Matrix - Test\")\n",
    "plt.xlabel(\"Predicted\")\n",
    "plt.ylabel(\"Actual\")\n",
    "\n",
    "# Feature Importance\n",
    "plt.subplot(2, 3, 3)\n",
    "importance_df = pd.DataFrame({\n",
    "    'Feature': selected_features,\n",
    "    'Importance': final_model.feature_importances_\n",
    "}).sort_values(by='Importance', ascending=True)\n",
    "\n",
    "plt.barh(range(len(importance_df)), importance_df['Importance'])\n",
    "plt.yticks(range(len(importance_df)), importance_df['Feature'])\n",
    "plt.title(\"Feature Importance - LightGBM\")\n",
    "plt.xlabel(\"Importance\")\n",
    "\n",
    "# Optuna optimization history\n",
    "plt.subplot(2, 3, 4)\n",
    "trials_df = study.trials_dataframe()\n",
    "plt.plot(trials_df['number'], trials_df['value'])\n",
    "plt.title(\"Optimization History\")\n",
    "plt.xlabel(\"Trial\")\n",
    "plt.ylabel(\"F1-Score\")\n",
    "plt.grid(True, alpha=0.3)\n",
    "\n",
    "# Performance comparison\n",
    "plt.subplot(2, 3, 5)\n",
    "metrics = ['F1-Score', 'Accuracy', 'ROC-AUC']\n",
    "val_scores = [val_f1, val_accuracy, val_auc]\n",
    "test_scores = [test_f1, test_accuracy, test_auc]\n",
    "\n",
    "x = np.arange(len(metrics))\n",
    "width = 0.35\n",
    "\n",
    "plt.bar(x - width/2, val_scores, width, label='Validation', alpha=0.8)\n",
    "plt.bar(x + width/2, test_scores, width, label='Test', alpha=0.8)\n",
    "plt.xlabel('Metrics')\n",
    "plt.ylabel('Score')\n",
    "plt.title('Model Performance Comparison')\n",
    "plt.xticks(x, metrics)\n",
    "plt.legend()\n",
    "plt.ylim(0, 1)\n",
    "\n",
    "# Parameter importance\n",
    "plt.subplot(2, 3, 6)\n",
    "param_importance = optuna.importance.get_param_importances(study)\n",
    "params = list(param_importance.keys())\n",
    "importances = list(param_importance.values())\n",
    "\n",
    "plt.barh(range(len(params)), importances)\n",
    "plt.yticks(range(len(params)), params)\n",
    "plt.title(\"Hyperparameter Importance\")\n",
    "plt.xlabel(\"Importance\")\n",
    "\n",
    "plt.tight_layout()\n",
    "plt.show()\n",
    "\n",
    "# ✅ 10. LightGBM specific visualizations\n",
    "print(\"\\n📊 LightGBM Specific Analysis:\")\n",
    "\n",
    "# Training history\n",
    "plt.figure(figsize=(12, 4))\n",
    "\n",
    "# Training loss curve\n",
    "plt.subplot(1, 2, 1)\n",
    "results = final_model.evals_result_\n",
    "if 'valid_0' in results:\n",
    "    plt.plot(results['valid_0']['binary_logloss'], label='Validation Loss')\n",
    "    plt.title('Training History - Loss')\n",
    "    plt.xlabel('Iteration')\n",
    "    plt.ylabel('Binary Log Loss')\n",
    "    plt.legend()\n",
    "    plt.grid(True, alpha=0.3)\n",
    "\n",
    "# Feature importance by different metrics\n",
    "plt.subplot(1, 2, 2)\n",
    "# Get feature importance by gain\n",
    "importance_gain = final_model.booster_.feature_importance(importance_type='gain')\n",
    "importance_df_gain = pd.DataFrame({\n",
    "    'Feature': selected_features,\n",
    "    'Gain': importance_gain\n",
    "}).sort_values(by='Gain', ascending=True)\n",
    "\n",
    "plt.barh(range(len(importance_df_gain)), importance_df_gain['Gain'])\n",
    "plt.yticks(range(len(importance_df_gain)), importance_df_gain['Feature'])\n",
    "plt.title(\"Feature Importance - Gain\")\n",
    "plt.xlabel(\"Gain\")\n",
    "\n",
    "plt.tight_layout()\n",
    "plt.show()\n",
    "\n",
    "# ✅ 11. Summary report\n",
    "print(\"\\n\" + \"=\"*60)\n",
    "print(\"📋 FINAL LIGHTGBM SUMMARY REPORT\")\n",
    "print(\"=\"*60)\n",
    "print(f\"🎯 Best Hyperparameters Found:\")\n",
    "for param, value in study.best_params.items():\n",
    "    print(f\"   {param}: {value}\")\n",
    "\n",
    "print(f\"\\n📊 Performance Summary:\")\n",
    "print(f\"   Validation F1: {val_f1:.4f}\")\n",
    "print(f\"   Test F1:       {test_f1:.4f}\")\n",
    "print(f\"   Validation AUC: {val_auc:.4f}\")\n",
    "print(f\"   Test AUC:       {test_auc:.4f}\")\n",
    "\n",
    "print(f\"\\n🏷️ Categorical Features: {categorical_features}\")\n",
    "print(f\"🌳 Final number of trees: {final_model.n_estimators}\")\n",
    "print(f\"🛑 Early stopping rounds: {final_model.n_estimators - len(results['valid_0']['binary_logloss']) if 'valid_0' in results else 'N/A'}\")\n",
    "\n",
    "print(f\"\\n💾 Model saved as: {model_filename}\")\n",
    "print(\"🎉 LightGBM Training completed successfully!\")\n",
    "\n",
    "# ✅ 12. Optional: Save study results\n",
    "study_filename = 'lightgbm_optuna100results.pkl'\n",
    "joblib.dump(study, study_filename)\n",
    "print(f\"📊 Study results saved as: {study_filename}\")\n",
    "\n",
    "# Create results dataframe for future analysis\n",
    "results_df = pd.DataFrame({\n",
    "    'Dataset': ['Validation', 'Test'],\n",
    "    'F1_Score': [val_f1, test_f1],\n",
    "    'Accuracy': [val_accuracy, test_accuracy],\n",
    "    'ROC_AUC': [val_auc, test_auc]\n",
    "})\n",
    "\n",
    "print(f\"\\n📈 Results Summary:\")\n",
    "print(results_df)\n",
    "\n",
    "# ✅ 13. Model comparison insights\n",
    "print(f\"\\n🔍 LightGBM vs XGBoost Insights:\")\n",
    "print(f\"   • LightGBM typically trains faster than XGBoost\")\n",
    "print(f\"   • LightGBM uses leaf-wise tree growth (vs level-wise)\")\n",
    "print(f\"   • Better memory efficiency with categorical features\")\n",
    "print(f\"   • Native support for categorical features detected: {len(categorical_features)} features\")\n",
    "\n",
    "print(\"✅ Part 4 completed! All visualizations and reports generated.\")\n",
    "\n",
    "# ✅ 14. Optional: Quick prediction function\n",
    "def predict_with_model(model, new_data):\n",
    "    \"\"\"Helper function for making predictions with the trained model\"\"\"\n",
    "    predictions = model.predict(new_data)\n",
    "    probabilities = model.predict_proba(new_data)[:, 1]\n",
    "    return predictions, probabilities\n",
    "\n",
    "print(f\"\\n🔮 Model ready for predictions!\")\n",
    "print(f\"   Use: predict_with_model(final_model, your_new_data)\")"
   ]
  },
  {
   "cell_type": "code",
   "execution_count": null,
   "id": "0a7262f0",
   "metadata": {},
   "outputs": [],
   "source": []
  },
  {
   "cell_type": "code",
   "execution_count": 14,
   "id": "0cdcadb1",
   "metadata": {},
   "outputs": [
    {
     "name": "stdout",
     "output_type": "stream",
     "text": [
      "🔍 FEATURE DOMINANCE ANALYSIS WORKFLOW\n",
      "============================================================\n",
      "✅ Analysis tools ready! Uncomment the sections you want to run.\n"
     ]
    }
   ],
   "source": [
    "# FEATURE DOMINANCE ANALYSIS AND SOLUTIONS\n",
    "\n",
    "import pandas as pd\n",
    "import numpy as np\n",
    "import matplotlib.pyplot as plt\n",
    "import seaborn as sns\n",
    "from sklearn.model_selection import train_test_split\n",
    "from sklearn.metrics import f1_score, roc_auc_score\n",
    "import lightgbm as lgb\n",
    "\n",
    "# ✅ 1. ANALYZE FEATURE DOMINANCE\n",
    "def analyze_feature_dominance(model, feature_names, threshold=0.5):\n",
    "    \"\"\"\n",
    "    Analyze if any feature is too dominant\n",
    "    \"\"\"\n",
    "    importance = model.feature_importances_\n",
    "    total_importance = sum(importance)\n",
    "    \n",
    "    # Calculate relative importance\n",
    "    relative_importance = importance / total_importance\n",
    "    \n",
    "    # Create analysis dataframe\n",
    "    analysis_df = pd.DataFrame({\n",
    "        'Feature': feature_names,\n",
    "        'Importance': importance,\n",
    "        'Relative_Importance': relative_importance,\n",
    "        'Cumulative_Importance': np.cumsum(relative_importance)\n",
    "    }).sort_values('Importance', ascending=False)\n",
    "    \n",
    "    print(\"🔍 FEATURE DOMINANCE ANALYSIS\")\n",
    "    print(\"=\"*50)\n",
    "    print(analysis_df)\n",
    "    \n",
    "    # Check for dominance\n",
    "    dominant_features = analysis_df[analysis_df['Relative_Importance'] > threshold]\n",
    "    \n",
    "    if len(dominant_features) > 0:\n",
    "        print(f\"\\n⚠️ DOMINANT FEATURES DETECTED (>{threshold*100}% importance):\")\n",
    "        for _, row in dominant_features.iterrows():\n",
    "            print(f\"   {row['Feature']}: {row['Relative_Importance']:.1%}\")\n",
    "    else:\n",
    "        print(f\"\\n✅ No overly dominant features detected\")\n",
    "    \n",
    "    return analysis_df\n",
    "\n",
    "# ✅ 2. TEST MODEL WITHOUT DOMINANT FEATURE\n",
    "def test_without_dominant_feature(X_train, X_val, X_test, y_train, y_val, y_test, \n",
    "                                 dominant_feature, best_params):\n",
    "    \"\"\"\n",
    "    Test model performance without the dominant feature\n",
    "    \"\"\"\n",
    "    print(f\"\\n🧪 TESTING MODEL WITHOUT '{dominant_feature}'\")\n",
    "    print(\"=\"*50)\n",
    "    \n",
    "    # Remove dominant feature\n",
    "    X_train_reduced = X_train.drop(columns=[dominant_feature])\n",
    "    X_val_reduced = X_val.drop(columns=[dominant_feature])\n",
    "    X_test_reduced = X_test.drop(columns=[dominant_feature])\n",
    "    \n",
    "    # Train model without dominant feature\n",
    "    model_reduced = lgb.LGBMClassifier(**best_params)\n",
    "    model_reduced.fit(\n",
    "        X_train_reduced, y_train,\n",
    "        eval_set=[(X_val_reduced, y_val)],\n",
    "        callbacks=[lgb.early_stopping(stopping_rounds=20), lgb.log_evaluation(0)]\n",
    "    )\n",
    "    \n",
    "    # Evaluate\n",
    "    y_pred_val = model_reduced.predict(X_val_reduced)\n",
    "    y_pred_test = model_reduced.predict(X_test_reduced)\n",
    "    y_pred_proba_val = model_reduced.predict_proba(X_val_reduced)[:, 1]\n",
    "    y_pred_proba_test = model_reduced.predict_proba(X_test_reduced)[:, 1]\n",
    "    \n",
    "    # Calculate metrics\n",
    "    val_f1_reduced = f1_score(y_val, y_pred_val)\n",
    "    test_f1_reduced = f1_score(y_test, y_pred_test)\n",
    "    val_auc_reduced = roc_auc_score(y_val, y_pred_proba_val)\n",
    "    test_auc_reduced = roc_auc_score(y_test, y_pred_proba_test)\n",
    "    \n",
    "    print(f\"📊 Performance without '{dominant_feature}':\")\n",
    "    print(f\"   Validation F1: {val_f1_reduced:.4f}\")\n",
    "    print(f\"   Test F1: {test_f1_reduced:.4f}\")\n",
    "    print(f\"   Validation AUC: {val_auc_reduced:.4f}\")\n",
    "    print(f\"   Test AUC: {test_auc_reduced:.4f}\")\n",
    "    \n",
    "    return {\n",
    "        'model': model_reduced,\n",
    "        'val_f1': val_f1_reduced,\n",
    "        'test_f1': test_f1_reduced,\n",
    "        'val_auc': val_auc_reduced,\n",
    "        'test_auc': test_auc_reduced\n",
    "    }\n",
    "\n",
    "# ✅ 3. CORRELATION ANALYSIS\n",
    "def analyze_feature_correlations(df, target_col):\n",
    "    \"\"\"\n",
    "    Analyze correlations between features and target\n",
    "    \"\"\"\n",
    "    print(f\"\\n📈 CORRELATION ANALYSIS WITH TARGET '{target_col}'\")\n",
    "    print(\"=\"*50)\n",
    "    \n",
    "    # Calculate correlations\n",
    "    correlations = df.corr()[target_col].sort_values(ascending=False)\n",
    "    \n",
    "    print(\"Feature correlations with target:\")\n",
    "    for feature, corr in correlations.items():\n",
    "        if feature != target_col:\n",
    "            print(f\"   {feature}: {corr:.4f}\")\n",
    "    \n",
    "    # Visualize correlations\n",
    "    plt.figure(figsize=(10, 6))\n",
    "    correlations_clean = correlations.drop(target_col)\n",
    "    plt.barh(range(len(correlations_clean)), correlations_clean.values)\n",
    "    plt.yticks(range(len(correlations_clean)), correlations_clean.index)\n",
    "    plt.title(f'Feature Correlations with {target_col}')\n",
    "    plt.xlabel('Correlation Coefficient')\n",
    "    plt.grid(True, alpha=0.3)\n",
    "    plt.tight_layout()\n",
    "    plt.show()\n",
    "    \n",
    "    return correlations\n",
    "\n",
    "# ✅ 4. DATA LEAKAGE CHECK\n",
    "def check_data_leakage(df, target_col, suspicious_features):\n",
    "    \"\"\"\n",
    "    Check for potential data leakage\n",
    "    \"\"\"\n",
    "    print(f\"\\n🔍 DATA LEAKAGE CHECK\")\n",
    "    print(\"=\"*50)\n",
    "    \n",
    "    for feature in suspicious_features:\n",
    "        if feature in df.columns:\n",
    "            # Check correlation\n",
    "            corr = df[feature].corr(df[target_col])\n",
    "            \n",
    "            # Check if feature values are suspiciously different between classes\n",
    "            active_mean = df[df[target_col] == 1][feature].mean()\n",
    "            inactive_mean = df[df[target_col] == 0][feature].mean()\n",
    "            ratio = active_mean / inactive_mean if inactive_mean != 0 else float('inf')\n",
    "            \n",
    "            print(f\"📊 {feature}:\")\n",
    "            print(f\"   Correlation with target: {corr:.4f}\")\n",
    "            print(f\"   Active customers mean: {active_mean:.2f}\")\n",
    "            print(f\"   Inactive customers mean: {inactive_mean:.2f}\")\n",
    "            print(f\"   Ratio (active/inactive): {ratio:.2f}\")\n",
    "            \n",
    "            if abs(corr) > 0.8:\n",
    "                print(f\"   ⚠️ HIGH CORRELATION - Potential leakage!\")\n",
    "            if ratio > 10 or ratio < 0.1:\n",
    "                print(f\"   ⚠️ EXTREME DIFFERENCE - Check for leakage!\")\n",
    "            print()\n",
    "\n",
    "# ✅ 5. REGULARIZATION SOLUTIONS\n",
    "def create_regularized_models(X_train, X_val, y_train, y_val):\n",
    "    \"\"\"\n",
    "    Create models with different regularization approaches\n",
    "    \"\"\"\n",
    "    print(f\"\\n🛠️ REGULARIZATION SOLUTIONS\")\n",
    "    print(\"=\"*50)\n",
    "    \n",
    "    models = {}\n",
    "    \n",
    "    # 1. Strong L1 regularization (feature selection)\n",
    "    print(\"1️⃣ Testing Strong L1 Regularization...\")\n",
    "    params_l1 = {\n",
    "        'objective': 'binary',\n",
    "        'metric': 'binary_logloss',\n",
    "        'boosting_type': 'gbdt',\n",
    "        'num_leaves': 31,\n",
    "        'learning_rate': 0.1,\n",
    "        'feature_fraction': 0.8,\n",
    "        'bagging_fraction': 0.8,\n",
    "        'bagging_freq': 5,\n",
    "        'lambda_l1': 10.0,  # Very strong L1\n",
    "        'lambda_l2': 1.0,\n",
    "        'min_child_samples': 20,\n",
    "        'verbosity': -1,\n",
    "        'random_state': 42,\n",
    "        'n_estimators': 200\n",
    "    }\n",
    "    \n",
    "    model_l1 = lgb.LGBMClassifier(**params_l1)\n",
    "    model_l1.fit(X_train, y_train, eval_set=[(X_val, y_val)], \n",
    "                 callbacks=[lgb.early_stopping(stopping_rounds=20), lgb.log_evaluation(0)])\n",
    "    models['L1_Regularized'] = model_l1\n",
    "    \n",
    "    # 2. Feature fraction reduction\n",
    "    print(\"2️⃣ Testing Reduced Feature Fraction...\")\n",
    "    params_ff = {\n",
    "        'objective': 'binary',\n",
    "        'metric': 'binary_logloss',\n",
    "        'boosting_type': 'gbdt',\n",
    "        'num_leaves': 31,\n",
    "        'learning_rate': 0.1,\n",
    "        'feature_fraction': 0.5,  # Use only 50% of features per tree\n",
    "        'bagging_fraction': 0.8,\n",
    "        'bagging_freq': 5,\n",
    "        'lambda_l1': 2.0,\n",
    "        'lambda_l2': 2.0,\n",
    "        'min_child_samples': 20,\n",
    "        'verbosity': -1,\n",
    "        'random_state': 42,\n",
    "        'n_estimators': 200\n",
    "    }\n",
    "    \n",
    "    model_ff = lgb.LGBMClassifier(**params_ff)\n",
    "    model_ff.fit(X_train, y_train, eval_set=[(X_val, y_val)],\n",
    "                 callbacks=[lgb.early_stopping(stopping_rounds=20), lgb.log_evaluation(0)])\n",
    "    models['Reduced_Feature_Fraction'] = model_ff\n",
    "    \n",
    "    return models\n",
    "\n",
    "# ✅ 6. COMPARATIVE ANALYSIS\n",
    "def compare_model_variants(models, X_val, X_test, y_val, y_test, original_scores):\n",
    "    \"\"\"\n",
    "    Compare different model variants\n",
    "    \"\"\"\n",
    "    print(f\"\\n📊 MODEL COMPARISON\")\n",
    "    print(\"=\"*60)\n",
    "    \n",
    "    results = []\n",
    "    \n",
    "    # Add original model results\n",
    "    results.append({\n",
    "        'Model': 'Original',\n",
    "        'Val_F1': original_scores['val_f1'],\n",
    "        'Test_F1': original_scores['test_f1'],\n",
    "        'Val_AUC': original_scores['val_auc'],\n",
    "        'Test_AUC': original_scores['test_auc']\n",
    "    })\n",
    "    \n",
    "    # Test each variant\n",
    "    for name, model in models.items():\n",
    "        y_pred_val = model.predict(X_val)\n",
    "        y_pred_test = model.predict(X_test)\n",
    "        y_pred_proba_val = model.predict_proba(X_val)[:, 1]\n",
    "        y_pred_proba_test = model.predict_proba(X_test)[:, 1]\n",
    "        \n",
    "        val_f1 = f1_score(y_val, y_pred_val)\n",
    "        test_f1 = f1_score(y_test, y_pred_test)\n",
    "        val_auc = roc_auc_score(y_val, y_pred_proba_val)\n",
    "        test_auc = roc_auc_score(y_test, y_pred_proba_test)\n",
    "        \n",
    "        results.append({\n",
    "            'Model': name,\n",
    "            'Val_F1': val_f1,\n",
    "            'Test_F1': test_f1,\n",
    "            'Val_AUC': val_auc,\n",
    "            'Test_AUC': test_auc\n",
    "        })\n",
    "        \n",
    "        print(f\"🔸 {name}:\")\n",
    "        print(f\"   Val F1: {val_f1:.4f}, Test F1: {test_f1:.4f}\")\n",
    "        print(f\"   Val AUC: {val_auc:.4f}, Test AUC: {test_auc:.4f}\")\n",
    "    \n",
    "    # Create comparison dataframe\n",
    "    comparison_df = pd.DataFrame(results)\n",
    "    print(f\"\\n📋 Summary Table:\")\n",
    "    print(comparison_df.round(4))\n",
    "    \n",
    "    return comparison_df\n",
    "\n",
    "# ✅ MAIN ANALYSIS WORKFLOW\n",
    "print(\"🔍 FEATURE DOMINANCE ANALYSIS WORKFLOW\")\n",
    "print(\"=\"*60)\n",
    "\n",
    "# Replace these with your actual data and model\n",
    "# analysis_df = analyze_feature_dominance(final_model, selected_features, threshold=0.4)\n",
    "\n",
    "# Check correlations\n",
    "# correlations = analyze_feature_correlations(df_model, target)\n",
    "\n",
    "# Check for data leakage\n",
    "# check_data_leakage(df_model, target, ['estimated_total_paid'])\n",
    "\n",
    "# Test without dominant feature\n",
    "# results_without_dominant = test_without_dominant_feature(\n",
    "#     X_train, X_val, X_test, y_train, y_val, y_test, \n",
    "#     'estimated_total_paid', best_params\n",
    "# )\n",
    "\n",
    "# Create regularized models\n",
    "# regularized_models = create_regularized_models(X_train, X_val, y_train, y_val)\n",
    "\n",
    "# Compare all variants\n",
    "# original_scores = {\n",
    "#     'val_f1': 0.8602,  # Your original scores\n",
    "#     'test_f1': 0.8619,\n",
    "#     'val_auc': 0.9237,\n",
    "#     'test_auc': 0.9243\n",
    "# }\n",
    "# comparison_results = compare_model_variants(\n",
    "#     regularized_models, X_val, X_test, y_val, y_test, original_scores\n",
    "# )\n",
    "\n",
    "print(\"✅ Analysis tools ready! Uncomment the sections you want to run.\")"
   ]
  },
  {
   "cell_type": "code",
   "execution_count": 31,
   "id": "2b6d638c",
   "metadata": {},
   "outputs": [
    {
     "name": "stdout",
     "output_type": "stream",
     "text": [
      "🔍 FEATURE DOMINANCE ANALYSIS\n",
      "==================================================\n",
      "                Feature  Importance  Relative_Importance  \\\n",
      "3           kosten_prov        8563             0.178292   \n",
      "2           kosten_verw        8335             0.173545   \n",
      "0  estimated_total_paid        7337             0.152765   \n",
      "5  KILOMETERSTAND_CLEAN        6302             0.131215   \n",
      "8                plz_id        5977             0.124448   \n",
      "4                 alter        5243             0.109165   \n",
      "1          carage_years        3392             0.070625   \n",
      "7              state_id        2553             0.053156   \n",
      "6                 claim         165             0.003435   \n",
      "9            Cus_typ_id         161             0.003352   \n",
      "\n",
      "   Cumulative_Importance  \n",
      "3               0.575227  \n",
      "2               0.396935  \n",
      "0               0.152765  \n",
      "5               0.815608  \n",
      "8               0.996648  \n",
      "4               0.684392  \n",
      "1               0.223391  \n",
      "7               0.872200  \n",
      "6               0.819043  \n",
      "9               1.000000  \n",
      "\n",
      "✅ No overly dominant features detected\n",
      "\n",
      "🔍 DATA LEAKAGE CHECK\n",
      "==================================================\n",
      "📊 estimated_total_paid:\n",
      "   Correlation with target: 0.4111\n",
      "   Active customers mean: 1278.98\n",
      "   Inactive customers mean: 436.95\n",
      "   Ratio (active/inactive): 2.93\n",
      "\n",
      "\n",
      "🧪 TESTING MODEL WITHOUT 'estimated_total_paid'\n",
      "==================================================\n",
      "Training until validation scores don't improve for 20 rounds\n",
      "Did not meet early stopping. Best iteration is:\n",
      "[500]\tvalid_0's binary_logloss: 0.410862\n",
      "📊 Performance without 'estimated_total_paid':\n",
      "   Validation F1: 0.8209\n",
      "   Test F1: 0.8249\n",
      "   Validation AUC: 0.8920\n",
      "   Test AUC: 0.8944\n"
     ]
    }
   ],
   "source": [
    "# Check if estimated_total_paid is problematic\n",
    "analysis_df = analyze_feature_dominance(final_model, selected_features, threshold=0.4)\n",
    "\n",
    "# Check for data leakage\n",
    "check_data_leakage(df_model, target, ['estimated_total_paid'])\n",
    "\n",
    "# Test model without dominant feature\n",
    "results_without_dominant = test_without_dominant_feature(\n",
    "    X_train, X_val, X_test, y_train, y_val, y_test, \n",
    "    'estimated_total_paid', best_params\n",
    ")"
   ]
  },
  {
   "cell_type": "code",
   "execution_count": 32,
   "id": "92720ff2",
   "metadata": {},
   "outputs": [],
   "source": [
    "import joblib\n",
    "model = joblib.load(\"D:\\\\IV_Mastertheis\\\\enhanced_tuned_lightgbm_model.pkl\")\n"
   ]
  },
  {
   "cell_type": "code",
   "execution_count": null,
   "id": "b14d5384",
   "metadata": {},
   "outputs": [
    {
     "ename": "UnpicklingError",
     "evalue": "invalid load key, '\\x0e'.",
     "output_type": "error",
     "traceback": [
      "\u001b[31m---------------------------------------------------------------------------\u001b[39m",
      "\u001b[31mUnpicklingError\u001b[39m                           Traceback (most recent call last)",
      "\u001b[36mCell\u001b[39m\u001b[36m \u001b[39m\u001b[32mIn[33]\u001b[39m\u001b[32m, line 7\u001b[39m\n\u001b[32m      4\u001b[39m \u001b[38;5;28;01mimport\u001b[39;00m\u001b[38;5;250m \u001b[39m\u001b[34;01mlightgbm\u001b[39;00m\u001b[38;5;250m \u001b[39m\u001b[38;5;28;01mas\u001b[39;00m\u001b[38;5;250m \u001b[39m\u001b[34;01mlgb\u001b[39;00m  \u001b[38;5;66;03m# Must be imported BEFORE loading\u001b[39;00m\n\u001b[32m      6\u001b[39m \u001b[38;5;28;01mwith\u001b[39;00m \u001b[38;5;28mopen\u001b[39m(\u001b[33m'\u001b[39m\u001b[33menhanced_tuned_lightgbm_model.pkl\u001b[39m\u001b[33m'\u001b[39m, \u001b[33m'\u001b[39m\u001b[33mrb\u001b[39m\u001b[33m'\u001b[39m) \u001b[38;5;28;01mas\u001b[39;00m f:\n\u001b[32m----> \u001b[39m\u001b[32m7\u001b[39m     model = \u001b[43mpickle\u001b[49m\u001b[43m.\u001b[49m\u001b[43mload\u001b[49m\u001b[43m(\u001b[49m\u001b[43mf\u001b[49m\u001b[43m)\u001b[49m\n\u001b[32m     11\u001b[39m \u001b[38;5;66;03m# Initialize Flask app\u001b[39;00m\n\u001b[32m     12\u001b[39m app = Flask(\u001b[34m__name__\u001b[39m)\n",
      "\u001b[31mUnpicklingError\u001b[39m: invalid load key, '\\x0e'."
     ]
    }
   ],
   "source": [
    "from flask import Flask, request, jsonify\n",
    "import pickle\n",
    "import numpy as np\n",
    "import lightgbm as lgb  # Must be imported BEFORE loading\n",
    "\n",
    "with open('enhanced_tuned_lightgbm_model.pkl', 'rb') as f:\n",
    "    model = pickle.load(f)\n",
    "# Initialize Flask app\n",
    "app = Flask(__name__)\n",
    "\n",
    "# Define the list of expected features in correct order\n",
    "selected_features = [ \n",
    "    \"estimated_total_paid\",\n",
    "    \"carage_years\",\n",
    "    \"kosten_verw\", \n",
    "    \"kosten_prov\", \n",
    "    \"alter\", \n",
    "    \"KILOMETERSTAND_CLEAN\", \n",
    "    \"claim\",\n",
    "    \"state_id\",\n",
    "    \"plz_id\",\n",
    "    \"Cus_typ_id\"\n",
    "]\n",
    "\n",
    "@app.route('/predict', methods=['POST'])\n",
    "def predict():\n",
    "    data = request.get_json(force=True)\n",
    "\n",
    "    # Extract feature values in the correct order\n",
    "    try:\n",
    "        features = [data[feature] for feature in selected_features]\n",
    "    except KeyError as e:\n",
    "        return jsonify({'error': f'Missing feature in input: {str(e)}'}), 400\n",
    "\n",
    "    # Predict\n",
    "    prediction = model.predict([features])\n",
    "\n",
    "    # Return the prediction as JSON\n",
    "    return jsonify({'prediction': prediction.tolist()})\n",
    "\n",
    "if __name__ == '__main__':\n",
    "    app.run(debug=True)\n"
   ]
  },
  {
   "cell_type": "code",
   "execution_count": null,
   "id": "aeb97b2e",
   "metadata": {},
   "outputs": [],
   "source": []
  },
  {
   "cell_type": "code",
   "execution_count": null,
   "id": "c31b5bd9",
   "metadata": {},
   "outputs": [
    {
     "name": "stdout",
     "output_type": "stream",
     "text": [
      "b'\\x80\\x04\\x95\\xe5\\x01\\x00\\x00\\x00\\x00\\x00\\x00\\x8c\\x10lightgb'\n"
     ]
    }
   ],
   "source": [
    "with open('enhanced_tuned_lightgbm_model.pkl', 'rb') as f:\n",
    "    head = f.read(20)\n",
    "    print(head)\n",
    "\n"
   ]
  },
  {
   "cell_type": "code",
   "execution_count": 9,
   "id": "84fcd4b3",
   "metadata": {},
   "outputs": [
    {
     "name": "stderr",
     "output_type": "stream",
     "text": [
      "C:\\Users\\VIP\\AppData\\Local\\Temp\\ipykernel_13772\\2698870634.py:2: DtypeWarning: Columns (20) have mixed types. Specify dtype option on import or set low_memory=False.\n",
      "  Pred = pd.read_csv(r'C:\\Users\\VIP\\Desktop\\CUS_EXPORT.csv', encoding='latin1')\n"
     ]
    }
   ],
   "source": [
    "import pandas as pd\n",
    "Pred = pd.read_csv(r'C:\\Users\\VIP\\Desktop\\CUS_EXPORT.csv', encoding='latin1')\n"
   ]
  },
  {
   "cell_type": "code",
   "execution_count": 2,
   "id": "e52f4d0e",
   "metadata": {},
   "outputs": [
    {
     "data": {
      "text/html": [
       "<div>\n",
       "<style scoped>\n",
       "    .dataframe tbody tr th:only-of-type {\n",
       "        vertical-align: middle;\n",
       "    }\n",
       "\n",
       "    .dataframe tbody tr th {\n",
       "        vertical-align: top;\n",
       "    }\n",
       "\n",
       "    .dataframe thead th {\n",
       "        text-align: right;\n",
       "    }\n",
       "</style>\n",
       "<table border=\"1\" class=\"dataframe\">\n",
       "  <thead>\n",
       "    <tr style=\"text-align: right;\">\n",
       "      <th></th>\n",
       "      <th>pvsnr</th>\n",
       "      <th>vsnr</th>\n",
       "      <th>status</th>\n",
       "      <th>aktiv</th>\n",
       "      <th>akt_kuka</th>\n",
       "      <th>spartek</th>\n",
       "      <th>beginn</th>\n",
       "      <th>datum_s</th>\n",
       "      <th>vtr_dau</th>\n",
       "      <th>kund_beg</th>\n",
       "      <th>...</th>\n",
       "      <th>ZW</th>\n",
       "      <th>WKZ</th>\n",
       "      <th>KH_SF</th>\n",
       "      <th>ERSZ_aktiv</th>\n",
       "      <th>ZW_storn</th>\n",
       "      <th>WKZ_storn</th>\n",
       "      <th>KH_SF_storn</th>\n",
       "      <th>ERSZ_storn</th>\n",
       "      <th>claim</th>\n",
       "      <th>ersz_final</th>\n",
       "    </tr>\n",
       "  </thead>\n",
       "  <tbody>\n",
       "    <tr>\n",
       "      <th>0</th>\n",
       "      <td>1012223</td>\n",
       "      <td>01012223-003</td>\n",
       "      <td>Aktiv</td>\n",
       "      <td>1</td>\n",
       "      <td>1</td>\n",
       "      <td>VK</td>\n",
       "      <td>16.06.2013</td>\n",
       "      <td>NaN</td>\n",
       "      <td>4306.0</td>\n",
       "      <td>17.09.1969</td>\n",
       "      <td>...</td>\n",
       "      <td>65697/ jährlich</td>\n",
       "      <td>112.0</td>\n",
       "      <td>425.0</td>\n",
       "      <td>16JUN2009</td>\n",
       "      <td>*No Format*</td>\n",
       "      <td>NaN</td>\n",
       "      <td>NaN</td>\n",
       "      <td>NaN</td>\n",
       "      <td>0</td>\n",
       "      <td>16JUN2009</td>\n",
       "    </tr>\n",
       "    <tr>\n",
       "      <th>1</th>\n",
       "      <td>1012223</td>\n",
       "      <td>01012223-003</td>\n",
       "      <td>Aktiv</td>\n",
       "      <td>1</td>\n",
       "      <td>1</td>\n",
       "      <td>KH</td>\n",
       "      <td>16.06.2013</td>\n",
       "      <td>NaN</td>\n",
       "      <td>4306.0</td>\n",
       "      <td>17.09.1969</td>\n",
       "      <td>...</td>\n",
       "      <td>65697/ jährlich</td>\n",
       "      <td>112.0</td>\n",
       "      <td>425.0</td>\n",
       "      <td>16JUN2009</td>\n",
       "      <td>*No Format*</td>\n",
       "      <td>NaN</td>\n",
       "      <td>NaN</td>\n",
       "      <td>NaN</td>\n",
       "      <td>0</td>\n",
       "      <td>16JUN2009</td>\n",
       "    </tr>\n",
       "    <tr>\n",
       "      <th>2</th>\n",
       "      <td>1012748</td>\n",
       "      <td>01012748-002</td>\n",
       "      <td>Storno</td>\n",
       "      <td>0</td>\n",
       "      <td>0</td>\n",
       "      <td>VK</td>\n",
       "      <td>08.10.2013</td>\n",
       "      <td>09.03.2024</td>\n",
       "      <td>3805.0</td>\n",
       "      <td>03.05.1979</td>\n",
       "      <td>...</td>\n",
       "      <td>*No Format*</td>\n",
       "      <td>NaN</td>\n",
       "      <td>NaN</td>\n",
       "      <td>NaN</td>\n",
       "      <td>65699/ vierteljährlich</td>\n",
       "      <td>112.0</td>\n",
       "      <td>443.0</td>\n",
       "      <td>20JUN2018</td>\n",
       "      <td>0</td>\n",
       "      <td>20JUN2018</td>\n",
       "    </tr>\n",
       "    <tr>\n",
       "      <th>3</th>\n",
       "      <td>1012748</td>\n",
       "      <td>01012748-002</td>\n",
       "      <td>Storno</td>\n",
       "      <td>0</td>\n",
       "      <td>0</td>\n",
       "      <td>KH</td>\n",
       "      <td>08.10.2013</td>\n",
       "      <td>09.03.2024</td>\n",
       "      <td>3805.0</td>\n",
       "      <td>03.05.1979</td>\n",
       "      <td>...</td>\n",
       "      <td>*No Format*</td>\n",
       "      <td>NaN</td>\n",
       "      <td>NaN</td>\n",
       "      <td>NaN</td>\n",
       "      <td>65699/ vierteljährlich</td>\n",
       "      <td>112.0</td>\n",
       "      <td>443.0</td>\n",
       "      <td>20JUN2018</td>\n",
       "      <td>0</td>\n",
       "      <td>20JUN2018</td>\n",
       "    </tr>\n",
       "    <tr>\n",
       "      <th>4</th>\n",
       "      <td>1012748</td>\n",
       "      <td>01012748-002</td>\n",
       "      <td>Storno</td>\n",
       "      <td>0</td>\n",
       "      <td>0</td>\n",
       "      <td>TK</td>\n",
       "      <td>08.10.2013</td>\n",
       "      <td>13.10.2021</td>\n",
       "      <td>2927.0</td>\n",
       "      <td>03.05.1979</td>\n",
       "      <td>...</td>\n",
       "      <td>*No Format*</td>\n",
       "      <td>NaN</td>\n",
       "      <td>NaN</td>\n",
       "      <td>NaN</td>\n",
       "      <td>65699/ vierteljährlich</td>\n",
       "      <td>112.0</td>\n",
       "      <td>443.0</td>\n",
       "      <td>20JUN2018</td>\n",
       "      <td>0</td>\n",
       "      <td>20JUN2018</td>\n",
       "    </tr>\n",
       "  </tbody>\n",
       "</table>\n",
       "<p>5 rows × 39 columns</p>\n",
       "</div>"
      ],
      "text/plain": [
       "     pvsnr          vsnr  status  aktiv  akt_kuka spartek      beginn  \\\n",
       "0  1012223  01012223-003   Aktiv      1         1      VK  16.06.2013   \n",
       "1  1012223  01012223-003   Aktiv      1         1      KH  16.06.2013   \n",
       "2  1012748  01012748-002  Storno      0         0      VK  08.10.2013   \n",
       "3  1012748  01012748-002  Storno      0         0      KH  08.10.2013   \n",
       "4  1012748  01012748-002  Storno      0         0      TK  08.10.2013   \n",
       "\n",
       "      datum_s  vtr_dau    kund_beg  ...               ZW    WKZ  KH_SF  \\\n",
       "0         NaN   4306.0  17.09.1969  ...  65697/ jährlich  112.0  425.0   \n",
       "1         NaN   4306.0  17.09.1969  ...  65697/ jährlich  112.0  425.0   \n",
       "2  09.03.2024   3805.0  03.05.1979  ...      *No Format*    NaN    NaN   \n",
       "3  09.03.2024   3805.0  03.05.1979  ...      *No Format*    NaN    NaN   \n",
       "4  13.10.2021   2927.0  03.05.1979  ...      *No Format*    NaN    NaN   \n",
       "\n",
       "   ERSZ_aktiv                ZW_storn  WKZ_storn  KH_SF_storn  ERSZ_storn  \\\n",
       "0   16JUN2009             *No Format*        NaN          NaN         NaN   \n",
       "1   16JUN2009             *No Format*        NaN          NaN         NaN   \n",
       "2         NaN  65699/ vierteljährlich      112.0        443.0   20JUN2018   \n",
       "3         NaN  65699/ vierteljährlich      112.0        443.0   20JUN2018   \n",
       "4         NaN  65699/ vierteljährlich      112.0        443.0   20JUN2018   \n",
       "\n",
       "  claim ersz_final  \n",
       "0     0  16JUN2009  \n",
       "1     0  16JUN2009  \n",
       "2     0  20JUN2018  \n",
       "3     0  20JUN2018  \n",
       "4     0  20JUN2018  \n",
       "\n",
       "[5 rows x 39 columns]"
      ]
     },
     "execution_count": 2,
     "metadata": {},
     "output_type": "execute_result"
    }
   ],
   "source": [
    "Pred.head()"
   ]
  },
  {
   "cell_type": "code",
   "execution_count": 16,
   "id": "d5ac4c81",
   "metadata": {},
   "outputs": [
    {
     "data": {
      "text/plain": [
       "array(['70270/ Privatkunden', '70269/ Land- und Forstwirtschaft',\n",
       "       '70271/ Selbständige'], dtype=object)"
      ]
     },
     "execution_count": 16,
     "metadata": {},
     "output_type": "execute_result"
    }
   ],
   "source": [
    "Pred.gfeld.unique()"
   ]
  },
  {
   "cell_type": "code",
   "execution_count": 10,
   "id": "c1d50328",
   "metadata": {},
   "outputs": [],
   "source": [
    "Pred['estimated_total_paid'] = (Pred['SDBEITR5'] / (5 * 365)) * Pred['vtr_dau']\n",
    "Pred['First_reg'] = pd.to_datetime(Pred['ersz_final'], format=\"%d%b%Y\")\n",
    "Pred['Car_age_indays'] = (pd.Timestamp.today() - Pred['First_reg']).dt.days\n",
    "Pred['carage_years'] = Pred['Car_age_indays'] / 365.25\n",
    "Pred['carage_years'] = Pred['carage_years'].round(0)\n",
    "Pred['Cus_type'] = Pred['gfeld'].str.split('/').str[0]\n",
    "Pred['Cus_typ_id'] = pd.factorize(Pred['Cus_type'])[0]+1\n",
    "plz_state_mapping = {\n",
    "    '01': 'Sachsen',\n",
    "    '02': 'Sachsen',\n",
    "    '03': 'Brandenburg',\n",
    "    '04': 'Sachsen',\n",
    "    '05': 'Sachsen-Anhalt',\n",
    "    '06': 'Sachsen-Anhalt',\n",
    "    '07': 'Thüringen',\n",
    "    '08': 'Sachsen',\n",
    "    '09': 'Sachsen',\n",
    "\n",
    "    '10': 'Berlin', '11': 'Berlin', '12': 'Brandenburg',\n",
    "    '13': 'Brandenburg', '14': 'Brandenburg', '15': 'Brandenburg',\n",
    "    '16': 'Brandenburg',\n",
    "\n",
    "    '17': 'Mecklenburg-Vorpommern', '18': 'Mecklenburg-Vorpommern',\n",
    "    '19': 'Mecklenburg-Vorpommern',\n",
    "\n",
    "    '20': 'Schleswig-Holstein', '21': 'Schleswig-Holstein',\n",
    "    '22': 'Hamburg', '23': 'Schleswig-Holstein',\n",
    "\n",
    "    '24': 'Schleswig-Holstein', '25': 'Schleswig-Holstein',\n",
    "    '26': 'Niedersachsen', '27': 'Bremen', '28': 'Bremen',\n",
    "    '29': 'Niedersachsen',\n",
    "\n",
    "    '30': 'Niedersachsen', '31': 'Niedersachsen', '32': 'Nordrhein-Westfalen',\n",
    "    '33': 'Nordrhein-Westfalen', '34': 'Hessen',\n",
    "\n",
    "    '35': 'Hessen', '36': 'Hessen', '37': 'Niedersachsen',\n",
    "    '38': 'Niedersachsen', '39': 'Sachsen-Anhalt',\n",
    "\n",
    "    '40': 'Nordrhein-Westfalen', '41': 'Nordrhein-Westfalen',\n",
    "    '42': 'Nordrhein-Westfalen', '44': 'Nordrhein-Westfalen',\n",
    "    '45': 'Nordrhein-Westfalen', '46': 'Nordrhein-Westfalen',\n",
    "\n",
    "    '47': 'Nordrhein-Westfalen', '48': 'Nordrhein-Westfalen',\n",
    "    '49': 'Niedersachsen',\n",
    "\n",
    "    '50': 'Nordrhein-Westfalen', '51': 'Nordrhein-Westfalen',\n",
    "    '52': 'Nordrhein-Westfalen', '53': 'Nordrhein-Westfalen',\n",
    "    '54': 'Rheinland-Pfalz', '55': 'Rheinland-Pfalz',\n",
    "\n",
    "    '56': 'Rheinland-Pfalz', '57': 'Nordrhein-Westfalen',\n",
    "    '58': 'Nordrhein-Westfalen', '59': 'Nordrhein-Westfalen',\n",
    "\n",
    "    '60': 'Hessen', '61': 'Hessen', '62': 'Hessen',\n",
    "    '63': 'Hessen', '64': 'Hessen', '65': 'Hessen',\n",
    "\n",
    "    '66': 'Saarland', '67': 'Rheinland-Pfalz', '68': 'Rheinland-Pfalz',\n",
    "    '69': 'Hessen',\n",
    "\n",
    "    '70': 'Baden-Württemberg', '71': 'Baden-Württemberg',\n",
    "    '72': 'Baden-Württemberg', '73': 'Baden-Württemberg',\n",
    "    '74': 'Baden-Württemberg', '75': 'Baden-Württemberg',\n",
    "    '76': 'Baden-Württemberg', '77': 'Baden-Württemberg',\n",
    "    '78': 'Baden-Württemberg', '79': 'Baden-Württemberg',\n",
    "\n",
    "    '80': 'Bayern', '81': 'Bayern', '82': 'Bayern', '83': 'Bayern',\n",
    "    '84': 'Bayern', '85': 'Bayern', '86': 'Bayern', '87': 'Bayern',\n",
    "    '88': 'Bayern', '89': 'Bayern',\n",
    "\n",
    "    '90': 'Bayern', '91': 'Bayern', '92': 'Bayern', '93': 'Bayern',\n",
    "    '94': 'Bayern', '95': 'Bayern', '96': 'Bayern',\n",
    "\n",
    "    '97': 'Bayern', '98': 'Thüringen', '99': 'Thüringen'\n",
    "}\n",
    "\n",
    "def get_state_from_plz(plz):\n",
    "    if pd.isnull(plz):\n",
    "        return None\n",
    "    try:\n",
    "        plz_str = str(plz).zfill(5)  # ensure it's 5 digits\n",
    "        return plz_state_mapping.get(plz_str[:2])\n",
    "    except:\n",
    "        return None\n",
    "    \n",
    "Pred['state'] = Pred['plz'].apply(get_state_from_plz)\n",
    "Pred['state_id'] = pd.factorize(Pred['state'])[0]+1\n",
    "Pred = Pred.dropna(subset=['state'])\n",
    "Pred['plz_id'] = pd.factorize(Pred['plz'])[0]+1\n",
    "Pred[['Sex_id','Sex']]= Pred['anr'].str.split('/',expand=True)\n",
    "selected_features = [ \n",
    "    \"estimated_total_paid\",\n",
    "    \"carage_years\",\n",
    "    \"kosten_verw\", \n",
    "    \"kosten_prov\", \n",
    "    \"alter\", \n",
    "    \"KILOMETERSTAND_CLEAN\", \n",
    "    \"claim\",\n",
    "    \"state_id\",\n",
    "    \"plz_id\",\n",
    "    \"Cus_typ_id\"\n",
    "]\n"
   ]
  },
  {
   "cell_type": "code",
   "execution_count": 11,
   "id": "5feeb75d",
   "metadata": {},
   "outputs": [],
   "source": [
    "X_new = Pred[selected_features]"
   ]
  },
  {
   "cell_type": "code",
   "execution_count": null,
   "id": "5279bb60",
   "metadata": {},
   "outputs": [
    {
     "data": {
      "text/plain": [
       "estimated_total_paid        0\n",
       "carage_years              690\n",
       "kosten_verw                 0\n",
       "kosten_prov                 0\n",
       "alter                       0\n",
       "KILOMETERSTAND_CLEAN    36538\n",
       "claim                       0\n",
       "state_id                    0\n",
       "plz_id                      0\n",
       "Cus_typ_id                  0\n",
       "dtype: int64"
      ]
     },
     "execution_count": 12,
     "metadata": {},
     "output_type": "execute_result"
    }
   ],
   "source": [
    "#X_new.isnull().sum()"
   ]
  },
  {
   "cell_type": "code",
   "execution_count": null,
   "id": "ee5e7771",
   "metadata": {},
   "outputs": [
    {
     "name": "stderr",
     "output_type": "stream",
     "text": [
      "C:\\Users\\VIP\\AppData\\Local\\Temp\\ipykernel_13772\\1446497310.py:1: SettingWithCopyWarning: \n",
      "A value is trying to be set on a copy of a slice from a DataFrame\n",
      "\n",
      "See the caveats in the documentation: https://pandas.pydata.org/pandas-docs/stable/user_guide/indexing.html#returning-a-view-versus-a-copy\n",
      "  X_new.dropna(inplace=True)\n"
     ]
    }
   ],
   "source": [
    "#X_new.dropna(inplace=True)"
   ]
  },
  {
   "cell_type": "code",
   "execution_count": null,
   "id": "43069b84",
   "metadata": {},
   "outputs": [],
   "source": [
    "#X_new.to_csv('Test_streamlit_data.csv', index=False)\n"
   ]
  },
  {
   "cell_type": "code",
   "execution_count": 7,
   "id": "6d6696ce",
   "metadata": {},
   "outputs": [],
   "source": [
    "import pandas as pd\n",
    "import joblib\n",
    "model = joblib.load('enhanced_tuned_lightgbm_model.pkl')\n",
    "\n",
    "# Step 4: Predict\n",
    "preds = model.predict(X_new)\n",
    "\n",
    "# Step 5: Attach predictions to customer_id\n",
    "df_results = Pred[['vsnr','alter','aktiv','spartek','vtr_dau', 'gfeld','ort','plz','alter','state','Sex']].copy()  \n",
    "df_results['prediction'] = preds\n",
    "\n",
    "# Step 6: Save results\n",
    "#df_results.to_csv('prediction_results1.csv', index=False)\n"
   ]
  },
  {
   "cell_type": "code",
   "execution_count": 8,
   "id": "a17c035d",
   "metadata": {},
   "outputs": [
    {
     "data": {
      "text/html": [
       "<div>\n",
       "<style scoped>\n",
       "    .dataframe tbody tr th:only-of-type {\n",
       "        vertical-align: middle;\n",
       "    }\n",
       "\n",
       "    .dataframe tbody tr th {\n",
       "        vertical-align: top;\n",
       "    }\n",
       "\n",
       "    .dataframe thead th {\n",
       "        text-align: right;\n",
       "    }\n",
       "</style>\n",
       "<table border=\"1\" class=\"dataframe\">\n",
       "  <thead>\n",
       "    <tr style=\"text-align: right;\">\n",
       "      <th></th>\n",
       "      <th>vsnr</th>\n",
       "      <th>alter</th>\n",
       "      <th>aktiv</th>\n",
       "      <th>spartek</th>\n",
       "      <th>vtr_dau</th>\n",
       "      <th>gfeld</th>\n",
       "      <th>ort</th>\n",
       "      <th>plz</th>\n",
       "      <th>alter</th>\n",
       "      <th>state</th>\n",
       "      <th>Sex</th>\n",
       "      <th>prediction</th>\n",
       "    </tr>\n",
       "  </thead>\n",
       "  <tbody>\n",
       "    <tr>\n",
       "      <th>0</th>\n",
       "      <td>01012223-003</td>\n",
       "      <td>83</td>\n",
       "      <td>1</td>\n",
       "      <td>VK</td>\n",
       "      <td>4306.0</td>\n",
       "      <td>70270/ Privatkunden</td>\n",
       "      <td>Flensburg</td>\n",
       "      <td>24944</td>\n",
       "      <td>83</td>\n",
       "      <td>Schleswig-Holstein</td>\n",
       "      <td>Frau</td>\n",
       "      <td>0</td>\n",
       "    </tr>\n",
       "    <tr>\n",
       "      <th>1</th>\n",
       "      <td>01012223-003</td>\n",
       "      <td>83</td>\n",
       "      <td>1</td>\n",
       "      <td>KH</td>\n",
       "      <td>4306.0</td>\n",
       "      <td>70270/ Privatkunden</td>\n",
       "      <td>Flensburg</td>\n",
       "      <td>24944</td>\n",
       "      <td>83</td>\n",
       "      <td>Schleswig-Holstein</td>\n",
       "      <td>Frau</td>\n",
       "      <td>1</td>\n",
       "    </tr>\n",
       "    <tr>\n",
       "      <th>2</th>\n",
       "      <td>01012748-002</td>\n",
       "      <td>999</td>\n",
       "      <td>0</td>\n",
       "      <td>VK</td>\n",
       "      <td>3805.0</td>\n",
       "      <td>70269/ Land- und Forstwirtschaft</td>\n",
       "      <td>Böxlund</td>\n",
       "      <td>24994</td>\n",
       "      <td>999</td>\n",
       "      <td>Schleswig-Holstein</td>\n",
       "      <td>Erbengemeinschaft</td>\n",
       "      <td>1</td>\n",
       "    </tr>\n",
       "    <tr>\n",
       "      <th>3</th>\n",
       "      <td>01012748-002</td>\n",
       "      <td>999</td>\n",
       "      <td>0</td>\n",
       "      <td>KH</td>\n",
       "      <td>3805.0</td>\n",
       "      <td>70269/ Land- und Forstwirtschaft</td>\n",
       "      <td>Böxlund</td>\n",
       "      <td>24994</td>\n",
       "      <td>999</td>\n",
       "      <td>Schleswig-Holstein</td>\n",
       "      <td>Erbengemeinschaft</td>\n",
       "      <td>1</td>\n",
       "    </tr>\n",
       "    <tr>\n",
       "      <th>4</th>\n",
       "      <td>01012748-002</td>\n",
       "      <td>999</td>\n",
       "      <td>0</td>\n",
       "      <td>TK</td>\n",
       "      <td>2927.0</td>\n",
       "      <td>70269/ Land- und Forstwirtschaft</td>\n",
       "      <td>Böxlund</td>\n",
       "      <td>24994</td>\n",
       "      <td>999</td>\n",
       "      <td>Schleswig-Holstein</td>\n",
       "      <td>Erbengemeinschaft</td>\n",
       "      <td>0</td>\n",
       "    </tr>\n",
       "    <tr>\n",
       "      <th>5</th>\n",
       "      <td>01013206-003</td>\n",
       "      <td>74</td>\n",
       "      <td>1</td>\n",
       "      <td>VK</td>\n",
       "      <td>4472.0</td>\n",
       "      <td>70270/ Privatkunden</td>\n",
       "      <td>Sieverstedt</td>\n",
       "      <td>24885</td>\n",
       "      <td>74</td>\n",
       "      <td>Schleswig-Holstein</td>\n",
       "      <td>Herr</td>\n",
       "      <td>1</td>\n",
       "    </tr>\n",
       "    <tr>\n",
       "      <th>6</th>\n",
       "      <td>01013206-003</td>\n",
       "      <td>74</td>\n",
       "      <td>1</td>\n",
       "      <td>KH</td>\n",
       "      <td>4472.0</td>\n",
       "      <td>70270/ Privatkunden</td>\n",
       "      <td>Sieverstedt</td>\n",
       "      <td>24885</td>\n",
       "      <td>74</td>\n",
       "      <td>Schleswig-Holstein</td>\n",
       "      <td>Herr</td>\n",
       "      <td>1</td>\n",
       "    </tr>\n",
       "    <tr>\n",
       "      <th>7</th>\n",
       "      <td>01013242-004</td>\n",
       "      <td>82</td>\n",
       "      <td>1</td>\n",
       "      <td>KH</td>\n",
       "      <td>4838.0</td>\n",
       "      <td>70270/ Privatkunden</td>\n",
       "      <td>Lürschau</td>\n",
       "      <td>24850</td>\n",
       "      <td>82</td>\n",
       "      <td>Schleswig-Holstein</td>\n",
       "      <td>Frau</td>\n",
       "      <td>1</td>\n",
       "    </tr>\n",
       "    <tr>\n",
       "      <th>8</th>\n",
       "      <td>01013242-004</td>\n",
       "      <td>82</td>\n",
       "      <td>1</td>\n",
       "      <td>VK</td>\n",
       "      <td>4838.0</td>\n",
       "      <td>70270/ Privatkunden</td>\n",
       "      <td>Lürschau</td>\n",
       "      <td>24850</td>\n",
       "      <td>82</td>\n",
       "      <td>Schleswig-Holstein</td>\n",
       "      <td>Frau</td>\n",
       "      <td>1</td>\n",
       "    </tr>\n",
       "    <tr>\n",
       "      <th>9</th>\n",
       "      <td>01013457-005</td>\n",
       "      <td>67</td>\n",
       "      <td>1</td>\n",
       "      <td>KH</td>\n",
       "      <td>4623.0</td>\n",
       "      <td>70270/ Privatkunden</td>\n",
       "      <td>Flensburg</td>\n",
       "      <td>24943</td>\n",
       "      <td>67</td>\n",
       "      <td>Schleswig-Holstein</td>\n",
       "      <td>Herr</td>\n",
       "      <td>0</td>\n",
       "    </tr>\n",
       "    <tr>\n",
       "      <th>10</th>\n",
       "      <td>01013960-002</td>\n",
       "      <td>999</td>\n",
       "      <td>0</td>\n",
       "      <td>KH</td>\n",
       "      <td>4169.0</td>\n",
       "      <td>70270/ Privatkunden</td>\n",
       "      <td>Stolk</td>\n",
       "      <td>24890</td>\n",
       "      <td>999</td>\n",
       "      <td>Schleswig-Holstein</td>\n",
       "      <td>Erbengemeinschaft</td>\n",
       "      <td>1</td>\n",
       "    </tr>\n",
       "    <tr>\n",
       "      <th>11</th>\n",
       "      <td>01013960-002</td>\n",
       "      <td>999</td>\n",
       "      <td>0</td>\n",
       "      <td>VK</td>\n",
       "      <td>4169.0</td>\n",
       "      <td>70270/ Privatkunden</td>\n",
       "      <td>Stolk</td>\n",
       "      <td>24890</td>\n",
       "      <td>999</td>\n",
       "      <td>Schleswig-Holstein</td>\n",
       "      <td>Erbengemeinschaft</td>\n",
       "      <td>0</td>\n",
       "    </tr>\n",
       "    <tr>\n",
       "      <th>12</th>\n",
       "      <td>01014016-010</td>\n",
       "      <td>62</td>\n",
       "      <td>0</td>\n",
       "      <td>TK</td>\n",
       "      <td>3453.0</td>\n",
       "      <td>70270/ Privatkunden</td>\n",
       "      <td>Grabau</td>\n",
       "      <td>23845</td>\n",
       "      <td>62</td>\n",
       "      <td>Schleswig-Holstein</td>\n",
       "      <td>Herr</td>\n",
       "      <td>0</td>\n",
       "    </tr>\n",
       "    <tr>\n",
       "      <th>13</th>\n",
       "      <td>01014016-010</td>\n",
       "      <td>62</td>\n",
       "      <td>0</td>\n",
       "      <td>KH</td>\n",
       "      <td>3453.0</td>\n",
       "      <td>70270/ Privatkunden</td>\n",
       "      <td>Grabau</td>\n",
       "      <td>23845</td>\n",
       "      <td>62</td>\n",
       "      <td>Schleswig-Holstein</td>\n",
       "      <td>Herr</td>\n",
       "      <td>1</td>\n",
       "    </tr>\n",
       "    <tr>\n",
       "      <th>14</th>\n",
       "      <td>01014039-003</td>\n",
       "      <td>60</td>\n",
       "      <td>1</td>\n",
       "      <td>KH</td>\n",
       "      <td>4838.0</td>\n",
       "      <td>70270/ Privatkunden</td>\n",
       "      <td>Flensburg</td>\n",
       "      <td>24937</td>\n",
       "      <td>60</td>\n",
       "      <td>Schleswig-Holstein</td>\n",
       "      <td>Herr</td>\n",
       "      <td>0</td>\n",
       "    </tr>\n",
       "    <tr>\n",
       "      <th>15</th>\n",
       "      <td>01014051-015</td>\n",
       "      <td>58</td>\n",
       "      <td>1</td>\n",
       "      <td>TK</td>\n",
       "      <td>4253.0</td>\n",
       "      <td>70271/ Selbständige</td>\n",
       "      <td>Flensburg</td>\n",
       "      <td>24943</td>\n",
       "      <td>58</td>\n",
       "      <td>Schleswig-Holstein</td>\n",
       "      <td>Herr</td>\n",
       "      <td>0</td>\n",
       "    </tr>\n",
       "    <tr>\n",
       "      <th>16</th>\n",
       "      <td>01014051-015</td>\n",
       "      <td>58</td>\n",
       "      <td>1</td>\n",
       "      <td>KH</td>\n",
       "      <td>4253.0</td>\n",
       "      <td>70271/ Selbständige</td>\n",
       "      <td>Flensburg</td>\n",
       "      <td>24943</td>\n",
       "      <td>58</td>\n",
       "      <td>Schleswig-Holstein</td>\n",
       "      <td>Herr</td>\n",
       "      <td>0</td>\n",
       "    </tr>\n",
       "    <tr>\n",
       "      <th>17</th>\n",
       "      <td>01014051-016</td>\n",
       "      <td>58</td>\n",
       "      <td>1</td>\n",
       "      <td>TK</td>\n",
       "      <td>4138.0</td>\n",
       "      <td>70271/ Selbständige</td>\n",
       "      <td>Flensburg</td>\n",
       "      <td>24943</td>\n",
       "      <td>58</td>\n",
       "      <td>Schleswig-Holstein</td>\n",
       "      <td>Herr</td>\n",
       "      <td>0</td>\n",
       "    </tr>\n",
       "    <tr>\n",
       "      <th>18</th>\n",
       "      <td>01014051-016</td>\n",
       "      <td>58</td>\n",
       "      <td>1</td>\n",
       "      <td>KH</td>\n",
       "      <td>4138.0</td>\n",
       "      <td>70271/ Selbständige</td>\n",
       "      <td>Flensburg</td>\n",
       "      <td>24943</td>\n",
       "      <td>58</td>\n",
       "      <td>Schleswig-Holstein</td>\n",
       "      <td>Herr</td>\n",
       "      <td>1</td>\n",
       "    </tr>\n",
       "    <tr>\n",
       "      <th>19</th>\n",
       "      <td>01020676-001</td>\n",
       "      <td>96</td>\n",
       "      <td>1</td>\n",
       "      <td>TK</td>\n",
       "      <td>4386.0</td>\n",
       "      <td>70270/ Privatkunden</td>\n",
       "      <td>Mohrkirch</td>\n",
       "      <td>24405</td>\n",
       "      <td>96</td>\n",
       "      <td>Schleswig-Holstein</td>\n",
       "      <td>Herr</td>\n",
       "      <td>1</td>\n",
       "    </tr>\n",
       "    <tr>\n",
       "      <th>20</th>\n",
       "      <td>01020676-001</td>\n",
       "      <td>96</td>\n",
       "      <td>1</td>\n",
       "      <td>KH</td>\n",
       "      <td>4386.0</td>\n",
       "      <td>70270/ Privatkunden</td>\n",
       "      <td>Mohrkirch</td>\n",
       "      <td>24405</td>\n",
       "      <td>96</td>\n",
       "      <td>Schleswig-Holstein</td>\n",
       "      <td>Herr</td>\n",
       "      <td>1</td>\n",
       "    </tr>\n",
       "    <tr>\n",
       "      <th>21</th>\n",
       "      <td>01020676-001</td>\n",
       "      <td>96</td>\n",
       "      <td>0</td>\n",
       "      <td>VK</td>\n",
       "      <td>3300.0</td>\n",
       "      <td>70270/ Privatkunden</td>\n",
       "      <td>Mohrkirch</td>\n",
       "      <td>24405</td>\n",
       "      <td>96</td>\n",
       "      <td>Schleswig-Holstein</td>\n",
       "      <td>Herr</td>\n",
       "      <td>0</td>\n",
       "    </tr>\n",
       "    <tr>\n",
       "      <th>22</th>\n",
       "      <td>01020965-001</td>\n",
       "      <td>75</td>\n",
       "      <td>1</td>\n",
       "      <td>KH</td>\n",
       "      <td>4520.0</td>\n",
       "      <td>70270/ Privatkunden</td>\n",
       "      <td>Böel</td>\n",
       "      <td>24401</td>\n",
       "      <td>75</td>\n",
       "      <td>Schleswig-Holstein</td>\n",
       "      <td>Herr</td>\n",
       "      <td>1</td>\n",
       "    </tr>\n",
       "    <tr>\n",
       "      <th>23</th>\n",
       "      <td>01020965-001</td>\n",
       "      <td>75</td>\n",
       "      <td>1</td>\n",
       "      <td>TK</td>\n",
       "      <td>4520.0</td>\n",
       "      <td>70270/ Privatkunden</td>\n",
       "      <td>Böel</td>\n",
       "      <td>24401</td>\n",
       "      <td>75</td>\n",
       "      <td>Schleswig-Holstein</td>\n",
       "      <td>Herr</td>\n",
       "      <td>1</td>\n",
       "    </tr>\n",
       "    <tr>\n",
       "      <th>24</th>\n",
       "      <td>01021038-003</td>\n",
       "      <td>70</td>\n",
       "      <td>1</td>\n",
       "      <td>TK</td>\n",
       "      <td>4343.0</td>\n",
       "      <td>70270/ Privatkunden</td>\n",
       "      <td>Mohrkirch</td>\n",
       "      <td>24405</td>\n",
       "      <td>70</td>\n",
       "      <td>Schleswig-Holstein</td>\n",
       "      <td>Herr</td>\n",
       "      <td>0</td>\n",
       "    </tr>\n",
       "    <tr>\n",
       "      <th>25</th>\n",
       "      <td>01021038-003</td>\n",
       "      <td>70</td>\n",
       "      <td>1</td>\n",
       "      <td>KH</td>\n",
       "      <td>4343.0</td>\n",
       "      <td>70270/ Privatkunden</td>\n",
       "      <td>Mohrkirch</td>\n",
       "      <td>24405</td>\n",
       "      <td>70</td>\n",
       "      <td>Schleswig-Holstein</td>\n",
       "      <td>Herr</td>\n",
       "      <td>0</td>\n",
       "    </tr>\n",
       "    <tr>\n",
       "      <th>26</th>\n",
       "      <td>01021096-001</td>\n",
       "      <td>68</td>\n",
       "      <td>1</td>\n",
       "      <td>KH</td>\n",
       "      <td>4838.0</td>\n",
       "      <td>70269/ Land- und Forstwirtschaft</td>\n",
       "      <td>Böel</td>\n",
       "      <td>24401</td>\n",
       "      <td>68</td>\n",
       "      <td>Schleswig-Holstein</td>\n",
       "      <td>Herr</td>\n",
       "      <td>1</td>\n",
       "    </tr>\n",
       "    <tr>\n",
       "      <th>27</th>\n",
       "      <td>01021096-001</td>\n",
       "      <td>68</td>\n",
       "      <td>1</td>\n",
       "      <td>TK</td>\n",
       "      <td>4838.0</td>\n",
       "      <td>70269/ Land- und Forstwirtschaft</td>\n",
       "      <td>Böel</td>\n",
       "      <td>24401</td>\n",
       "      <td>68</td>\n",
       "      <td>Schleswig-Holstein</td>\n",
       "      <td>Herr</td>\n",
       "      <td>0</td>\n",
       "    </tr>\n",
       "    <tr>\n",
       "      <th>28</th>\n",
       "      <td>01021096-005</td>\n",
       "      <td>68</td>\n",
       "      <td>1</td>\n",
       "      <td>KH</td>\n",
       "      <td>4838.0</td>\n",
       "      <td>70269/ Land- und Forstwirtschaft</td>\n",
       "      <td>Böel</td>\n",
       "      <td>24401</td>\n",
       "      <td>68</td>\n",
       "      <td>Schleswig-Holstein</td>\n",
       "      <td>Herr</td>\n",
       "      <td>1</td>\n",
       "    </tr>\n",
       "    <tr>\n",
       "      <th>29</th>\n",
       "      <td>01021096-005</td>\n",
       "      <td>68</td>\n",
       "      <td>1</td>\n",
       "      <td>TK</td>\n",
       "      <td>4838.0</td>\n",
       "      <td>70269/ Land- und Forstwirtschaft</td>\n",
       "      <td>Böel</td>\n",
       "      <td>24401</td>\n",
       "      <td>68</td>\n",
       "      <td>Schleswig-Holstein</td>\n",
       "      <td>Herr</td>\n",
       "      <td>1</td>\n",
       "    </tr>\n",
       "  </tbody>\n",
       "</table>\n",
       "</div>"
      ],
      "text/plain": [
       "            vsnr  alter  aktiv spartek  vtr_dau  \\\n",
       "0   01012223-003     83      1      VK   4306.0   \n",
       "1   01012223-003     83      1      KH   4306.0   \n",
       "2   01012748-002    999      0      VK   3805.0   \n",
       "3   01012748-002    999      0      KH   3805.0   \n",
       "4   01012748-002    999      0      TK   2927.0   \n",
       "5   01013206-003     74      1      VK   4472.0   \n",
       "6   01013206-003     74      1      KH   4472.0   \n",
       "7   01013242-004     82      1      KH   4838.0   \n",
       "8   01013242-004     82      1      VK   4838.0   \n",
       "9   01013457-005     67      1      KH   4623.0   \n",
       "10  01013960-002    999      0      KH   4169.0   \n",
       "11  01013960-002    999      0      VK   4169.0   \n",
       "12  01014016-010     62      0      TK   3453.0   \n",
       "13  01014016-010     62      0      KH   3453.0   \n",
       "14  01014039-003     60      1      KH   4838.0   \n",
       "15  01014051-015     58      1      TK   4253.0   \n",
       "16  01014051-015     58      1      KH   4253.0   \n",
       "17  01014051-016     58      1      TK   4138.0   \n",
       "18  01014051-016     58      1      KH   4138.0   \n",
       "19  01020676-001     96      1      TK   4386.0   \n",
       "20  01020676-001     96      1      KH   4386.0   \n",
       "21  01020676-001     96      0      VK   3300.0   \n",
       "22  01020965-001     75      1      KH   4520.0   \n",
       "23  01020965-001     75      1      TK   4520.0   \n",
       "24  01021038-003     70      1      TK   4343.0   \n",
       "25  01021038-003     70      1      KH   4343.0   \n",
       "26  01021096-001     68      1      KH   4838.0   \n",
       "27  01021096-001     68      1      TK   4838.0   \n",
       "28  01021096-005     68      1      KH   4838.0   \n",
       "29  01021096-005     68      1      TK   4838.0   \n",
       "\n",
       "                               gfeld          ort    plz  alter  \\\n",
       "0                70270/ Privatkunden    Flensburg  24944     83   \n",
       "1                70270/ Privatkunden    Flensburg  24944     83   \n",
       "2   70269/ Land- und Forstwirtschaft      Böxlund  24994    999   \n",
       "3   70269/ Land- und Forstwirtschaft      Böxlund  24994    999   \n",
       "4   70269/ Land- und Forstwirtschaft      Böxlund  24994    999   \n",
       "5                70270/ Privatkunden  Sieverstedt  24885     74   \n",
       "6                70270/ Privatkunden  Sieverstedt  24885     74   \n",
       "7                70270/ Privatkunden     Lürschau  24850     82   \n",
       "8                70270/ Privatkunden     Lürschau  24850     82   \n",
       "9                70270/ Privatkunden    Flensburg  24943     67   \n",
       "10               70270/ Privatkunden        Stolk  24890    999   \n",
       "11               70270/ Privatkunden        Stolk  24890    999   \n",
       "12               70270/ Privatkunden       Grabau  23845     62   \n",
       "13               70270/ Privatkunden       Grabau  23845     62   \n",
       "14               70270/ Privatkunden    Flensburg  24937     60   \n",
       "15               70271/ Selbständige    Flensburg  24943     58   \n",
       "16               70271/ Selbständige    Flensburg  24943     58   \n",
       "17               70271/ Selbständige    Flensburg  24943     58   \n",
       "18               70271/ Selbständige    Flensburg  24943     58   \n",
       "19               70270/ Privatkunden    Mohrkirch  24405     96   \n",
       "20               70270/ Privatkunden    Mohrkirch  24405     96   \n",
       "21               70270/ Privatkunden    Mohrkirch  24405     96   \n",
       "22               70270/ Privatkunden         Böel  24401     75   \n",
       "23               70270/ Privatkunden         Böel  24401     75   \n",
       "24               70270/ Privatkunden    Mohrkirch  24405     70   \n",
       "25               70270/ Privatkunden    Mohrkirch  24405     70   \n",
       "26  70269/ Land- und Forstwirtschaft         Böel  24401     68   \n",
       "27  70269/ Land- und Forstwirtschaft         Böel  24401     68   \n",
       "28  70269/ Land- und Forstwirtschaft         Böel  24401     68   \n",
       "29  70269/ Land- und Forstwirtschaft         Böel  24401     68   \n",
       "\n",
       "                 state                 Sex  prediction  \n",
       "0   Schleswig-Holstein                Frau           0  \n",
       "1   Schleswig-Holstein                Frau           1  \n",
       "2   Schleswig-Holstein   Erbengemeinschaft           1  \n",
       "3   Schleswig-Holstein   Erbengemeinschaft           1  \n",
       "4   Schleswig-Holstein   Erbengemeinschaft           0  \n",
       "5   Schleswig-Holstein                Herr           1  \n",
       "6   Schleswig-Holstein                Herr           1  \n",
       "7   Schleswig-Holstein                Frau           1  \n",
       "8   Schleswig-Holstein                Frau           1  \n",
       "9   Schleswig-Holstein                Herr           0  \n",
       "10  Schleswig-Holstein   Erbengemeinschaft           1  \n",
       "11  Schleswig-Holstein   Erbengemeinschaft           0  \n",
       "12  Schleswig-Holstein                Herr           0  \n",
       "13  Schleswig-Holstein                Herr           1  \n",
       "14  Schleswig-Holstein                Herr           0  \n",
       "15  Schleswig-Holstein                Herr           0  \n",
       "16  Schleswig-Holstein                Herr           0  \n",
       "17  Schleswig-Holstein                Herr           0  \n",
       "18  Schleswig-Holstein                Herr           1  \n",
       "19  Schleswig-Holstein                Herr           1  \n",
       "20  Schleswig-Holstein                Herr           1  \n",
       "21  Schleswig-Holstein                Herr           0  \n",
       "22  Schleswig-Holstein                Herr           1  \n",
       "23  Schleswig-Holstein                Herr           1  \n",
       "24  Schleswig-Holstein                Herr           0  \n",
       "25  Schleswig-Holstein                Herr           0  \n",
       "26  Schleswig-Holstein                Herr           1  \n",
       "27  Schleswig-Holstein                Herr           0  \n",
       "28  Schleswig-Holstein                Herr           1  \n",
       "29  Schleswig-Holstein                Herr           1  "
      ]
     },
     "execution_count": 8,
     "metadata": {},
     "output_type": "execute_result"
    }
   ],
   "source": [
    "df_results.head(30)"
   ]
  },
  {
   "cell_type": "code",
   "execution_count": 16,
   "id": "2689ab3a",
   "metadata": {},
   "outputs": [
    {
     "name": "stdout",
     "output_type": "stream",
     "text": [
      "🚀 Starting Enhanced LightGBM Training with Optuna\n",
      "📊 Features: 11\n",
      "🎯 Target: aktiv\n",
      "📈 Dataset shape after cleaning: (877729, 12)\n",
      "🎲 Target distribution:\n",
      "aktiv\n",
      "0    0.504453\n",
      "1    0.495547\n",
      "Name: proportion, dtype: float64\n",
      "🏷️ Categorical features detected: ['state_id', 'plz_id', 'Cus_typ_id']\n"
     ]
    },
    {
     "name": "stderr",
     "output_type": "stream",
     "text": [
      "[I 2025-06-27 11:46:42,710] A new study created in memory with name: no-name-dc3743f1-0e2d-4e26-9b21-1b902f1a0554\n"
     ]
    },
    {
     "name": "stdout",
     "output_type": "stream",
     "text": [
      "📊 Data splits:\n",
      "   Training: 703060 samples\n",
      "   Validation: 86896 samples\n",
      "   Test: 87773 samples\n",
      "\n",
      "🔍 Starting hyperparameter optimization...\n"
     ]
    },
    {
     "name": "stderr",
     "output_type": "stream",
     "text": [
      "Best trial: 0. Best value: 0.870559:   1%|          | 1/100 [00:14<24:35, 14.90s/it]"
     ]
    },
    {
     "name": "stdout",
     "output_type": "stream",
     "text": [
      "[I 2025-06-27 11:46:57,608] Trial 0 finished with value: 0.8705591577977185 and parameters: {'num_leaves': 44, 'learning_rate': 0.19063571821788408, 'feature_fraction': 0.8195981825434215, 'bagging_fraction': 0.779597545259111, 'bagging_freq': 2, 'min_child_samples': 12, 'lambda_l1': 0.2684424752877784, 'lambda_l2': 2.611910822747312, 'min_gain_to_split': 1.2022300234864176, 'max_depth': 7}. Best is trial 0 with value: 0.8705591577977185.\n",
      "⚡ Trial   0: F1 = 0.8706 | Best = 0.8706\n"
     ]
    },
    {
     "name": "stderr",
     "output_type": "stream",
     "text": [
      "Best trial: 0. Best value: 0.870559:   2%|▏         | 2/100 [00:25<20:15, 12.41s/it]"
     ]
    },
    {
     "name": "stdout",
     "output_type": "stream",
     "text": [
      "[I 2025-06-27 11:47:08,267] Trial 1 finished with value: 0.8541949036551307 and parameters: {'num_leaves': 11, 'learning_rate': 0.19428287191077892, 'feature_fraction': 0.8497327922401265, 'bagging_fraction': 0.6637017332034828, 'bagging_freq': 2, 'min_child_samples': 13, 'lambda_l1': 0.9823025045826593, 'lambda_l2': 1.6217936517334899, 'min_gain_to_split': 0.8638900372842315, 'max_depth': 4}. Best is trial 0 with value: 0.8705591577977185.\n",
      "⚡ Trial   1: F1 = 0.8542 | Best = 0.8706\n"
     ]
    },
    {
     "name": "stderr",
     "output_type": "stream",
     "text": [
      "Best trial: 0. Best value: 0.870559:   3%|▎         | 3/100 [00:34<17:29, 10.82s/it]"
     ]
    },
    {
     "name": "stdout",
     "output_type": "stream",
     "text": [
      "[I 2025-06-27 11:47:17,203] Trial 2 finished with value: 0.8221773864869552 and parameters: {'num_leaves': 65, 'learning_rate': 0.036503833523887946, 'feature_fraction': 0.6876433945605654, 'bagging_fraction': 0.7099085529881075, 'bagging_freq': 4, 'min_child_samples': 41, 'lambda_l1': 0.6790539682592432, 'lambda_l2': 1.5912798713994738, 'min_gain_to_split': 1.184829137724085, 'max_depth': 3}. Best is trial 0 with value: 0.8705591577977185.\n",
      "⚡ Trial   2: F1 = 0.8222 | Best = 0.8706\n"
     ]
    },
    {
     "name": "stderr",
     "output_type": "stream",
     "text": [
      "Best trial: 0. Best value: 0.870559:   4%|▍         | 4/100 [00:45<17:44, 11.09s/it]"
     ]
    },
    {
     "name": "stdout",
     "output_type": "stream",
     "text": [
      "[I 2025-06-27 11:47:28,704] Trial 3 finished with value: 0.8430332842798353 and parameters: {'num_leaves': 65, 'learning_rate': 0.04239958350058539, 'feature_fraction': 0.6195154778955838, 'bagging_fraction': 0.884665661176, 'bagging_freq': 7, 'min_child_samples': 42, 'lambda_l1': 0.983379930602775, 'lambda_l2': 0.3832491306185132, 'min_gain_to_split': 1.3684660530243138, 'max_depth': 5}. Best is trial 0 with value: 0.8705591577977185.\n",
      "⚡ Trial   3: F1 = 0.8430 | Best = 0.8706\n"
     ]
    },
    {
     "name": "stderr",
     "output_type": "stream",
     "text": [
      "Best trial: 0. Best value: 0.870559:   5%|▌         | 5/100 [00:54<15:50, 10.01s/it]"
     ]
    },
    {
     "name": "stdout",
     "output_type": "stream",
     "text": [
      "[I 2025-06-27 11:47:36,786] Trial 4 finished with value: 0.8492145355819684 and parameters: {'num_leaves': 21, 'learning_rate': 0.10408361292114134, 'feature_fraction': 0.6103165563345655, 'bagging_fraction': 0.8727961206236347, 'bagging_freq': 2, 'min_child_samples': 35, 'lambda_l1': 1.0039621206592917, 'lambda_l2': 1.6081972614156514, 'min_gain_to_split': 1.0934205586865593, 'max_depth': 4}. Best is trial 0 with value: 0.8705591577977185.\n",
      "⚡ Trial   4: F1 = 0.8492 | Best = 0.8706\n"
     ]
    },
    {
     "name": "stderr",
     "output_type": "stream",
     "text": [
      "Best trial: 0. Best value: 0.870559:   6%|▌         | 6/100 [01:02<14:40,  9.37s/it]"
     ]
    },
    {
     "name": "stdout",
     "output_type": "stream",
     "text": [
      "[I 2025-06-27 11:47:44,913] Trial 5 finished with value: 0.8534490287585424 and parameters: {'num_leaves': 98, 'learning_rate': 0.15727523643861177, 'feature_fraction': 0.8818496824692568, 'bagging_fraction': 0.8684482051282947, 'bagging_freq': 5, 'min_child_samples': 47, 'lambda_l1': 0.3566282559505666, 'lambda_l2': 0.6683503010155211, 'min_gain_to_split': 0.09045457782107613, 'max_depth': 4}. Best is trial 0 with value: 0.8705591577977185.\n",
      "⚡ Trial   5: F1 = 0.8534 | Best = 0.8706\n"
     ]
    },
    {
     "name": "stderr",
     "output_type": "stream",
     "text": [
      "Best trial: 0. Best value: 0.870559:   7%|▋         | 7/100 [01:14<15:47, 10.19s/it]"
     ]
    },
    {
     "name": "stdout",
     "output_type": "stream",
     "text": [
      "[I 2025-06-27 11:47:56,804] Trial 6 finished with value: 0.8580699578575256 and parameters: {'num_leaves': 45, 'learning_rate': 0.061556316037040225, 'feature_fraction': 0.8486212527455788, 'bagging_fraction': 0.7070259980080768, 'bagging_freq': 2, 'min_child_samples': 29, 'lambda_l1': 0.5086802524268117, 'lambda_l2': 2.426371244186715, 'min_gain_to_split': 0.14910128735954165, 'max_depth': 8}. Best is trial 0 with value: 0.8705591577977185.\n",
      "⚡ Trial   6: F1 = 0.8581 | Best = 0.8706\n"
     ]
    },
    {
     "name": "stderr",
     "output_type": "stream",
     "text": [
      "Best trial: 0. Best value: 0.870559:   8%|▊         | 8/100 [01:21<14:06,  9.21s/it]"
     ]
    },
    {
     "name": "stdout",
     "output_type": "stream",
     "text": [
      "[I 2025-06-27 11:48:03,899] Trial 7 finished with value: 0.8282566420095527 and parameters: {'num_leaves': 80, 'learning_rate': 0.04775597949149276, 'feature_fraction': 0.6016566351370807, 'bagging_fraction': 0.8446384285364503, 'bagging_freq': 5, 'min_child_samples': 38, 'lambda_l1': 2.336684005389243, 'lambda_l2': 0.3147294900288621, 'min_gain_to_split': 0.7169314570885452, 'max_depth': 3}. Best is trial 0 with value: 0.8705591577977185.\n",
      "⚡ Trial   7: F1 = 0.8283 | Best = 0.8706\n"
     ]
    },
    {
     "name": "stderr",
     "output_type": "stream",
     "text": [
      "Best trial: 0. Best value: 0.870559:   9%|▉         | 9/100 [01:28<13:17,  8.76s/it]"
     ]
    },
    {
     "name": "stdout",
     "output_type": "stream",
     "text": [
      "[I 2025-06-27 11:48:11,683] Trial 8 finished with value: 0.8558910940090598 and parameters: {'num_leaves': 88, 'learning_rate': 0.128426644097236, 'feature_fraction': 0.6992694074557948, 'bagging_fraction': 0.6190675050858071, 'bagging_freq': 3, 'min_child_samples': 19, 'lambda_l1': 2.215857917180386, 'lambda_l2': 1.9489166669301181, 'min_gain_to_split': 1.774425485152653, 'max_depth': 5}. Best is trial 0 with value: 0.8705591577977185.\n",
      "⚡ Trial   8: F1 = 0.8559 | Best = 0.8706\n"
     ]
    },
    {
     "name": "stderr",
     "output_type": "stream",
     "text": [
      "Best trial: 0. Best value: 0.870559:  10%|█         | 10/100 [01:34<11:31,  7.68s/it]"
     ]
    },
    {
     "name": "stdout",
     "output_type": "stream",
     "text": [
      "[I 2025-06-27 11:48:16,956] Trial 9 finished with value: 0.8468135642463076 and parameters: {'num_leaves': 20, 'learning_rate': 0.14551650957236906, 'feature_fraction': 0.8282355145850693, 'bagging_fraction': 0.7683831592708489, 'bagging_freq': 6, 'min_child_samples': 27, 'lambda_l1': 1.6159252052077828, 'lambda_l2': 1.339868953239794, 'min_gain_to_split': 0.05083825348819038, 'max_depth': 3}. Best is trial 0 with value: 0.8705591577977185.\n",
      "⚡ Trial   9: F1 = 0.8468 | Best = 0.8706\n"
     ]
    },
    {
     "name": "stderr",
     "output_type": "stream",
     "text": [
      "Best trial: 0. Best value: 0.870559:  11%|█         | 11/100 [01:43<12:02,  8.12s/it]"
     ]
    },
    {
     "name": "stdout",
     "output_type": "stream",
     "text": [
      "[I 2025-06-27 11:48:26,063] Trial 10 finished with value: 0.8693200061037613 and parameters: {'num_leaves': 44, 'learning_rate': 0.18724377998959227, 'feature_fraction': 0.7777093115363782, 'bagging_fraction': 0.7962507917821569, 'bagging_freq': 1, 'min_child_samples': 6, 'lambda_l1': 2.8833351632417186, 'lambda_l2': 2.930805709588186, 'min_gain_to_split': 1.8939237527802988, 'max_depth': 8}. Best is trial 0 with value: 0.8705591577977185.\n",
      "⚡ Trial  10: F1 = 0.8693 | Best = 0.8706\n"
     ]
    },
    {
     "name": "stderr",
     "output_type": "stream",
     "text": [
      "Best trial: 0. Best value: 0.870559:  12%|█▏        | 12/100 [01:54<13:04,  8.92s/it]"
     ]
    },
    {
     "name": "stdout",
     "output_type": "stream",
     "text": [
      "[I 2025-06-27 11:48:36,798] Trial 11 finished with value: 0.8698350454811611 and parameters: {'num_leaves': 41, 'learning_rate': 0.18970384679500554, 'feature_fraction': 0.7831899423567357, 'bagging_fraction': 0.794014447590537, 'bagging_freq': 1, 'min_child_samples': 5, 'lambda_l1': 2.9737559306422403, 'lambda_l2': 2.996930753720212, 'min_gain_to_split': 1.8993202484538119, 'max_depth': 8}. Best is trial 0 with value: 0.8705591577977185.\n",
      "⚡ Trial  11: F1 = 0.8698 | Best = 0.8706\n"
     ]
    },
    {
     "name": "stderr",
     "output_type": "stream",
     "text": [
      "Best trial: 0. Best value: 0.870559:  13%|█▎        | 13/100 [02:03<13:11,  9.09s/it]"
     ]
    },
    {
     "name": "stdout",
     "output_type": "stream",
     "text": [
      "[I 2025-06-27 11:48:46,302] Trial 12 finished with value: 0.8679703189779163 and parameters: {'num_leaves': 36, 'learning_rate': 0.17311077285988852, 'feature_fraction': 0.7827221590301234, 'bagging_fraction': 0.8072736437500273, 'bagging_freq': 1, 'min_child_samples': 6, 'lambda_l1': 1.7344648762456336, 'lambda_l2': 2.9884479420675634, 'min_gain_to_split': 1.429155231177126, 'max_depth': 7}. Best is trial 0 with value: 0.8705591577977185.\n",
      "⚡ Trial  12: F1 = 0.8680 | Best = 0.8706\n"
     ]
    },
    {
     "name": "stderr",
     "output_type": "stream",
     "text": [
      "Best trial: 0. Best value: 0.870559:  14%|█▍        | 14/100 [02:16<14:45, 10.29s/it]"
     ]
    },
    {
     "name": "stdout",
     "output_type": "stream",
     "text": [
      "[I 2025-06-27 11:48:59,362] Trial 13 finished with value: 0.8600460297857726 and parameters: {'num_leaves': 34, 'learning_rate': 0.10057073115764902, 'feature_fraction': 0.7357900736614533, 'bagging_fraction': 0.7666475715492841, 'bagging_freq': 3, 'min_child_samples': 15, 'lambda_l1': 2.9299398789038578, 'lambda_l2': 2.3560489080210436, 'min_gain_to_split': 0.5577646342534865, 'max_depth': 7}. Best is trial 0 with value: 0.8705591577977185.\n",
      "⚡ Trial  13: F1 = 0.8600 | Best = 0.8706\n"
     ]
    },
    {
     "name": "stderr",
     "output_type": "stream",
     "text": [
      "Best trial: 14. Best value: 0.870837:  15%|█▌        | 15/100 [02:28<15:25, 10.89s/it]"
     ]
    },
    {
     "name": "stdout",
     "output_type": "stream",
     "text": [
      "[I 2025-06-27 11:49:11,640] Trial 14 finished with value: 0.8708370450310324 and parameters: {'num_leaves': 59, 'learning_rate': 0.19697231506256319, 'feature_fraction': 0.8050530698249393, 'bagging_fraction': 0.7281611217973673, 'bagging_freq': 1, 'min_child_samples': 12, 'lambda_l1': 0.1600242561743596, 'lambda_l2': 2.528658353758248, 'min_gain_to_split': 1.6851597783612458, 'max_depth': 7}. Best is trial 14 with value: 0.8708370450310324.\n",
      "⚡ Trial  14: F1 = 0.8708 | Best = 0.8708\n"
     ]
    },
    {
     "name": "stderr",
     "output_type": "stream",
     "text": [
      "Best trial: 14. Best value: 0.870837:  16%|█▌        | 16/100 [02:40<15:25, 11.02s/it]"
     ]
    },
    {
     "name": "stdout",
     "output_type": "stream",
     "text": [
      "[I 2025-06-27 11:49:22,951] Trial 15 finished with value: 0.862519581273084 and parameters: {'num_leaves': 61, 'learning_rate': 0.12965600759356213, 'feature_fraction': 0.8993794670696741, 'bagging_fraction': 0.7222338757443971, 'bagging_freq': 3, 'min_child_samples': 22, 'lambda_l1': 0.10131542604512184, 'lambda_l2': 2.417212196205198, 'min_gain_to_split': 1.5274947898297058, 'max_depth': 6}. Best is trial 14 with value: 0.8708370450310324.\n",
      "⚡ Trial  15: F1 = 0.8625 | Best = 0.8708\n"
     ]
    },
    {
     "name": "stderr",
     "output_type": "stream",
     "text": [
      "Best trial: 14. Best value: 0.870837:  17%|█▋        | 17/100 [02:50<15:03, 10.88s/it]"
     ]
    },
    {
     "name": "stdout",
     "output_type": "stream",
     "text": [
      "[I 2025-06-27 11:49:33,517] Trial 16 finished with value: 0.8690615305765048 and parameters: {'num_leaves': 75, 'learning_rate': 0.16382107099010357, 'feature_fraction': 0.8142866147567633, 'bagging_fraction': 0.6639850006893366, 'bagging_freq': 2, 'min_child_samples': 12, 'lambda_l1': 0.25566340563479795, 'lambda_l2': 2.1000558331141255, 'min_gain_to_split': 1.591754887203965, 'max_depth': 7}. Best is trial 14 with value: 0.8708370450310324.\n",
      "⚡ Trial  16: F1 = 0.8691 | Best = 0.8708\n"
     ]
    },
    {
     "name": "stderr",
     "output_type": "stream",
     "text": [
      "Best trial: 14. Best value: 0.870837:  18%|█▊        | 18/100 [02:58<13:45, 10.07s/it]"
     ]
    },
    {
     "name": "stdout",
     "output_type": "stream",
     "text": [
      "[I 2025-06-27 11:49:41,705] Trial 17 finished with value: 0.8660070393169071 and parameters: {'num_leaves': 49, 'learning_rate': 0.19950383106039166, 'feature_fraction': 0.7279039998282282, 'bagging_fraction': 0.7384938811676811, 'bagging_freq': 1, 'min_child_samples': 21, 'lambda_l1': 0.7025555929504381, 'lambda_l2': 1.1124015052549698, 'min_gain_to_split': 1.1842470960975546, 'max_depth': 6}. Best is trial 14 with value: 0.8708370450310324.\n",
      "⚡ Trial  17: F1 = 0.8660 | Best = 0.8708\n"
     ]
    },
    {
     "name": "stderr",
     "output_type": "stream",
     "text": [
      "Best trial: 14. Best value: 0.870837:  19%|█▉        | 19/100 [03:08<13:32, 10.03s/it]"
     ]
    },
    {
     "name": "stdout",
     "output_type": "stream",
     "text": [
      "[I 2025-06-27 11:49:51,638] Trial 18 finished with value: 0.8604861720609284 and parameters: {'num_leaves': 54, 'learning_rate': 0.08677363946937215, 'feature_fraction': 0.8096842661129607, 'bagging_fraction': 0.6801761290369058, 'bagging_freq': 4, 'min_child_samples': 11, 'lambda_l1': 1.3943338245051056, 'lambda_l2': 2.6665141132727954, 'min_gain_to_split': 1.6653449926782113, 'max_depth': 7}. Best is trial 14 with value: 0.8708370450310324.\n",
      "⚡ Trial  18: F1 = 0.8605 | Best = 0.8708\n"
     ]
    },
    {
     "name": "stderr",
     "output_type": "stream",
     "text": [
      "Best trial: 14. Best value: 0.870837:  20%|██        | 20/100 [03:18<13:17,  9.97s/it]"
     ]
    },
    {
     "name": "stdout",
     "output_type": "stream",
     "text": [
      "[I 2025-06-27 11:50:01,463] Trial 19 finished with value: 0.8324595491829295 and parameters: {'num_leaves': 28, 'learning_rate': 0.014155930449042647, 'feature_fraction': 0.8642047988539111, 'bagging_fraction': 0.8316869446562314, 'bagging_freq': 3, 'min_child_samples': 28, 'lambda_l1': 1.3587706853645796, 'lambda_l2': 2.0060005425239744, 'min_gain_to_split': 0.4185538716892885, 'max_depth': 6}. Best is trial 14 with value: 0.8708370450310324.\n",
      "⚡ Trial  19: F1 = 0.8325 | Best = 0.8708\n"
     ]
    },
    {
     "name": "stderr",
     "output_type": "stream",
     "text": [
      "Best trial: 14. Best value: 0.870837:  21%|██        | 21/100 [03:28<13:12, 10.03s/it]"
     ]
    },
    {
     "name": "stdout",
     "output_type": "stream",
     "text": [
      "[I 2025-06-27 11:50:11,637] Trial 20 finished with value: 0.869533435981162 and parameters: {'num_leaves': 72, 'learning_rate': 0.17481224567959286, 'feature_fraction': 0.7554254024063408, 'bagging_fraction': 0.6007160684974806, 'bagging_freq': 2, 'min_child_samples': 18, 'lambda_l1': 0.5948353391385912, 'lambda_l2': 2.6480183190907964, 'min_gain_to_split': 1.3175795488035424, 'max_depth': 7}. Best is trial 14 with value: 0.8708370450310324.\n",
      "⚡ Trial  20: F1 = 0.8695 | Best = 0.8708\n"
     ]
    },
    {
     "name": "stderr",
     "output_type": "stream",
     "text": [
      "Best trial: 14. Best value: 0.870837:  22%|██▏       | 22/100 [03:38<12:43,  9.79s/it]"
     ]
    },
    {
     "name": "stdout",
     "output_type": "stream",
     "text": [
      "[I 2025-06-27 11:50:20,882] Trial 21 finished with value: 0.8689312223547244 and parameters: {'num_leaves': 38, 'learning_rate': 0.182489061125816, 'feature_fraction': 0.7842737973876759, 'bagging_fraction': 0.7976286000881073, 'bagging_freq': 1, 'min_child_samples': 5, 'lambda_l1': 2.4589106269210723, 'lambda_l2': 2.756183298490939, 'min_gain_to_split': 1.965536888334651, 'max_depth': 8}. Best is trial 14 with value: 0.8708370450310324.\n",
      "⚡ Trial  21: F1 = 0.8689 | Best = 0.8708\n"
     ]
    },
    {
     "name": "stderr",
     "output_type": "stream",
     "text": [
      "Best trial: 14. Best value: 0.870837:  23%|██▎       | 23/100 [03:47<12:30,  9.74s/it]"
     ]
    },
    {
     "name": "stdout",
     "output_type": "stream",
     "text": [
      "[I 2025-06-27 11:50:30,509] Trial 22 finished with value: 0.8688432058338358 and parameters: {'num_leaves': 53, 'learning_rate': 0.1451722304283105, 'feature_fraction': 0.8068972626622283, 'bagging_fraction': 0.7576478236011349, 'bagging_freq': 1, 'min_child_samples': 9, 'lambda_l1': 1.9634510997754153, 'lambda_l2': 2.9982991328542874, 'min_gain_to_split': 1.771976963420739, 'max_depth': 8}. Best is trial 14 with value: 0.8708370450310324.\n",
      "⚡ Trial  22: F1 = 0.8688 | Best = 0.8708\n"
     ]
    },
    {
     "name": "stderr",
     "output_type": "stream",
     "text": [
      "Best trial: 14. Best value: 0.870837:  24%|██▍       | 24/100 [03:57<12:11,  9.63s/it]"
     ]
    },
    {
     "name": "stdout",
     "output_type": "stream",
     "text": [
      "[I 2025-06-27 11:50:39,876] Trial 23 finished with value: 0.8702519654781834 and parameters: {'num_leaves': 60, 'learning_rate': 0.15601584896921583, 'feature_fraction': 0.7612914989127713, 'bagging_fraction': 0.7801644715261807, 'bagging_freq': 1, 'min_child_samples': 16, 'lambda_l1': 0.10463750340547351, 'lambda_l2': 2.2544781839154204, 'min_gain_to_split': 1.7743397533828533, 'max_depth': 8}. Best is trial 14 with value: 0.8708370450310324.\n",
      "⚡ Trial  23: F1 = 0.8703 | Best = 0.8708\n"
     ]
    },
    {
     "name": "stderr",
     "output_type": "stream",
     "text": [
      "Best trial: 14. Best value: 0.870837:  25%|██▌       | 25/100 [04:06<11:57,  9.57s/it]"
     ]
    },
    {
     "name": "stdout",
     "output_type": "stream",
     "text": [
      "[I 2025-06-27 11:50:49,298] Trial 24 finished with value: 0.8682416672980701 and parameters: {'num_leaves': 59, 'learning_rate': 0.15683518552505588, 'feature_fraction': 0.7096072551013246, 'bagging_fraction': 0.7343997346632622, 'bagging_freq': 2, 'min_child_samples': 15, 'lambda_l1': 0.16381257719302877, 'lambda_l2': 2.19483980811276, 'min_gain_to_split': 0.911130481741445, 'max_depth': 7}. Best is trial 14 with value: 0.8708370450310324.\n",
      "⚡ Trial  24: F1 = 0.8682 | Best = 0.8708\n"
     ]
    },
    {
     "name": "stderr",
     "output_type": "stream",
     "text": [
      "Best trial: 14. Best value: 0.870837:  26%|██▌       | 26/100 [04:14<11:15,  9.13s/it]"
     ]
    },
    {
     "name": "stdout",
     "output_type": "stream",
     "text": [
      "[I 2025-06-27 11:50:57,405] Trial 25 finished with value: 0.8616324161743679 and parameters: {'num_leaves': 51, 'learning_rate': 0.13108664907658346, 'feature_fraction': 0.6669544691110051, 'bagging_fraction': 0.7800475828376977, 'bagging_freq': 1, 'min_child_samples': 24, 'lambda_l1': 0.4462888726384624, 'lambda_l2': 1.8848792218755912, 'min_gain_to_split': 1.700966264137047, 'max_depth': 6}. Best is trial 14 with value: 0.8708370450310324.\n",
      "⚡ Trial  25: F1 = 0.8616 | Best = 0.8708\n"
     ]
    },
    {
     "name": "stderr",
     "output_type": "stream",
     "text": [
      "Best trial: 26. Best value: 0.87289:  27%|██▋       | 27/100 [04:25<11:39,  9.58s/it] "
     ]
    },
    {
     "name": "stdout",
     "output_type": "stream",
     "text": [
      "[I 2025-06-27 11:51:08,045] Trial 26 finished with value: 0.8728903779062397 and parameters: {'num_leaves': 71, 'learning_rate': 0.17081615092860028, 'feature_fraction': 0.7568071202933702, 'bagging_fraction': 0.8249797955881257, 'bagging_freq': 2, 'min_child_samples': 17, 'lambda_l1': 0.7789123291341169, 'lambda_l2': 2.5290073405823796, 'min_gain_to_split': 1.4719441393433588, 'max_depth': 8}. Best is trial 26 with value: 0.8728903779062397.\n",
      "⚡ Trial  26: F1 = 0.8729 | Best = 0.8729\n"
     ]
    },
    {
     "name": "stderr",
     "output_type": "stream",
     "text": [
      "Best trial: 26. Best value: 0.87289:  28%|██▊       | 28/100 [04:38<12:42, 10.59s/it]"
     ]
    },
    {
     "name": "stdout",
     "output_type": "stream",
     "text": [
      "[I 2025-06-27 11:51:20,973] Trial 27 finished with value: 0.8710896988629262 and parameters: {'num_leaves': 85, 'learning_rate': 0.17626775027537325, 'feature_fraction': 0.8312052991117581, 'bagging_fraction': 0.8286648362925587, 'bagging_freq': 3, 'min_child_samples': 9, 'lambda_l1': 0.7965758329983674, 'lambda_l2': 2.533090243360178, 'min_gain_to_split': 1.480176970399581, 'max_depth': 7}. Best is trial 26 with value: 0.8728903779062397.\n",
      "⚡ Trial  27: F1 = 0.8711 | Best = 0.8729\n"
     ]
    },
    {
     "name": "stderr",
     "output_type": "stream",
     "text": [
      "Best trial: 26. Best value: 0.87289:  29%|██▉       | 29/100 [04:50<12:58, 10.97s/it]"
     ]
    },
    {
     "name": "stdout",
     "output_type": "stream",
     "text": [
      "[I 2025-06-27 11:51:32,830] Trial 28 finished with value: 0.865114299547761 and parameters: {'num_leaves': 88, 'learning_rate': 0.17313057042035018, 'feature_fraction': 0.8294960759938989, 'bagging_fraction': 0.8339625154798436, 'bagging_freq': 3, 'min_child_samples': 9, 'lambda_l1': 0.8182904799713349, 'lambda_l2': 2.4713376961087126, 'min_gain_to_split': 1.4846222228235808, 'max_depth': 6}. Best is trial 26 with value: 0.8728903779062397.\n",
      "⚡ Trial  28: F1 = 0.8651 | Best = 0.8729\n"
     ]
    },
    {
     "name": "stderr",
     "output_type": "stream",
     "text": [
      "Best trial: 26. Best value: 0.87289:  30%|███       | 30/100 [05:01<12:46, 10.95s/it]"
     ]
    },
    {
     "name": "stdout",
     "output_type": "stream",
     "text": [
      "[I 2025-06-27 11:51:43,753] Trial 29 finished with value: 0.8718060830288064 and parameters: {'num_leaves': 82, 'learning_rate': 0.19796667817104924, 'feature_fraction': 0.7984695226657553, 'bagging_fraction': 0.8191580711595602, 'bagging_freq': 4, 'min_child_samples': 10, 'lambda_l1': 1.2054502091195878, 'lambda_l2': 2.7318349020826145, 'min_gain_to_split': 1.2867302305108475, 'max_depth': 7}. Best is trial 26 with value: 0.8728903779062397.\n",
      "⚡ Trial  29: F1 = 0.8718 | Best = 0.8729\n"
     ]
    },
    {
     "name": "stderr",
     "output_type": "stream",
     "text": [
      "Best trial: 26. Best value: 0.87289:  31%|███       | 31/100 [05:14<13:28, 11.71s/it]"
     ]
    },
    {
     "name": "stdout",
     "output_type": "stream",
     "text": [
      "[I 2025-06-27 11:51:57,237] Trial 30 finished with value: 0.8686018850257825 and parameters: {'num_leaves': 85, 'learning_rate': 0.11663059955529165, 'feature_fraction': 0.6637300943927747, 'bagging_fraction': 0.8984226033573977, 'bagging_freq': 5, 'min_child_samples': 9, 'lambda_l1': 1.1568181277622436, 'lambda_l2': 2.765223153304466, 'min_gain_to_split': 1.0435280918840348, 'max_depth': 8}. Best is trial 26 with value: 0.8728903779062397.\n",
      "⚡ Trial  30: F1 = 0.8686 | Best = 0.8729\n"
     ]
    },
    {
     "name": "stderr",
     "output_type": "stream",
     "text": [
      "Best trial: 26. Best value: 0.87289:  32%|███▏      | 32/100 [05:26<13:26, 11.86s/it]"
     ]
    },
    {
     "name": "stdout",
     "output_type": "stream",
     "text": [
      "[I 2025-06-27 11:52:09,440] Trial 31 finished with value: 0.8708372165652646 and parameters: {'num_leaves': 72, 'learning_rate': 0.18016987414394026, 'feature_fraction': 0.7997557642698371, 'bagging_fraction': 0.8204678813186207, 'bagging_freq': 4, 'min_child_samples': 11, 'lambda_l1': 1.2666147546756015, 'lambda_l2': 2.530076435120964, 'min_gain_to_split': 1.2971639554639784, 'max_depth': 7}. Best is trial 26 with value: 0.8728903779062397.\n",
      "⚡ Trial  31: F1 = 0.8708 | Best = 0.8729\n"
     ]
    },
    {
     "name": "stderr",
     "output_type": "stream",
     "text": [
      "Best trial: 26. Best value: 0.87289:  33%|███▎      | 33/100 [05:39<13:42, 12.28s/it]"
     ]
    },
    {
     "name": "stdout",
     "output_type": "stream",
     "text": [
      "[I 2025-06-27 11:52:22,703] Trial 32 finished with value: 0.8723966281514115 and parameters: {'num_leaves': 96, 'learning_rate': 0.18008695211297973, 'feature_fraction': 0.8373846283361376, 'bagging_fraction': 0.8153514888266988, 'bagging_freq': 4, 'min_child_samples': 9, 'lambda_l1': 1.2356530216066126, 'lambda_l2': 1.7954852202238751, 'min_gain_to_split': 1.2879355438324225, 'max_depth': 7}. Best is trial 26 with value: 0.8728903779062397.\n",
      "⚡ Trial  32: F1 = 0.8724 | Best = 0.8729\n"
     ]
    },
    {
     "name": "stderr",
     "output_type": "stream",
     "text": [
      "Best trial: 26. Best value: 0.87289:  34%|███▍      | 34/100 [05:53<13:45, 12.51s/it]"
     ]
    },
    {
     "name": "stdout",
     "output_type": "stream",
     "text": [
      "[I 2025-06-27 11:52:35,761] Trial 33 finished with value: 0.8706281765518346 and parameters: {'num_leaves': 100, 'learning_rate': 0.1661002983472568, 'feature_fraction': 0.8452967953257338, 'bagging_fraction': 0.8531264451288086, 'bagging_freq': 4, 'min_child_samples': 8, 'lambda_l1': 1.1377280268839607, 'lambda_l2': 1.317905514833034, 'min_gain_to_split': 1.2446766509544567, 'max_depth': 7}. Best is trial 26 with value: 0.8728903779062397.\n",
      "⚡ Trial  33: F1 = 0.8706 | Best = 0.8729\n"
     ]
    },
    {
     "name": "stderr",
     "output_type": "stream",
     "text": [
      "Best trial: 26. Best value: 0.87289:  35%|███▌      | 35/100 [06:02<12:31, 11.57s/it]"
     ]
    },
    {
     "name": "stdout",
     "output_type": "stream",
     "text": [
      "[I 2025-06-27 11:52:45,125] Trial 34 finished with value: 0.8581089996057675 and parameters: {'num_leaves': 93, 'learning_rate': 0.14531670364005866, 'feature_fraction': 0.864967428071518, 'bagging_fraction': 0.8196674564541969, 'bagging_freq': 4, 'min_child_samples': 14, 'lambda_l1': 0.7663621710302376, 'lambda_l2': 1.764230092055239, 'min_gain_to_split': 1.1313350900148746, 'max_depth': 5}. Best is trial 26 with value: 0.8728903779062397.\n",
      "⚡ Trial  34: F1 = 0.8581 | Best = 0.8729\n"
     ]
    },
    {
     "name": "stderr",
     "output_type": "stream",
     "text": [
      "Best trial: 35. Best value: 0.877237:  36%|███▌      | 36/100 [06:16<13:07, 12.30s/it]"
     ]
    },
    {
     "name": "stdout",
     "output_type": "stream",
     "text": [
      "[I 2025-06-27 11:52:59,136] Trial 35 finished with value: 0.8772374235668909 and parameters: {'num_leaves': 80, 'learning_rate': 0.18902760582549608, 'feature_fraction': 0.8414449225488578, 'bagging_fraction': 0.8708839513771602, 'bagging_freq': 5, 'min_child_samples': 18, 'lambda_l1': 0.9419617697257472, 'lambda_l2': 1.026492278709862, 'min_gain_to_split': 0.9384692550946301, 'max_depth': 8}. Best is trial 35 with value: 0.8772374235668909.\n",
      "⚡ Trial  35: F1 = 0.8772 | Best = 0.8772\n"
     ]
    },
    {
     "name": "stderr",
     "output_type": "stream",
     "text": [
      "Best trial: 36. Best value: 0.877263:  37%|███▋      | 37/100 [06:29<13:09, 12.53s/it]"
     ]
    },
    {
     "name": "stdout",
     "output_type": "stream",
     "text": [
      "[I 2025-06-27 11:53:12,206] Trial 36 finished with value: 0.8772625940216012 and parameters: {'num_leaves': 78, 'learning_rate': 0.19027110877272488, 'feature_fraction': 0.871086293299812, 'bagging_fraction': 0.8566769443289476, 'bagging_freq': 6, 'min_child_samples': 19, 'lambda_l1': 0.9882148826608101, 'lambda_l2': 0.6812331755539155, 'min_gain_to_split': 0.9628017346339232, 'max_depth': 8}. Best is trial 36 with value: 0.8772625940216012.\n",
      "⚡ Trial  36: F1 = 0.8773 | Best = 0.8773\n"
     ]
    },
    {
     "name": "stderr",
     "output_type": "stream",
     "text": [
      "Best trial: 37. Best value: 0.877645:  38%|███▊      | 38/100 [06:43<13:16, 12.84s/it]"
     ]
    },
    {
     "name": "stdout",
     "output_type": "stream",
     "text": [
      "[I 2025-06-27 11:53:25,769] Trial 37 finished with value: 0.8776451703073201 and parameters: {'num_leaves': 93, 'learning_rate': 0.18373953522874714, 'feature_fraction': 0.8992338036067461, 'bagging_fraction': 0.8632888233035274, 'bagging_freq': 6, 'min_child_samples': 32, 'lambda_l1': 0.9670544153936642, 'lambda_l2': 0.6419798600240487, 'min_gain_to_split': 0.9195867763509644, 'max_depth': 8}. Best is trial 37 with value: 0.8776451703073201.\n",
      "⚡ Trial  37: F1 = 0.8776 | Best = 0.8776\n"
     ]
    },
    {
     "name": "stderr",
     "output_type": "stream",
     "text": [
      "Best trial: 37. Best value: 0.877645:  39%|███▉      | 39/100 [06:56<13:15, 13.05s/it]"
     ]
    },
    {
     "name": "stdout",
     "output_type": "stream",
     "text": [
      "[I 2025-06-27 11:53:39,298] Trial 38 finished with value: 0.8770159822588649 and parameters: {'num_leaves': 68, 'learning_rate': 0.18704945354603925, 'feature_fraction': 0.8908419231746872, 'bagging_fraction': 0.8667675108794438, 'bagging_freq': 7, 'min_child_samples': 33, 'lambda_l1': 1.0545303153903682, 'lambda_l2': 0.7093192207860355, 'min_gain_to_split': 0.7945468126741171, 'max_depth': 8}. Best is trial 37 with value: 0.8776451703073201.\n",
      "⚡ Trial  38: F1 = 0.8770 | Best = 0.8776\n"
     ]
    },
    {
     "name": "stderr",
     "output_type": "stream",
     "text": [
      "Best trial: 39. Best value: 0.878335:  40%|████      | 40/100 [07:09<13:05, 13.08s/it]"
     ]
    },
    {
     "name": "stdout",
     "output_type": "stream",
     "text": [
      "[I 2025-06-27 11:53:52,469] Trial 39 finished with value: 0.8783346949119485 and parameters: {'num_leaves': 76, 'learning_rate': 0.18921183581125417, 'feature_fraction': 0.8988844355836225, 'bagging_fraction': 0.8675390473656414, 'bagging_freq': 7, 'min_child_samples': 33, 'lambda_l1': 0.9433810415776934, 'lambda_l2': 0.66818549868797, 'min_gain_to_split': 0.7629218015609133, 'max_depth': 8}. Best is trial 39 with value: 0.8783346949119485.\n",
      "⚡ Trial  39: F1 = 0.8783 | Best = 0.8783\n"
     ]
    },
    {
     "name": "stderr",
     "output_type": "stream",
     "text": [
      "Best trial: 39. Best value: 0.878335:  41%|████      | 41/100 [07:23<13:05, 13.32s/it]"
     ]
    },
    {
     "name": "stdout",
     "output_type": "stream",
     "text": [
      "[I 2025-06-27 11:54:06,328] Trial 40 finished with value: 0.865383770655724 and parameters: {'num_leaves': 78, 'learning_rate': 0.08499628076323601, 'feature_fraction': 0.873408968771753, 'bagging_fraction': 0.8844450827545325, 'bagging_freq': 6, 'min_child_samples': 33, 'lambda_l1': 1.4608981635197236, 'lambda_l2': 0.1321446045008533, 'min_gain_to_split': 0.65207336483534, 'max_depth': 8}. Best is trial 39 with value: 0.8783346949119485.\n",
      "⚡ Trial  40: F1 = 0.8654 | Best = 0.8783\n"
     ]
    },
    {
     "name": "stderr",
     "output_type": "stream",
     "text": [
      "Best trial: 39. Best value: 0.878335:  42%|████▏     | 42/100 [07:35<12:29, 12.92s/it]"
     ]
    },
    {
     "name": "stdout",
     "output_type": "stream",
     "text": [
      "[I 2025-06-27 11:54:18,312] Trial 41 finished with value: 0.8775711629305905 and parameters: {'num_leaves': 67, 'learning_rate': 0.19004706604013355, 'feature_fraction': 0.8991435201436101, 'bagging_fraction': 0.8648791864943245, 'bagging_freq': 7, 'min_child_samples': 32, 'lambda_l1': 0.9914538376962274, 'lambda_l2': 0.751168302817123, 'min_gain_to_split': 0.8517078560206659, 'max_depth': 8}. Best is trial 39 with value: 0.8783346949119485.\n",
      "⚡ Trial  41: F1 = 0.8776 | Best = 0.8783\n"
     ]
    },
    {
     "name": "stderr",
     "output_type": "stream",
     "text": [
      "Best trial: 39. Best value: 0.878335:  43%|████▎     | 43/100 [07:49<12:37, 13.29s/it]"
     ]
    },
    {
     "name": "stdout",
     "output_type": "stream",
     "text": [
      "[I 2025-06-27 11:54:32,480] Trial 42 finished with value: 0.8777083391563155 and parameters: {'num_leaves': 93, 'learning_rate': 0.18780525834899386, 'feature_fraction': 0.8825270924453658, 'bagging_fraction': 0.8557389052134565, 'bagging_freq': 6, 'min_child_samples': 38, 'lambda_l1': 0.98527157142365, 'lambda_l2': 0.7300000366619148, 'min_gain_to_split': 0.9562207871759162, 'max_depth': 8}. Best is trial 39 with value: 0.8783346949119485.\n",
      "⚡ Trial  42: F1 = 0.8777 | Best = 0.8783\n"
     ]
    },
    {
     "name": "stderr",
     "output_type": "stream",
     "text": [
      "Best trial: 39. Best value: 0.878335:  44%|████▍     | 44/100 [08:05<12:57, 13.89s/it]"
     ]
    },
    {
     "name": "stdout",
     "output_type": "stream",
     "text": [
      "[I 2025-06-27 11:54:47,775] Trial 43 finished with value: 0.8768137503454266 and parameters: {'num_leaves': 92, 'learning_rate': 0.16241678076167348, 'feature_fraction': 0.8843718063726058, 'bagging_fraction': 0.8517908787196009, 'bagging_freq': 6, 'min_child_samples': 41, 'lambda_l1': 0.8927050712283227, 'lambda_l2': 0.6793384252380781, 'min_gain_to_split': 0.8304113227615312, 'max_depth': 8}. Best is trial 39 with value: 0.8783346949119485.\n",
      "⚡ Trial  43: F1 = 0.8768 | Best = 0.8783\n"
     ]
    },
    {
     "name": "stderr",
     "output_type": "stream",
     "text": [
      "Best trial: 44. Best value: 0.87892:  45%|████▌     | 45/100 [08:18<12:43, 13.89s/it] "
     ]
    },
    {
     "name": "stdout",
     "output_type": "stream",
     "text": [
      "[I 2025-06-27 11:55:01,656] Trial 44 finished with value: 0.8789204136863086 and parameters: {'num_leaves': 92, 'learning_rate': 0.19062711358444506, 'feature_fraction': 0.8991218251894109, 'bagging_fraction': 0.8983896351673433, 'bagging_freq': 7, 'min_child_samples': 38, 'lambda_l1': 0.5288817600311512, 'lambda_l2': 0.531348667388122, 'min_gain_to_split': 0.9865912765212663, 'max_depth': 8}. Best is trial 44 with value: 0.8789204136863086.\n",
      "⚡ Trial  44: F1 = 0.8789 | Best = 0.8789\n"
     ]
    },
    {
     "name": "stderr",
     "output_type": "stream",
     "text": [
      "Best trial: 45. Best value: 0.880407:  46%|████▌     | 46/100 [08:35<13:12, 14.68s/it]"
     ]
    },
    {
     "name": "stdout",
     "output_type": "stream",
     "text": [
      "[I 2025-06-27 11:55:18,169] Trial 45 finished with value: 0.8804065131963844 and parameters: {'num_leaves': 92, 'learning_rate': 0.19869692187968135, 'feature_fraction': 0.8958989619558476, 'bagging_fraction': 0.8981806504900346, 'bagging_freq': 7, 'min_child_samples': 36, 'lambda_l1': 0.5754637018311175, 'lambda_l2': 0.4547549920887318, 'min_gain_to_split': 0.5348855329062734, 'max_depth': 8}. Best is trial 45 with value: 0.8804065131963844.\n",
      "⚡ Trial  45: F1 = 0.8804 | Best = 0.8804\n"
     ]
    },
    {
     "name": "stderr",
     "output_type": "stream",
     "text": [
      "Best trial: 45. Best value: 0.880407:  47%|████▋     | 47/100 [08:50<13:11, 14.93s/it]"
     ]
    },
    {
     "name": "stdout",
     "output_type": "stream",
     "text": [
      "[I 2025-06-27 11:55:33,682] Trial 46 finished with value: 0.8801315744789968 and parameters: {'num_leaves': 92, 'learning_rate': 0.19965672573258245, 'feature_fraction': 0.8558630290561826, 'bagging_fraction': 0.8984146830876258, 'bagging_freq': 7, 'min_child_samples': 38, 'lambda_l1': 0.5219823448417167, 'lambda_l2': 0.4330979701388048, 'min_gain_to_split': 0.30784342446680146, 'max_depth': 8}. Best is trial 45 with value: 0.8804065131963844.\n",
      "⚡ Trial  46: F1 = 0.8801 | Best = 0.8804\n"
     ]
    },
    {
     "name": "stderr",
     "output_type": "stream",
     "text": [
      "Best trial: 45. Best value: 0.880407:  48%|████▊     | 48/100 [09:03<12:22, 14.28s/it]"
     ]
    },
    {
     "name": "stdout",
     "output_type": "stream",
     "text": [
      "[I 2025-06-27 11:55:46,447] Trial 47 finished with value: 0.8803140609628458 and parameters: {'num_leaves': 90, 'learning_rate': 0.19967004191934687, 'feature_fraction': 0.8597830767894047, 'bagging_fraction': 0.8961814347854736, 'bagging_freq': 7, 'min_child_samples': 45, 'lambda_l1': 0.5246806716630755, 'lambda_l2': 0.46837426906557744, 'min_gain_to_split': 0.2983273062034464, 'max_depth': 8}. Best is trial 45 with value: 0.8804065131963844.\n",
      "⚡ Trial  47: F1 = 0.8803 | Best = 0.8804\n"
     ]
    },
    {
     "name": "stderr",
     "output_type": "stream",
     "text": [
      "Best trial: 45. Best value: 0.880407:  49%|████▉     | 49/100 [09:16<11:44, 13.82s/it]"
     ]
    },
    {
     "name": "stdout",
     "output_type": "stream",
     "text": [
      "[I 2025-06-27 11:55:59,200] Trial 48 finished with value: 0.8802444635437157 and parameters: {'num_leaves': 89, 'learning_rate': 0.1999626224234001, 'feature_fraction': 0.8587770291291617, 'bagging_fraction': 0.8990674401969984, 'bagging_freq': 7, 'min_child_samples': 49, 'lambda_l1': 0.5179541245619796, 'lambda_l2': 0.46169369800687515, 'min_gain_to_split': 0.25917447599969035, 'max_depth': 8}. Best is trial 45 with value: 0.8804065131963844.\n",
      "⚡ Trial  48: F1 = 0.8802 | Best = 0.8804\n"
     ]
    },
    {
     "name": "stderr",
     "output_type": "stream",
     "text": [
      "Best trial: 45. Best value: 0.880407:  50%|█████     | 50/100 [09:28<11:06, 13.33s/it]"
     ]
    },
    {
     "name": "stdout",
     "output_type": "stream",
     "text": [
      "[I 2025-06-27 11:56:11,392] Trial 49 finished with value: 0.879919110955322 and parameters: {'num_leaves': 89, 'learning_rate': 0.19925068144115213, 'feature_fraction': 0.8527488596825872, 'bagging_fraction': 0.8967466886102117, 'bagging_freq': 7, 'min_child_samples': 49, 'lambda_l1': 0.3635749088980069, 'lambda_l2': 0.4735373165341411, 'min_gain_to_split': 0.23184473240144088, 'max_depth': 8}. Best is trial 45 with value: 0.8804065131963844.\n",
      "⚡ Trial  49: F1 = 0.8799 | Best = 0.8804\n"
     ]
    },
    {
     "name": "stderr",
     "output_type": "stream",
     "text": [
      "Best trial: 45. Best value: 0.880407:  51%|█████     | 51/100 [09:35<09:19, 11.42s/it]"
     ]
    },
    {
     "name": "stdout",
     "output_type": "stream",
     "text": [
      "[I 2025-06-27 11:56:18,339] Trial 50 finished with value: 0.8550952381298867 and parameters: {'num_leaves': 88, 'learning_rate': 0.19988024684833552, 'feature_fraction': 0.8572053313363163, 'bagging_fraction': 0.8834816737051191, 'bagging_freq': 7, 'min_child_samples': 50, 'lambda_l1': 0.3529933108922203, 'lambda_l2': 0.3315392177003671, 'min_gain_to_split': 0.23331129247330007, 'max_depth': 4}. Best is trial 45 with value: 0.8804065131963844.\n",
      "⚡ Trial  50: F1 = 0.8551 | Best = 0.8804\n"
     ]
    },
    {
     "name": "stderr",
     "output_type": "stream",
     "text": [
      "Best trial: 45. Best value: 0.880407:  52%|█████▏    | 52/100 [09:48<09:34, 11.96s/it]"
     ]
    },
    {
     "name": "stdout",
     "output_type": "stream",
     "text": [
      "[I 2025-06-27 11:56:31,576] Trial 51 finished with value: 0.8796994129000906 and parameters: {'num_leaves': 98, 'learning_rate': 0.19965734180737013, 'feature_fraction': 0.8561904645668668, 'bagging_fraction': 0.8982293719964, 'bagging_freq': 7, 'min_child_samples': 45, 'lambda_l1': 0.5688300206803201, 'lambda_l2': 0.48666076682507836, 'min_gain_to_split': 0.29135610412852625, 'max_depth': 8}. Best is trial 45 with value: 0.8804065131963844.\n",
      "⚡ Trial  51: F1 = 0.8797 | Best = 0.8804\n"
     ]
    },
    {
     "name": "stderr",
     "output_type": "stream",
     "text": [
      "Best trial: 52. Best value: 0.880949:  53%|█████▎    | 53/100 [10:01<09:30, 12.14s/it]"
     ]
    },
    {
     "name": "stdout",
     "output_type": "stream",
     "text": [
      "[I 2025-06-27 11:56:44,130] Trial 52 finished with value: 0.880949220680074 and parameters: {'num_leaves': 99, 'learning_rate': 0.19812427050382966, 'feature_fraction': 0.8538740158926141, 'bagging_fraction': 0.8881210773647019, 'bagging_freq': 7, 'min_child_samples': 44, 'lambda_l1': 0.36098342586899906, 'lambda_l2': 0.1273993557150624, 'min_gain_to_split': 0.29588554481459095, 'max_depth': 8}. Best is trial 52 with value: 0.880949220680074.\n",
      "⚡ Trial  52: F1 = 0.8809 | Best = 0.8809\n"
     ]
    },
    {
     "name": "stderr",
     "output_type": "stream",
     "text": [
      "Best trial: 52. Best value: 0.880949:  54%|█████▍    | 54/100 [10:14<09:28, 12.36s/it]"
     ]
    },
    {
     "name": "stdout",
     "output_type": "stream",
     "text": [
      "[I 2025-06-27 11:56:56,995] Trial 53 finished with value: 0.8791019969054349 and parameters: {'num_leaves': 84, 'learning_rate': 0.19444348003134607, 'feature_fraction': 0.8505103693275758, 'bagging_fraction': 0.8810673861353767, 'bagging_freq': 7, 'min_child_samples': 44, 'lambda_l1': 0.37523344845845896, 'lambda_l2': 0.13603771359308045, 'min_gain_to_split': 0.39734042187918384, 'max_depth': 8}. Best is trial 52 with value: 0.880949220680074.\n",
      "⚡ Trial  53: F1 = 0.8791 | Best = 0.8809\n"
     ]
    },
    {
     "name": "stderr",
     "output_type": "stream",
     "text": [
      "Best trial: 52. Best value: 0.880949:  55%|█████▌    | 55/100 [10:27<09:30, 12.68s/it]"
     ]
    },
    {
     "name": "stdout",
     "output_type": "stream",
     "text": [
      "[I 2025-06-27 11:57:10,429] Trial 54 finished with value: 0.8597039574333829 and parameters: {'num_leaves': 88, 'learning_rate': 0.05764298246086355, 'feature_fraction': 0.8190308710872021, 'bagging_fraction': 0.8898921007756274, 'bagging_freq': 7, 'min_child_samples': 50, 'lambda_l1': 0.6350208772843546, 'lambda_l2': 0.25343847160278166, 'min_gain_to_split': 0.11618814202877858, 'max_depth': 8}. Best is trial 52 with value: 0.880949220680074.\n",
      "⚡ Trial  54: F1 = 0.8597 | Best = 0.8809\n"
     ]
    },
    {
     "name": "stderr",
     "output_type": "stream",
     "text": [
      "Best trial: 52. Best value: 0.880949:  56%|█████▌    | 56/100 [10:40<09:14, 12.60s/it]"
     ]
    },
    {
     "name": "stdout",
     "output_type": "stream",
     "text": [
      "[I 2025-06-27 11:57:22,848] Trial 55 finished with value: 0.8738349742848793 and parameters: {'num_leaves': 96, 'learning_rate': 0.17895451041896684, 'feature_fraction': 0.866611788126858, 'bagging_fraction': 0.8795320160417299, 'bagging_freq': 6, 'min_child_samples': 47, 'lambda_l1': 0.25225816562031733, 'lambda_l2': 0.8886895838376432, 'min_gain_to_split': 0.028256075463305053, 'max_depth': 7}. Best is trial 52 with value: 0.880949220680074.\n",
      "⚡ Trial  55: F1 = 0.8738 | Best = 0.8809\n"
     ]
    },
    {
     "name": "stderr",
     "output_type": "stream",
     "text": [
      "Best trial: 52. Best value: 0.880949:  57%|█████▋    | 57/100 [10:53<09:11, 12.82s/it]"
     ]
    },
    {
     "name": "stdout",
     "output_type": "stream",
     "text": [
      "[I 2025-06-27 11:57:36,179] Trial 56 finished with value: 0.8778801749288392 and parameters: {'num_leaves': 100, 'learning_rate': 0.1668394188560379, 'feature_fraction': 0.8795135993694504, 'bagging_fraction': 0.8413030862246902, 'bagging_freq': 7, 'min_child_samples': 47, 'lambda_l1': 0.4149447472778854, 'lambda_l2': 0.4456331080319062, 'min_gain_to_split': 0.4604180856160805, 'max_depth': 8}. Best is trial 52 with value: 0.880949220680074.\n",
      "⚡ Trial  56: F1 = 0.8779 | Best = 0.8809\n"
     ]
    },
    {
     "name": "stderr",
     "output_type": "stream",
     "text": [
      "Best trial: 52. Best value: 0.880949:  58%|█████▊    | 58/100 [11:00<07:44, 11.06s/it]"
     ]
    },
    {
     "name": "stdout",
     "output_type": "stream",
     "text": [
      "[I 2025-06-27 11:57:43,125] Trial 57 finished with value: 0.8545280662971315 and parameters: {'num_leaves': 13, 'learning_rate': 0.19547469401354514, 'feature_fraction': 0.8527596164675647, 'bagging_fraction': 0.8883104347451336, 'bagging_freq': 7, 'min_child_samples': 43, 'lambda_l1': 0.28835499871528225, 'lambda_l2': 0.30604411864091463, 'min_gain_to_split': 0.20901708570401376, 'max_depth': 4}. Best is trial 52 with value: 0.880949220680074.\n",
      "⚡ Trial  57: F1 = 0.8545 | Best = 0.8809\n"
     ]
    },
    {
     "name": "stderr",
     "output_type": "stream",
     "text": [
      "Best trial: 52. Best value: 0.880949:  59%|█████▉    | 59/100 [11:12<07:42, 11.29s/it]"
     ]
    },
    {
     "name": "stdout",
     "output_type": "stream",
     "text": [
      "[I 2025-06-27 11:57:54,963] Trial 58 finished with value: 0.8733774066669585 and parameters: {'num_leaves': 90, 'learning_rate': 0.1817059647120073, 'feature_fraction': 0.8199551192523005, 'bagging_fraction': 0.878987910930194, 'bagging_freq': 6, 'min_child_samples': 40, 'lambda_l1': 0.6709013411154506, 'lambda_l2': 0.5631237147608613, 'min_gain_to_split': 0.5441034652850609, 'max_depth': 7}. Best is trial 52 with value: 0.880949220680074.\n",
      "⚡ Trial  58: F1 = 0.8734 | Best = 0.8809\n"
     ]
    },
    {
     "name": "stderr",
     "output_type": "stream",
     "text": [
      "Best trial: 52. Best value: 0.880949:  60%|██████    | 60/100 [11:26<08:04, 12.10s/it]"
     ]
    },
    {
     "name": "stdout",
     "output_type": "stream",
     "text": [
      "[I 2025-06-27 11:58:08,960] Trial 59 finished with value: 0.8398749724237126 and parameters: {'num_leaves': 97, 'learning_rate': 0.011205285100603132, 'feature_fraction': 0.8390266300494069, 'bagging_fraction': 0.8996930434795886, 'bagging_freq': 7, 'min_child_samples': 48, 'lambda_l1': 0.44722927509070315, 'lambda_l2': 0.22366495205777176, 'min_gain_to_split': 0.36455597344078094, 'max_depth': 8}. Best is trial 52 with value: 0.880949220680074.\n",
      "⚡ Trial  59: F1 = 0.8399 | Best = 0.8809\n"
     ]
    },
    {
     "name": "stderr",
     "output_type": "stream",
     "text": [
      "Best trial: 52. Best value: 0.880949:  61%|██████    | 61/100 [11:39<08:01, 12.35s/it]"
     ]
    },
    {
     "name": "stdout",
     "output_type": "stream",
     "text": [
      "[I 2025-06-27 11:58:21,888] Trial 60 finished with value: 0.8763906776141767 and parameters: {'num_leaves': 84, 'learning_rate': 0.15463446656327726, 'feature_fraction': 0.8757964045785102, 'bagging_fraction': 0.8747938407227444, 'bagging_freq': 7, 'min_child_samples': 45, 'lambda_l1': 0.5189694136635451, 'lambda_l2': 0.4030832402093633, 'min_gain_to_split': 0.29197705584961386, 'max_depth': 8}. Best is trial 52 with value: 0.880949220680074.\n",
      "⚡ Trial  60: F1 = 0.8764 | Best = 0.8809\n"
     ]
    },
    {
     "name": "stderr",
     "output_type": "stream",
     "text": [
      "Best trial: 61. Best value: 0.881218:  62%|██████▏   | 62/100 [11:53<08:15, 13.05s/it]"
     ]
    },
    {
     "name": "stdout",
     "output_type": "stream",
     "text": [
      "[I 2025-06-27 11:58:36,561] Trial 61 finished with value: 0.8812179956172151 and parameters: {'num_leaves': 96, 'learning_rate': 0.1995504314377857, 'feature_fraction': 0.8586635066323721, 'bagging_fraction': 0.8908857855054255, 'bagging_freq': 7, 'min_child_samples': 45, 'lambda_l1': 0.6042567130081935, 'lambda_l2': 0.8512012650277041, 'min_gain_to_split': 0.3152257693551831, 'max_depth': 8}. Best is trial 61 with value: 0.8812179956172151.\n",
      "⚡ Trial  61: F1 = 0.8812 | Best = 0.8812\n"
     ]
    },
    {
     "name": "stderr",
     "output_type": "stream",
     "text": [
      "Best trial: 61. Best value: 0.881218:  63%|██████▎   | 63/100 [12:10<08:38, 14.00s/it]"
     ]
    },
    {
     "name": "stdout",
     "output_type": "stream",
     "text": [
      "[I 2025-06-27 11:58:52,784] Trial 62 finished with value: 0.8807481525876586 and parameters: {'num_leaves': 96, 'learning_rate': 0.1955725917581808, 'feature_fraction': 0.861767435192927, 'bagging_fraction': 0.8912829004021003, 'bagging_freq': 7, 'min_child_samples': 36, 'lambda_l1': 0.30466815277755194, 'lambda_l2': 0.8891216086493595, 'min_gain_to_split': 0.5004618459594506, 'max_depth': 8}. Best is trial 61 with value: 0.8812179956172151.\n",
      "⚡ Trial  62: F1 = 0.8807 | Best = 0.8812\n"
     ]
    },
    {
     "name": "stderr",
     "output_type": "stream",
     "text": [
      "Best trial: 61. Best value: 0.881218:  64%|██████▍   | 64/100 [12:23<08:17, 13.83s/it]"
     ]
    },
    {
     "name": "stdout",
     "output_type": "stream",
     "text": [
      "[I 2025-06-27 11:59:06,218] Trial 63 finished with value: 0.8798668579522061 and parameters: {'num_leaves': 95, 'learning_rate': 0.1943519789258596, 'feature_fraction': 0.8626957906016789, 'bagging_fraction': 0.8892396889017807, 'bagging_freq': 6, 'min_child_samples': 36, 'lambda_l1': 0.21675657727724695, 'lambda_l2': 0.8682950822729041, 'min_gain_to_split': 0.49595716172476134, 'max_depth': 8}. Best is trial 61 with value: 0.8812179956172151.\n",
      "⚡ Trial  63: F1 = 0.8799 | Best = 0.8812\n"
     ]
    },
    {
     "name": "stderr",
     "output_type": "stream",
     "text": [
      "Best trial: 61. Best value: 0.881218:  65%|██████▌   | 65/100 [12:35<07:49, 13.42s/it]"
     ]
    },
    {
     "name": "stdout",
     "output_type": "stream",
     "text": [
      "[I 2025-06-27 11:59:18,674] Trial 64 finished with value: 0.8788981139387627 and parameters: {'num_leaves': 99, 'learning_rate': 0.1829184414542124, 'feature_fraction': 0.8834609034732743, 'bagging_fraction': 0.8427487525491545, 'bagging_freq': 7, 'min_child_samples': 40, 'lambda_l1': 0.6459101342398876, 'lambda_l2': 0.8357913772787156, 'min_gain_to_split': 0.6405600512474131, 'max_depth': 8}. Best is trial 61 with value: 0.8812179956172151.\n",
      "⚡ Trial  64: F1 = 0.8789 | Best = 0.8812\n"
     ]
    },
    {
     "name": "stderr",
     "output_type": "stream",
     "text": [
      "Best trial: 61. Best value: 0.881218:  66%|██████▌   | 66/100 [12:47<07:17, 12.86s/it]"
     ]
    },
    {
     "name": "stdout",
     "output_type": "stream",
     "text": [
      "[I 2025-06-27 11:59:30,223] Trial 65 finished with value: 0.8728351161695845 and parameters: {'num_leaves': 95, 'learning_rate': 0.17436236697103596, 'feature_fraction': 0.8287875300299691, 'bagging_fraction': 0.8735934268996661, 'bagging_freq': 7, 'min_child_samples': 36, 'lambda_l1': 0.502903531132565, 'lambda_l2': 1.0214214057504734, 'min_gain_to_split': 0.17649590996224768, 'max_depth': 7}. Best is trial 61 with value: 0.8812179956172151.\n",
      "⚡ Trial  65: F1 = 0.8728 | Best = 0.8812\n"
     ]
    },
    {
     "name": "stderr",
     "output_type": "stream",
     "text": [
      "Best trial: 61. Best value: 0.881218:  67%|██████▋   | 67/100 [12:53<05:55, 10.77s/it]"
     ]
    },
    {
     "name": "stdout",
     "output_type": "stream",
     "text": [
      "[I 2025-06-27 11:59:36,140] Trial 66 finished with value: 0.8494396053892256 and parameters: {'num_leaves': 91, 'learning_rate': 0.19321966096012844, 'feature_fraction': 0.8887179689988827, 'bagging_fraction': 0.8900652021591638, 'bagging_freq': 6, 'min_child_samples': 45, 'lambda_l1': 0.2964793085525659, 'lambda_l2': 1.2871676359253288, 'min_gain_to_split': 0.3491522914053893, 'max_depth': 3}. Best is trial 61 with value: 0.8812179956172151.\n",
      "⚡ Trial  66: F1 = 0.8494 | Best = 0.8812\n"
     ]
    },
    {
     "name": "stderr",
     "output_type": "stream",
     "text": [
      "Best trial: 61. Best value: 0.881218:  68%|██████▊   | 68/100 [13:04<05:46, 10.83s/it]"
     ]
    },
    {
     "name": "stdout",
     "output_type": "stream",
     "text": [
      "[I 2025-06-27 11:59:47,106] Trial 67 finished with value: 0.8753680298608 and parameters: {'num_leaves': 86, 'learning_rate': 0.17077490798315106, 'feature_fraction': 0.8610076928480254, 'bagging_fraction': 0.6933106572053341, 'bagging_freq': 7, 'min_child_samples': 42, 'lambda_l1': 0.7257765199603847, 'lambda_l2': 0.5880561446357325, 'min_gain_to_split': 0.28969879541275245, 'max_depth': 8}. Best is trial 61 with value: 0.8812179956172151.\n",
      "⚡ Trial  67: F1 = 0.8754 | Best = 0.8812\n"
     ]
    },
    {
     "name": "stderr",
     "output_type": "stream",
     "text": [
      "Best trial: 61. Best value: 0.881218:  69%|██████▉   | 69/100 [13:15<05:42, 11.04s/it]"
     ]
    },
    {
     "name": "stdout",
     "output_type": "stream",
     "text": [
      "[I 2025-06-27 11:59:58,616] Trial 68 finished with value: 0.8748340048007236 and parameters: {'num_leaves': 100, 'learning_rate': 0.1842564865841621, 'feature_fraction': 0.8435877892355116, 'bagging_fraction': 0.8890574054923844, 'bagging_freq': 7, 'min_child_samples': 30, 'lambda_l1': 0.18953432594982506, 'lambda_l2': 0.3820640001711853, 'min_gain_to_split': 0.11464130174942586, 'max_depth': 7}. Best is trial 61 with value: 0.8812179956172151.\n",
      "⚡ Trial  68: F1 = 0.8748 | Best = 0.8812\n"
     ]
    },
    {
     "name": "stderr",
     "output_type": "stream",
     "text": [
      "Best trial: 61. Best value: 0.881218:  70%|███████   | 70/100 [13:23<04:59, 10.00s/it]"
     ]
    },
    {
     "name": "stdout",
     "output_type": "stream",
     "text": [
      "[I 2025-06-27 12:00:06,182] Trial 69 finished with value: 0.861497955953609 and parameters: {'num_leaves': 82, 'learning_rate': 0.19981033765287776, 'feature_fraction': 0.8733977302964626, 'bagging_fraction': 0.6380232918450015, 'bagging_freq': 6, 'min_child_samples': 43, 'lambda_l1': 0.8494280560592689, 'lambda_l2': 1.4797901876351471, 'min_gain_to_split': 0.46686268750939786, 'max_depth': 5}. Best is trial 61 with value: 0.8812179956172151.\n",
      "⚡ Trial  69: F1 = 0.8615 | Best = 0.8812\n"
     ]
    },
    {
     "name": "stderr",
     "output_type": "stream",
     "text": [
      "Best trial: 61. Best value: 0.881218:  71%|███████   | 71/100 [13:37<05:21, 11.08s/it]"
     ]
    },
    {
     "name": "stdout",
     "output_type": "stream",
     "text": [
      "[I 2025-06-27 12:00:19,786] Trial 70 finished with value: 0.8744168087947518 and parameters: {'num_leaves': 94, 'learning_rate': 0.1377371782149755, 'feature_fraction': 0.823403253157665, 'bagging_fraction': 0.8573058949086728, 'bagging_freq': 7, 'min_child_samples': 38, 'lambda_l1': 0.5603134446902476, 'lambda_l2': 0.23812073071830783, 'min_gain_to_split': 0.5992155409723128, 'max_depth': 8}. Best is trial 61 with value: 0.8812179956172151.\n",
      "⚡ Trial  70: F1 = 0.8744 | Best = 0.8812\n"
     ]
    },
    {
     "name": "stderr",
     "output_type": "stream",
     "text": [
      "Best trial: 61. Best value: 0.881218:  72%|███████▏  | 72/100 [13:51<05:39, 12.11s/it]"
     ]
    },
    {
     "name": "stdout",
     "output_type": "stream",
     "text": [
      "[I 2025-06-27 12:00:34,316] Trial 71 finished with value: 0.849024866690332 and parameters: {'num_leaves': 89, 'learning_rate': 0.023725104298317243, 'feature_fraction': 0.8522345534853651, 'bagging_fraction': 0.8752986134276538, 'bagging_freq': 7, 'min_child_samples': 49, 'lambda_l1': 0.37625400754198224, 'lambda_l2': 0.4684316081349472, 'min_gain_to_split': 0.22632543933349974, 'max_depth': 8}. Best is trial 61 with value: 0.8812179956172151.\n",
      "⚡ Trial  71: F1 = 0.8490 | Best = 0.8812\n"
     ]
    },
    {
     "name": "stderr",
     "output_type": "stream",
     "text": [
      "Best trial: 61. Best value: 0.881218:  73%|███████▎  | 73/100 [14:04<05:30, 12.25s/it]"
     ]
    },
    {
     "name": "stdout",
     "output_type": "stream",
     "text": [
      "[I 2025-06-27 12:00:46,895] Trial 72 finished with value: 0.8807263218283254 and parameters: {'num_leaves': 97, 'learning_rate': 0.19428206917341256, 'feature_fraction': 0.8348851622816574, 'bagging_fraction': 0.8981414920769161, 'bagging_freq': 7, 'min_child_samples': 47, 'lambda_l1': 0.46646916622559687, 'lambda_l2': 1.2071277461110201, 'min_gain_to_split': 0.3298338161169051, 'max_depth': 8}. Best is trial 61 with value: 0.8812179956172151.\n",
      "⚡ Trial  72: F1 = 0.8807 | Best = 0.8812\n"
     ]
    },
    {
     "name": "stderr",
     "output_type": "stream",
     "text": [
      "Best trial: 61. Best value: 0.881218:  74%|███████▍  | 74/100 [14:16<05:19, 12.30s/it]"
     ]
    },
    {
     "name": "stdout",
     "output_type": "stream",
     "text": [
      "[I 2025-06-27 12:00:59,316] Trial 73 finished with value: 0.8772034449587762 and parameters: {'num_leaves': 96, 'learning_rate': 0.1929428291039126, 'feature_fraction': 0.6338888307478178, 'bagging_fraction': 0.891894823159967, 'bagging_freq': 7, 'min_child_samples': 46, 'lambda_l1': 0.449489516095679, 'lambda_l2': 1.1996314325540811, 'min_gain_to_split': 0.350018611481652, 'max_depth': 8}. Best is trial 61 with value: 0.8812179956172151.\n",
      "⚡ Trial  73: F1 = 0.8772 | Best = 0.8812\n"
     ]
    },
    {
     "name": "stderr",
     "output_type": "stream",
     "text": [
      "Best trial: 61. Best value: 0.881218:  75%|███████▌  | 75/100 [14:29<05:11, 12.45s/it]"
     ]
    },
    {
     "name": "stdout",
     "output_type": "stream",
     "text": [
      "[I 2025-06-27 12:01:12,091] Trial 74 finished with value: 0.8788825237311811 and parameters: {'num_leaves': 98, 'learning_rate': 0.18470611412691396, 'feature_fraction': 0.8338993737105823, 'bagging_fraction': 0.8810426413457697, 'bagging_freq': 7, 'min_child_samples': 40, 'lambda_l1': 1.6990530733884555, 'lambda_l2': 0.9517740859111733, 'min_gain_to_split': 0.42221642756249284, 'max_depth': 8}. Best is trial 61 with value: 0.8812179956172151.\n",
      "⚡ Trial  74: F1 = 0.8789 | Best = 0.8812\n"
     ]
    },
    {
     "name": "stderr",
     "output_type": "stream",
     "text": [
      "Best trial: 61. Best value: 0.881218:  76%|███████▌  | 76/100 [14:42<05:02, 12.61s/it]"
     ]
    },
    {
     "name": "stdout",
     "output_type": "stream",
     "text": [
      "[I 2025-06-27 12:01:25,091] Trial 75 finished with value: 0.8781553993628588 and parameters: {'num_leaves': 87, 'learning_rate': 0.17711503817244342, 'feature_fraction': 0.8460668816291786, 'bagging_fraction': 0.899536554702431, 'bagging_freq': 6, 'min_child_samples': 47, 'lambda_l1': 1.9499136665508672, 'lambda_l2': 1.0852538809580639, 'min_gain_to_split': 0.0047337398491842375, 'max_depth': 8}. Best is trial 61 with value: 0.8812179956172151.\n",
      "⚡ Trial  75: F1 = 0.8782 | Best = 0.8812\n"
     ]
    },
    {
     "name": "stderr",
     "output_type": "stream",
     "text": [
      "Best trial: 61. Best value: 0.881218:  77%|███████▋  | 77/100 [14:53<04:41, 12.25s/it]"
     ]
    },
    {
     "name": "stdout",
     "output_type": "stream",
     "text": [
      "[I 2025-06-27 12:01:36,498] Trial 76 finished with value: 0.8740190059533308 and parameters: {'num_leaves': 90, 'learning_rate': 0.19361014500583199, 'feature_fraction': 0.772571578644808, 'bagging_fraction': 0.871254127139249, 'bagging_freq': 7, 'min_child_samples': 35, 'lambda_l1': 0.11991936251577029, 'lambda_l2': 0.8258573977740736, 'min_gain_to_split': 0.07848555554184744, 'max_depth': 7}. Best is trial 61 with value: 0.8812179956172151.\n",
      "⚡ Trial  76: F1 = 0.8740 | Best = 0.8812\n"
     ]
    },
    {
     "name": "stderr",
     "output_type": "stream",
     "text": [
      "Best trial: 61. Best value: 0.881218:  78%|███████▊  | 78/100 [15:05<04:29, 12.23s/it]"
     ]
    },
    {
     "name": "stdout",
     "output_type": "stream",
     "text": [
      "[I 2025-06-27 12:01:48,685] Trial 77 finished with value: 0.8653456234253275 and parameters: {'num_leaves': 82, 'learning_rate': 0.08214367663233932, 'feature_fraction': 0.8685722633097771, 'bagging_fraction': 0.8604402111090236, 'bagging_freq': 6, 'min_child_samples': 43, 'lambda_l1': 0.7125429627938773, 'lambda_l2': 1.4427265641979217, 'min_gain_to_split': 0.5180252120907042, 'max_depth': 8}. Best is trial 61 with value: 0.8812179956172151.\n",
      "⚡ Trial  77: F1 = 0.8653 | Best = 0.8812\n"
     ]
    },
    {
     "name": "stderr",
     "output_type": "stream",
     "text": [
      "Best trial: 61. Best value: 0.881218:  79%|███████▉  | 79/100 [15:19<04:23, 12.54s/it]"
     ]
    },
    {
     "name": "stdout",
     "output_type": "stream",
     "text": [
      "[I 2025-06-27 12:02:01,954] Trial 78 finished with value: 0.872979469835662 and parameters: {'num_leaves': 94, 'learning_rate': 0.186824307172157, 'feature_fraction': 0.7396693501460697, 'bagging_fraction': 0.8835895472293649, 'bagging_freq': 7, 'min_child_samples': 25, 'lambda_l1': 2.8040730927727733, 'lambda_l2': 0.1942783765325516, 'min_gain_to_split': 0.14968980285676017, 'max_depth': 7}. Best is trial 61 with value: 0.8812179956172151.\n",
      "⚡ Trial  78: F1 = 0.8730 | Best = 0.8812\n"
     ]
    },
    {
     "name": "stderr",
     "output_type": "stream",
     "text": [
      "Best trial: 61. Best value: 0.881218:  80%|████████  | 80/100 [15:30<04:05, 12.25s/it]"
     ]
    },
    {
     "name": "stdout",
     "output_type": "stream",
     "text": [
      "[I 2025-06-27 12:02:13,529] Trial 79 finished with value: 0.8710999755224984 and parameters: {'num_leaves': 91, 'learning_rate': 0.11493696724006694, 'feature_fraction': 0.8873686751688171, 'bagging_fraction': 0.8462618356502211, 'bagging_freq': 7, 'min_child_samples': 41, 'lambda_l1': 0.30750042220949975, 'lambda_l2': 1.1992712858526968, 'min_gain_to_split': 0.31532259759647724, 'max_depth': 8}. Best is trial 61 with value: 0.8812179956172151.\n",
      "⚡ Trial  79: F1 = 0.8711 | Best = 0.8812\n"
     ]
    },
    {
     "name": "stderr",
     "output_type": "stream",
     "text": [
      "Best trial: 61. Best value: 0.881218:  81%|████████  | 81/100 [15:42<03:47, 11.97s/it]"
     ]
    },
    {
     "name": "stdout",
     "output_type": "stream",
     "text": [
      "[I 2025-06-27 12:02:24,844] Trial 80 finished with value: 0.8794015185934967 and parameters: {'num_leaves': 97, 'learning_rate': 0.19532638595226362, 'feature_fraction': 0.7924296340407734, 'bagging_fraction': 0.8929654556339975, 'bagging_freq': 7, 'min_child_samples': 46, 'lambda_l1': 0.5879233449149536, 'lambda_l2': 0.5887613076834483, 'min_gain_to_split': 0.7026361047919116, 'max_depth': 8}. Best is trial 61 with value: 0.8812179956172151.\n",
      "⚡ Trial  80: F1 = 0.8794 | Best = 0.8812\n"
     ]
    },
    {
     "name": "stderr",
     "output_type": "stream",
     "text": [
      "Best trial: 61. Best value: 0.881218:  82%|████████▏ | 82/100 [15:52<03:26, 11.49s/it]"
     ]
    },
    {
     "name": "stdout",
     "output_type": "stream",
     "text": [
      "[I 2025-06-27 12:02:35,214] Trial 81 finished with value: 0.8807706284815634 and parameters: {'num_leaves': 90, 'learning_rate': 0.1982726231532901, 'feature_fraction': 0.8577690196726265, 'bagging_fraction': 0.8933770919628884, 'bagging_freq': 7, 'min_child_samples': 49, 'lambda_l1': 0.46673048783754745, 'lambda_l2': 0.34581548944762197, 'min_gain_to_split': 0.23631051091244615, 'max_depth': 8}. Best is trial 61 with value: 0.8812179956172151.\n",
      "⚡ Trial  81: F1 = 0.8808 | Best = 0.8812\n"
     ]
    },
    {
     "name": "stderr",
     "output_type": "stream",
     "text": [
      "Best trial: 61. Best value: 0.881218:  83%|████████▎ | 83/100 [16:03<03:12, 11.35s/it]"
     ]
    },
    {
     "name": "stdout",
     "output_type": "stream",
     "text": [
      "[I 2025-06-27 12:02:46,228] Trial 82 finished with value: 0.8787201195441495 and parameters: {'num_leaves': 86, 'learning_rate': 0.19091166578017427, 'feature_fraction': 0.8605777791319277, 'bagging_fraction': 0.8731282522567582, 'bagging_freq': 7, 'min_child_samples': 48, 'lambda_l1': 0.44035252240148776, 'lambda_l2': 0.30066766094596387, 'min_gain_to_split': 0.40961395731416206, 'max_depth': 8}. Best is trial 61 with value: 0.8812179956172151.\n",
      "⚡ Trial  82: F1 = 0.8787 | Best = 0.8812\n"
     ]
    },
    {
     "name": "stderr",
     "output_type": "stream",
     "text": [
      "Best trial: 61. Best value: 0.881218:  84%|████████▍ | 84/100 [16:14<03:00, 11.28s/it]"
     ]
    },
    {
     "name": "stdout",
     "output_type": "stream",
     "text": [
      "[I 2025-06-27 12:02:57,348] Trial 83 finished with value: 0.879195250238679 and parameters: {'num_leaves': 92, 'learning_rate': 0.17826421709134876, 'feature_fraction': 0.812567216554889, 'bagging_fraction': 0.8859750375745299, 'bagging_freq': 7, 'min_child_samples': 48, 'lambda_l1': 0.49184738053824995, 'lambda_l2': 0.3917168442344675, 'min_gain_to_split': 0.26077944812703224, 'max_depth': 8}. Best is trial 61 with value: 0.8812179956172151.\n",
      "⚡ Trial  83: F1 = 0.8792 | Best = 0.8812\n"
     ]
    },
    {
     "name": "stderr",
     "output_type": "stream",
     "text": [
      "Best trial: 61. Best value: 0.881218:  85%|████████▌ | 85/100 [16:26<02:49, 11.31s/it]"
     ]
    },
    {
     "name": "stdout",
     "output_type": "stream",
     "text": [
      "[I 2025-06-27 12:03:08,726] Trial 84 finished with value: 0.8803627610027812 and parameters: {'num_leaves': 100, 'learning_rate': 0.19722638577885002, 'feature_fraction': 0.8392188387186701, 'bagging_fraction': 0.8647105865607313, 'bagging_freq': 7, 'min_child_samples': 44, 'lambda_l1': 0.6089812140762059, 'lambda_l2': 0.1027804714104823, 'min_gain_to_split': 0.18588965266153573, 'max_depth': 8}. Best is trial 61 with value: 0.8812179956172151.\n",
      "⚡ Trial  84: F1 = 0.8804 | Best = 0.8812\n"
     ]
    },
    {
     "name": "stderr",
     "output_type": "stream",
     "text": [
      "Best trial: 61. Best value: 0.881218:  86%|████████▌ | 86/100 [16:36<02:35, 11.10s/it]"
     ]
    },
    {
     "name": "stdout",
     "output_type": "stream",
     "text": [
      "[I 2025-06-27 12:03:19,326] Trial 85 finished with value: 0.8791124292063968 and parameters: {'num_leaves': 100, 'learning_rate': 0.1847971042750808, 'feature_fraction': 0.840122674451884, 'bagging_fraction': 0.8632677244404432, 'bagging_freq': 6, 'min_child_samples': 46, 'lambda_l1': 0.6471153647364226, 'lambda_l2': 0.12874737248977072, 'min_gain_to_split': 0.1605007216489897, 'max_depth': 8}. Best is trial 61 with value: 0.8812179956172151.\n",
      "⚡ Trial  85: F1 = 0.8791 | Best = 0.8812\n"
     ]
    },
    {
     "name": "stderr",
     "output_type": "stream",
     "text": [
      "Best trial: 61. Best value: 0.881218:  87%|████████▋ | 87/100 [16:47<02:24, 11.13s/it]"
     ]
    },
    {
     "name": "stdout",
     "output_type": "stream",
     "text": [
      "[I 2025-06-27 12:03:30,526] Trial 86 finished with value: 0.8781705039270067 and parameters: {'num_leaves': 98, 'learning_rate': 0.16945072970339758, 'feature_fraction': 0.8339868276584429, 'bagging_fraction': 0.877859813389846, 'bagging_freq': 7, 'min_child_samples': 50, 'lambda_l1': 0.7750207419995065, 'lambda_l2': 0.7612193967869593, 'min_gain_to_split': 0.19721617803218, 'max_depth': 8}. Best is trial 61 with value: 0.8812179956172151.\n",
      "⚡ Trial  86: F1 = 0.8782 | Best = 0.8812\n"
     ]
    },
    {
     "name": "stderr",
     "output_type": "stream",
     "text": [
      "Best trial: 61. Best value: 0.881218:  88%|████████▊ | 88/100 [16:59<02:14, 11.21s/it]"
     ]
    },
    {
     "name": "stdout",
     "output_type": "stream",
     "text": [
      "[I 2025-06-27 12:03:41,917] Trial 87 finished with value: 0.8794667641393578 and parameters: {'num_leaves': 95, 'learning_rate': 0.19500876629075642, 'feature_fraction': 0.8776781404999511, 'bagging_fraction': 0.8906412813866934, 'bagging_freq': 7, 'min_child_samples': 44, 'lambda_l1': 0.22936977788532614, 'lambda_l2': 0.10188954972727804, 'min_gain_to_split': 0.5830271069700746, 'max_depth': 8}. Best is trial 61 with value: 0.8812179956172151.\n",
      "⚡ Trial  87: F1 = 0.8795 | Best = 0.8812\n"
     ]
    },
    {
     "name": "stderr",
     "output_type": "stream",
     "text": [
      "Best trial: 61. Best value: 0.881218:  89%|████████▉ | 89/100 [17:09<01:59, 10.91s/it]"
     ]
    },
    {
     "name": "stdout",
     "output_type": "stream",
     "text": [
      "[I 2025-06-27 12:03:52,124] Trial 88 finished with value: 0.8744754796938697 and parameters: {'num_leaves': 97, 'learning_rate': 0.18812622502773554, 'feature_fraction': 0.8246871049711191, 'bagging_fraction': 0.8645113913169803, 'bagging_freq': 6, 'min_child_samples': 44, 'lambda_l1': 0.8544329580933888, 'lambda_l2': 0.34474014524682517, 'min_gain_to_split': 0.07299251503223897, 'max_depth': 7}. Best is trial 61 with value: 0.8812179956172151.\n",
      "⚡ Trial  88: F1 = 0.8745 | Best = 0.8812\n"
     ]
    },
    {
     "name": "stderr",
     "output_type": "stream",
     "text": [
      "Best trial: 61. Best value: 0.881218:  90%|█████████ | 90/100 [17:20<01:50, 11.09s/it]"
     ]
    },
    {
     "name": "stdout",
     "output_type": "stream",
     "text": [
      "[I 2025-06-27 12:04:03,633] Trial 89 finished with value: 0.8778923720065032 and parameters: {'num_leaves': 94, 'learning_rate': 0.16116478377048138, 'feature_fraction': 0.8916122096482789, 'bagging_fraction': 0.8831088008006562, 'bagging_freq': 7, 'min_child_samples': 49, 'lambda_l1': 0.5907992379625508, 'lambda_l2': 1.6656137024462092, 'min_gain_to_split': 0.37635418077676985, 'max_depth': 8}. Best is trial 61 with value: 0.8812179956172151.\n",
      "⚡ Trial  89: F1 = 0.8779 | Best = 0.8812\n"
     ]
    },
    {
     "name": "stderr",
     "output_type": "stream",
     "text": [
      "Best trial: 61. Best value: 0.881218:  91%|█████████ | 91/100 [17:31<01:37, 10.84s/it]"
     ]
    },
    {
     "name": "stdout",
     "output_type": "stream",
     "text": [
      "[I 2025-06-27 12:04:13,877] Trial 90 finished with value: 0.8791583866196491 and parameters: {'num_leaves': 83, 'learning_rate': 0.19621057060787578, 'feature_fraction': 0.8686420002708114, 'bagging_fraction': 0.8498281209665616, 'bagging_freq': 5, 'min_child_samples': 42, 'lambda_l1': 0.30533768768349157, 'lambda_l2': 0.952744345449033, 'min_gain_to_split': 0.12264493195728529, 'max_depth': 8}. Best is trial 61 with value: 0.8812179956172151.\n",
      "⚡ Trial  90: F1 = 0.8792 | Best = 0.8812\n"
     ]
    },
    {
     "name": "stderr",
     "output_type": "stream",
     "text": [
      "Best trial: 61. Best value: 0.881218:  92%|█████████▏| 92/100 [17:42<01:27, 10.89s/it]"
     ]
    },
    {
     "name": "stdout",
     "output_type": "stream",
     "text": [
      "[I 2025-06-27 12:04:24,892] Trial 91 finished with value: 0.8799792918414261 and parameters: {'num_leaves': 91, 'learning_rate': 0.1989254158015214, 'feature_fraction': 0.8444424083092185, 'bagging_fraction': 0.899949212104062, 'bagging_freq': 7, 'min_child_samples': 37, 'lambda_l1': 0.495184663859425, 'lambda_l2': 0.5132818788290323, 'min_gain_to_split': 0.3235625268002353, 'max_depth': 8}. Best is trial 61 with value: 0.8812179956172151.\n",
      "⚡ Trial  91: F1 = 0.8800 | Best = 0.8812\n"
     ]
    },
    {
     "name": "stderr",
     "output_type": "stream",
     "text": [
      "Best trial: 61. Best value: 0.881218:  93%|█████████▎| 93/100 [17:50<01:10, 10.08s/it]"
     ]
    },
    {
     "name": "stdout",
     "output_type": "stream",
     "text": [
      "[I 2025-06-27 12:04:33,097] Trial 92 finished with value: 0.8706686416915065 and parameters: {'num_leaves': 31, 'learning_rate': 0.19105207371807506, 'feature_fraction': 0.856255533669575, 'bagging_fraction': 0.8950839022365454, 'bagging_freq': 7, 'min_child_samples': 46, 'lambda_l1': 0.35134274977375013, 'lambda_l2': 0.27601644730073127, 'min_gain_to_split': 0.26693452875884754, 'max_depth': 8}. Best is trial 61 with value: 0.8812179956172151.\n",
      "⚡ Trial  92: F1 = 0.8707 | Best = 0.8812\n"
     ]
    },
    {
     "name": "stderr",
     "output_type": "stream",
     "text": [
      "Best trial: 61. Best value: 0.881218:  94%|█████████▍| 94/100 [17:59<00:58,  9.77s/it]"
     ]
    },
    {
     "name": "stdout",
     "output_type": "stream",
     "text": [
      "[I 2025-06-27 12:04:42,126] Trial 93 finished with value: 0.8737320099967764 and parameters: {'num_leaves': 46, 'learning_rate': 0.18073426169003837, 'feature_fraction': 0.847678148187596, 'bagging_fraction': 0.8705531007351088, 'bagging_freq': 7, 'min_child_samples': 45, 'lambda_l1': 0.4243994312966981, 'lambda_l2': 0.19121565670174742, 'min_gain_to_split': 0.44486592548681514, 'max_depth': 8}. Best is trial 61 with value: 0.8812179956172151.\n",
      "⚡ Trial  93: F1 = 0.8737 | Best = 0.8812\n"
     ]
    },
    {
     "name": "stderr",
     "output_type": "stream",
     "text": [
      "Best trial: 61. Best value: 0.881218:  95%|█████████▌| 95/100 [18:10<00:50, 10.15s/it]"
     ]
    },
    {
     "name": "stdout",
     "output_type": "stream",
     "text": [
      "[I 2025-06-27 12:04:53,175] Trial 94 finished with value: 0.8801762665531502 and parameters: {'num_leaves': 89, 'learning_rate': 0.19987603033565718, 'feature_fraction': 0.8658511965232887, 'bagging_fraction': 0.8927920780605149, 'bagging_freq': 7, 'min_child_samples': 39, 'lambda_l1': 0.6156395463265883, 'lambda_l2': 0.6118338674220063, 'min_gain_to_split': 0.25568603906199233, 'max_depth': 8}. Best is trial 61 with value: 0.8812179956172151.\n",
      "⚡ Trial  94: F1 = 0.8802 | Best = 0.8812\n"
     ]
    },
    {
     "name": "stderr",
     "output_type": "stream",
     "text": [
      "Best trial: 61. Best value: 0.881218:  96%|█████████▌| 96/100 [18:21<00:41, 10.43s/it]"
     ]
    },
    {
     "name": "stdout",
     "output_type": "stream",
     "text": [
      "[I 2025-06-27 12:05:04,263] Trial 95 finished with value: 0.8789130962643815 and parameters: {'num_leaves': 87, 'learning_rate': 0.18628520690003647, 'feature_fraction': 0.8674750140712411, 'bagging_fraction': 0.8788363070410302, 'bagging_freq': 7, 'min_child_samples': 39, 'lambda_l1': 0.6120698386778702, 'lambda_l2': 0.7835557928068391, 'min_gain_to_split': 0.2611127404565737, 'max_depth': 8}. Best is trial 61 with value: 0.8812179956172151.\n",
      "⚡ Trial  95: F1 = 0.8789 | Best = 0.8812\n"
     ]
    },
    {
     "name": "stderr",
     "output_type": "stream",
     "text": [
      "Best trial: 61. Best value: 0.881218:  97%|█████████▋| 97/100 [18:32<00:31, 10.58s/it]"
     ]
    },
    {
     "name": "stdout",
     "output_type": "stream",
     "text": [
      "[I 2025-06-27 12:05:15,188] Trial 96 finished with value: 0.8793760832798156 and parameters: {'num_leaves': 80, 'learning_rate': 0.19299197449241345, 'feature_fraction': 0.8774229495548761, 'bagging_fraction': 0.8858388069790502, 'bagging_freq': 7, 'min_child_samples': 48, 'lambda_l1': 0.731066765614938, 'lambda_l2': 0.6350369550255011, 'min_gain_to_split': 0.4897140937529326, 'max_depth': 8}. Best is trial 61 with value: 0.8812179956172151.\n",
      "⚡ Trial  96: F1 = 0.8794 | Best = 0.8812\n"
     ]
    },
    {
     "name": "stderr",
     "output_type": "stream",
     "text": [
      "Best trial: 61. Best value: 0.881218:  98%|█████████▊| 98/100 [18:44<00:21, 10.95s/it]"
     ]
    },
    {
     "name": "stdout",
     "output_type": "stream",
     "text": [
      "[I 2025-06-27 12:05:26,989] Trial 97 finished with value: 0.8809407718270831 and parameters: {'num_leaves': 89, 'learning_rate': 0.19645038704322637, 'feature_fraction': 0.8917345555648187, 'bagging_fraction': 0.8936687248087898, 'bagging_freq': 7, 'min_child_samples': 41, 'lambda_l1': 1.0761706090656706, 'lambda_l2': 0.35455933630213976, 'min_gain_to_split': 0.20020939241693247, 'max_depth': 8}. Best is trial 61 with value: 0.8812179956172151.\n",
      "⚡ Trial  97: F1 = 0.8809 | Best = 0.8812\n"
     ]
    },
    {
     "name": "stderr",
     "output_type": "stream",
     "text": [
      "Best trial: 61. Best value: 0.881218:  99%|█████████▉| 99/100 [18:54<00:10, 10.74s/it]"
     ]
    },
    {
     "name": "stdout",
     "output_type": "stream",
     "text": [
      "[I 2025-06-27 12:05:37,261] Trial 98 finished with value: 0.8733235329129978 and parameters: {'num_leaves': 96, 'learning_rate': 0.17516665371501364, 'feature_fraction': 0.8910914890346877, 'bagging_fraction': 0.8675029666786209, 'bagging_freq': 6, 'min_child_samples': 42, 'lambda_l1': 0.1754247529182517, 'lambda_l2': 0.18022923403830374, 'min_gain_to_split': 0.20814613730472953, 'max_depth': 7}. Best is trial 61 with value: 0.8812179956172151.\n",
      "⚡ Trial  98: F1 = 0.8733 | Best = 0.8812\n"
     ]
    },
    {
     "name": "stderr",
     "output_type": "stream",
     "text": [
      "Best trial: 61. Best value: 0.881218: 100%|██████████| 100/100 [19:04<00:00, 11.44s/it]"
     ]
    },
    {
     "name": "stdout",
     "output_type": "stream",
     "text": [
      "[I 2025-06-27 12:05:46,897] Trial 99 finished with value: 0.878252216810191 and parameters: {'num_leaves': 63, 'learning_rate': 0.19006275035560574, 'feature_fraction': 0.8922583481742641, 'bagging_fraction': 0.8930461375035965, 'bagging_freq': 7, 'min_child_samples': 44, 'lambda_l1': 0.6932450008331026, 'lambda_l2': 0.32911733970162105, 'min_gain_to_split': 0.3765315437747498, 'max_depth': 8}. Best is trial 61 with value: 0.8812179956172151.\n",
      "⚡ Trial  99: F1 = 0.8783 | Best = 0.8812\n",
      "\n",
      "🎯 Optimization completed!\n",
      "🏆 Best F1-Score: 0.8812\n",
      "📋 Best Parameters:\n",
      "   num_leaves: 96\n",
      "   learning_rate: 0.1995504314377857\n",
      "   feature_fraction: 0.8586635066323721\n",
      "   bagging_fraction: 0.8908857855054255\n",
      "   bagging_freq: 7\n",
      "   min_child_samples: 45\n",
      "   lambda_l1: 0.6042567130081935\n",
      "   lambda_l2: 0.8512012650277041\n",
      "   min_gain_to_split: 0.3152257693551831\n",
      "   max_depth: 8\n",
      "✅ Part 2 completed! Best parameters found.\n"
     ]
    },
    {
     "name": "stderr",
     "output_type": "stream",
     "text": [
      "\n"
     ]
    }
   ],
   "source": [
    "# LIGHTGBM with vrtweg\n",
    "# PART 1: SETUP AND DATA PREPARATION\n",
    "# Run this first to set up your data\n",
    "\n",
    "import pandas as pd\n",
    "import numpy as np\n",
    "import optuna\n",
    "import joblib\n",
    "import matplotlib.pyplot as plt\n",
    "import seaborn as sns\n",
    "import warnings\n",
    "warnings.filterwarnings('ignore')\n",
    "\n",
    "from sklearn.model_selection import train_test_split, cross_val_score\n",
    "from sklearn.metrics import classification_report, confusion_matrix, f1_score, roc_auc_score, accuracy_score\n",
    "import lightgbm as lgb\n",
    "\n",
    "# ✅ 1. Select features and target\n",
    "selected_features = [ \n",
    "    \"estimated_total_paid\",\n",
    "    \"vtr_dau\",\n",
    "    \"carage_years\",\n",
    "    \"kosten_verw\", \n",
    "    \"kosten_prov\", \n",
    "    \"alter\", \n",
    "    \"KILOMETERSTAND_CLEAN\", \n",
    "    \"claim\",\n",
    "    \"state_id\",\n",
    "    \"plz_id\",\n",
    "    \"Cus_typ_id\"\n",
    "]\n",
    "target = 'aktiv'\n",
    "\n",
    "print(\"🚀 Starting Enhanced LightGBM Training with Optuna\")\n",
    "print(f\"📊 Features: {len(selected_features)}\")\n",
    "print(f\"🎯 Target: {target}\")\n",
    "\n",
    "# ✅ 2. Prepare data (changed from df_imp to df)\n",
    "df_model = df[selected_features + [target]].dropna()\n",
    "print(f\"📈 Dataset shape after cleaning: {df_model.shape}\")\n",
    "print(f\"🎲 Target distribution:\\n{df_model[target].value_counts(normalize=True)}\")\n",
    "\n",
    "X = df_model[selected_features]\n",
    "y = df_model[target]\n",
    "\n",
    "# Identify categorical features for LightGBM\n",
    "categorical_features = []\n",
    "for col in selected_features:\n",
    "    if X[col].dtype == 'object' or col.endswith('_id'):\n",
    "        categorical_features.append(col)\n",
    "        \n",
    "print(f\"🏷️ Categorical features detected: {categorical_features}\")\n",
    "\n",
    "# ✅ 3. Split data strategically\n",
    "X_temp, X_test, y_temp, y_test = train_test_split(\n",
    "    X, y, test_size=0.1, random_state=42, stratify=y\n",
    ")\n",
    "X_train, X_val, y_train, y_val = train_test_split(\n",
    "    X_temp, y_temp, test_size=0.11, random_state=42, stratify=y_temp\n",
    ")\n",
    "\n",
    "print(f\"📊 Data splits:\")\n",
    "print(f\"   Training: {X_train.shape[0]} samples\")\n",
    "print(f\"   Validation: {X_val.shape[0]} samples\") \n",
    "print(f\"   Test: {X_test.shape[0]} samples\")\n",
    "\n",
    "# ✅ 4. Enhanced Optuna objective function for LightGBM\n",
    "def objective(trial):\n",
    "    \"\"\"\n",
    "    Enhanced objective function with regularization focus to combat overfitting\n",
    "    \"\"\"\n",
    "    params = {\n",
    "        'objective': 'binary',\n",
    "        'metric': 'binary_logloss',\n",
    "        'boosting_type': 'gbdt',\n",
    "        'num_leaves': trial.suggest_int('num_leaves', 10, 100),\n",
    "        'learning_rate': trial.suggest_float('learning_rate', 0.01, 0.2),\n",
    "        'feature_fraction': trial.suggest_float('feature_fraction', 0.6, 0.9),\n",
    "        'bagging_fraction': trial.suggest_float('bagging_fraction', 0.6, 0.9),\n",
    "        'bagging_freq': trial.suggest_int('bagging_freq', 1, 7),\n",
    "        'min_child_samples': trial.suggest_int('min_child_samples', 5, 50),\n",
    "        'lambda_l1': trial.suggest_float('lambda_l1', 0.1, 3.0),  # L1 regularization\n",
    "        'lambda_l2': trial.suggest_float('lambda_l2', 0.1, 3.0),  # L2 regularization\n",
    "        'min_gain_to_split': trial.suggest_float('min_gain_to_split', 0, 2),\n",
    "        'max_depth': trial.suggest_int('max_depth', 3, 8),\n",
    "        'verbosity': -1,\n",
    "        'random_state': 42,\n",
    "        'n_jobs': -1\n",
    "    }\n",
    "    \n",
    "    # Use cross-validation for robust evaluation\n",
    "    model = lgb.LGBMClassifier(**params, n_estimators=200)\n",
    "    cv_scores = cross_val_score(\n",
    "        model, X_train, y_train, \n",
    "        cv=3,  # 3-fold CV for speed\n",
    "        scoring='f1',\n",
    "        n_jobs=-1\n",
    "    )\n",
    "    \n",
    "    return cv_scores.mean()\n",
    "\n",
    "# ✅ 5. Run Optuna optimization with progress tracking\n",
    "def print_callback(study, trial):\n",
    "    \"\"\"Callback to print progress\"\"\"\n",
    "    print(f\"⚡ Trial {trial.number:3d}: F1 = {trial.value:.4f} | Best = {study.best_value:.4f}\")\n",
    "\n",
    "print(\"\\n🔍 Starting hyperparameter optimization...\")\n",
    "study = optuna.create_study(\n",
    "    direction='maximize',\n",
    "    sampler=optuna.samplers.TPESampler(seed=42)\n",
    ")\n",
    "#no. of trials Optuna will run\n",
    "n_trials = 100  \n",
    "\n",
    "study.optimize(\n",
    "    objective, \n",
    "    n_trials=n_trials,\n",
    "    callbacks=[print_callback],\n",
    "    show_progress_bar=True\n",
    ")\n",
    "\n",
    "print(f\"\\n🎯 Optimization completed!\")\n",
    "print(f\"🏆 Best F1-Score: {study.best_value:.4f}\")\n",
    "print(f\"📋 Best Parameters:\")\n",
    "for key, value in study.best_params.items():\n",
    "    print(f\"   {key}: {value}\")\n",
    "\n",
    "print(\"✅ Part 2 completed! Best parameters found.\")"
   ]
  },
  {
   "cell_type": "code",
   "execution_count": 18,
   "id": "e9abdbce",
   "metadata": {},
   "outputs": [
    {
     "name": "stdout",
     "output_type": "stream",
     "text": [
      "\n",
      "🏗️ Training final model...\n",
      "Training until validation scores don't improve for 20 rounds\n",
      "Did not meet early stopping. Best iteration is:\n",
      "[500]\tvalid_0's binary_logloss: 0.246889\n",
      "💾 Model saved as: lightgbm_model_vtr_weg_optuna100.pkl\n",
      "\n",
      "📊 VALIDATION SET EVALUATION:\n",
      "Classification Report:\n",
      "              precision    recall  f1-score   support\n",
      "\n",
      "           0       0.93      0.85      0.89     43835\n",
      "           1       0.86      0.94      0.90     43061\n",
      "\n",
      "    accuracy                           0.89     86896\n",
      "   macro avg       0.90      0.89      0.89     86896\n",
      "weighted avg       0.90      0.89      0.89     86896\n",
      "\n",
      "📈 Additional Metrics:\n",
      "   F1-Score: 0.8979\n",
      "   Accuracy: 0.8945\n",
      "   ROC-AUC: 0.9605\n",
      "\n",
      "🎯 FINAL TEST SET EVALUATION:\n",
      "Classification Report:\n",
      "              precision    recall  f1-score   support\n",
      "\n",
      "           0       0.94      0.85      0.89     44277\n",
      "           1       0.86      0.94      0.90     43496\n",
      "\n",
      "    accuracy                           0.90     87773\n",
      "   macro avg       0.90      0.90      0.90     87773\n",
      "weighted avg       0.90      0.90      0.90     87773\n",
      "\n",
      "📈 Test Set Metrics:\n",
      "   F1-Score: 0.9002\n",
      "   Accuracy: 0.8967\n",
      "   ROC-AUC: 0.9612\n",
      "✅ Model generalization: Excellent (F1 diff: 0.0023)\n",
      "✅ Part 3 completed! Model trained and evaluated.\n"
     ]
    }
   ],
   "source": [
    "# ✅ 6. Train final model with best parameters\n",
    "print(\"\\n🏗️ Training final model...\")\n",
    "best_params = study.best_params.copy()\n",
    "best_params.update({\n",
    "    'objective': 'binary',\n",
    "    'metric': 'binary_logloss',\n",
    "    'verbosity': -1,\n",
    "    'random_state': 42,\n",
    "    'n_jobs': -1,\n",
    "    'n_estimators': 500  # Increase estimators for final model\n",
    "})\n",
    "\n",
    "final_model = lgb.LGBMClassifier(**best_params)\n",
    "\n",
    "# Fit with evaluation set for early stopping\n",
    "final_model.fit(\n",
    "    X_train, y_train,\n",
    "    eval_set=[(X_val, y_val)],\n",
    "    eval_metric='binary_logloss',\n",
    "    callbacks=[lgb.early_stopping(stopping_rounds=20), lgb.log_evaluation(0)]\n",
    ")\n",
    "\n",
    "# 💾 Save the model\n",
    "model_filename = 'lightgbm_model_vtr_weg_optuna100.pkl'\n",
    "joblib.dump(final_model, model_filename)\n",
    "print(f\"💾 Model saved as: {model_filename}\")\n",
    "\n",
    "# ✅ 7. Comprehensive evaluation on validation set\n",
    "print(\"\\n📊 VALIDATION SET EVALUATION:\")\n",
    "y_pred_val = final_model.predict(X_val)\n",
    "y_pred_proba_val = final_model.predict_proba(X_val)[:, 1]\n",
    "\n",
    "print(\"Classification Report:\")\n",
    "print(classification_report(y_val, y_pred_val))\n",
    "\n",
    "# Additional metrics\n",
    "val_f1 = f1_score(y_val, y_pred_val)\n",
    "val_accuracy = accuracy_score(y_val, y_pred_val)\n",
    "val_auc = roc_auc_score(y_val, y_pred_proba_val)\n",
    "\n",
    "print(f\"📈 Additional Metrics:\")\n",
    "print(f\"   F1-Score: {val_f1:.4f}\")\n",
    "print(f\"   Accuracy: {val_accuracy:.4f}\")\n",
    "print(f\"   ROC-AUC: {val_auc:.4f}\")\n",
    "\n",
    "# ✅ 8. Final evaluation on test set\n",
    "print(\"\\n🎯 FINAL TEST SET EVALUATION:\")\n",
    "y_pred_test = final_model.predict(X_test)\n",
    "y_pred_proba_test = final_model.predict_proba(X_test)[:, 1]\n",
    "\n",
    "print(\"Classification Report:\")\n",
    "print(classification_report(y_test, y_pred_test))\n",
    "\n",
    "# Test metrics\n",
    "test_f1 = f1_score(y_test, y_pred_test)\n",
    "test_accuracy = accuracy_score(y_test, y_pred_test)\n",
    "test_auc = roc_auc_score(y_test, y_pred_proba_test)\n",
    "\n",
    "print(f\"📈 Test Set Metrics:\")\n",
    "print(f\"   F1-Score: {test_f1:.4f}\")\n",
    "print(f\"   Accuracy: {test_accuracy:.4f}\")\n",
    "print(f\"   ROC-AUC: {test_auc:.4f}\")\n",
    "\n",
    "# Overfitting check\n",
    "f1_diff = abs(val_f1 - test_f1)\n",
    "if f1_diff < 0.02:\n",
    "    print(f\"✅ Model generalization: Excellent (F1 diff: {f1_diff:.4f})\")\n",
    "elif f1_diff < 0.05:\n",
    "    print(f\"⚠️  Model generalization: Good (F1 diff: {f1_diff:.4f})\")\n",
    "else:\n",
    "    print(f\"❌ Model generalization: Poor (F1 diff: {f1_diff:.4f})\")\n",
    "\n",
    "print(\"✅ Part 3 completed! Model trained and evaluated.\")\n"
   ]
  },
  {
   "cell_type": "code",
   "execution_count": 19,
   "id": "08b69039",
   "metadata": {},
   "outputs": [
    {
     "data": {
      "image/png": "[encoded data removed]",
      "text/plain": [
       "<Figure size 1500x1000 with 6 Axes>"
      ]
     },
     "metadata": {},
     "output_type": "display_data"
    },
    {
     "name": "stdout",
     "output_type": "stream",
     "text": [
      "\n",
      "📊 LightGBM Specific Analysis:\n"
     ]
    },
    {
     "data": {
      "image/png": "[encoded data removed]",
      "text/plain": [
       "<Figure size 1200x400 with 2 Axes>"
      ]
     },
     "metadata": {},
     "output_type": "display_data"
    },
    {
     "name": "stdout",
     "output_type": "stream",
     "text": [
      "\n",
      "============================================================\n",
      "📋 FINAL LIGHTGBM SUMMARY REPORT\n",
      "============================================================\n",
      "🎯 Best Hyperparameters Found:\n",
      "   num_leaves: 96\n",
      "   learning_rate: 0.1995504314377857\n",
      "   feature_fraction: 0.8586635066323721\n",
      "   bagging_fraction: 0.8908857855054255\n",
      "   bagging_freq: 7\n",
      "   min_child_samples: 45\n",
      "   lambda_l1: 0.6042567130081935\n",
      "   lambda_l2: 0.8512012650277041\n",
      "   min_gain_to_split: 0.3152257693551831\n",
      "   max_depth: 8\n",
      "\n",
      "📊 Performance Summary:\n",
      "   Validation F1: 0.8979\n",
      "   Test F1:       0.9002\n",
      "   Validation AUC: 0.9605\n",
      "   Test AUC:       0.9612\n",
      "\n",
      "🏷️ Categorical Features: ['state_id', 'plz_id', 'Cus_typ_id']\n",
      "🌳 Final number of trees: 500\n",
      "🛑 Early stopping rounds: 0\n",
      "\n",
      "💾 Model saved as: lightgbm_model_vtr_weg_optuna100.pkl\n",
      "🎉 LightGBM Training completed successfully!\n",
      "📊 Study results saved as: lightgbm_optuna100results.pkl\n",
      "\n",
      "📈 Results Summary:\n",
      "      Dataset  F1_Score  Accuracy   ROC_AUC\n",
      "0  Validation  0.897879  0.894460  0.960543\n",
      "1        Test  0.900204  0.896722  0.961225\n",
      "\n",
      "🔍 LightGBM vs XGBoost Insights:\n",
      "   • LightGBM typically trains faster than XGBoost\n",
      "   • LightGBM uses leaf-wise tree growth (vs level-wise)\n",
      "   • Better memory efficiency with categorical features\n",
      "   • Native support for categorical features detected: 3 features\n",
      "✅ Part 4 completed! All visualizations and reports generated.\n",
      "\n",
      "🔮 Model ready for predictions!\n",
      "   Use: predict_with_model(final_model, your_new_data)\n"
     ]
    }
   ],
   "source": [
    "# PART 4: VISUALIZATIONS AND FINAL REPORT\n",
    "# Run this after Part 3 is completed\n",
    "\n",
    "# ✅ 9. Visualizations\n",
    "plt.figure(figsize=(15, 10))\n",
    "\n",
    "# Confusion Matrix - Validation\n",
    "plt.subplot(2, 3, 1)\n",
    "cm_val = confusion_matrix(y_val, y_pred_val)\n",
    "sns.heatmap(cm_val, annot=True, fmt=\"d\", cmap=\"Blues\", cbar=False)\n",
    "plt.title(\"Confusion Matrix - Validation\")\n",
    "plt.xlabel(\"Predicted\")\n",
    "plt.ylabel(\"Actual\")\n",
    "\n",
    "# Confusion Matrix - Test\n",
    "plt.subplot(2, 3, 2)\n",
    "cm_test = confusion_matrix(y_test, y_pred_test)\n",
    "sns.heatmap(cm_test, annot=True, fmt=\"d\", cmap=\"Greens\", cbar=False)\n",
    "plt.title(\"Confusion Matrix - Test\")\n",
    "plt.xlabel(\"Predicted\")\n",
    "plt.ylabel(\"Actual\")\n",
    "\n",
    "# Feature Importance\n",
    "plt.subplot(2, 3, 3)\n",
    "importance_df = pd.DataFrame({\n",
    "    'Feature': selected_features,\n",
    "    'Importance': final_model.feature_importances_\n",
    "}).sort_values(by='Importance', ascending=True)\n",
    "\n",
    "plt.barh(range(len(importance_df)), importance_df['Importance'])\n",
    "plt.yticks(range(len(importance_df)), importance_df['Feature'])\n",
    "plt.title(\"Feature Importance - LightGBM\")\n",
    "plt.xlabel(\"Importance\")\n",
    "\n",
    "# Optuna optimization history\n",
    "plt.subplot(2, 3, 4)\n",
    "trials_df = study.trials_dataframe()\n",
    "plt.plot(trials_df['number'], trials_df['value'])\n",
    "plt.title(\"Optimization History\")\n",
    "plt.xlabel(\"Trial\")\n",
    "plt.ylabel(\"F1-Score\")\n",
    "plt.grid(True, alpha=0.3)\n",
    "\n",
    "# Performance comparison\n",
    "plt.subplot(2, 3, 5)\n",
    "metrics = ['F1-Score', 'Accuracy', 'ROC-AUC']\n",
    "val_scores = [val_f1, val_accuracy, val_auc]\n",
    "test_scores = [test_f1, test_accuracy, test_auc]\n",
    "\n",
    "x = np.arange(len(metrics))\n",
    "width = 0.35\n",
    "\n",
    "plt.bar(x - width/2, val_scores, width, label='Validation', alpha=0.8)\n",
    "plt.bar(x + width/2, test_scores, width, label='Test', alpha=0.8)\n",
    "plt.xlabel('Metrics')\n",
    "plt.ylabel('Score')\n",
    "plt.title('Model Performance Comparison')\n",
    "plt.xticks(x, metrics)\n",
    "plt.legend()\n",
    "plt.ylim(0, 1)\n",
    "\n",
    "# Parameter importance\n",
    "plt.subplot(2, 3, 6)\n",
    "param_importance = optuna.importance.get_param_importances(study)\n",
    "params = list(param_importance.keys())\n",
    "importances = list(param_importance.values())\n",
    "\n",
    "plt.barh(range(len(params)), importances)\n",
    "plt.yticks(range(len(params)), params)\n",
    "plt.title(\"Hyperparameter Importance\")\n",
    "plt.xlabel(\"Importance\")\n",
    "\n",
    "plt.tight_layout()\n",
    "plt.show()\n",
    "\n",
    "# ✅ 10. LightGBM specific visualizations\n",
    "print(\"\\n📊 LightGBM Specific Analysis:\")\n",
    "\n",
    "# Training history\n",
    "plt.figure(figsize=(12, 4))\n",
    "\n",
    "# Training loss curve\n",
    "plt.subplot(1, 2, 1)\n",
    "results = final_model.evals_result_\n",
    "if 'valid_0' in results:\n",
    "    plt.plot(results['valid_0']['binary_logloss'], label='Validation Loss')\n",
    "    plt.title('Training History - Loss')\n",
    "    plt.xlabel('Iteration')\n",
    "    plt.ylabel('Binary Log Loss')\n",
    "    plt.legend()\n",
    "    plt.grid(True, alpha=0.3)\n",
    "\n",
    "# Feature importance by different metrics\n",
    "plt.subplot(1, 2, 2)\n",
    "# Get feature importance by gain\n",
    "importance_gain = final_model.booster_.feature_importance(importance_type='gain')\n",
    "importance_df_gain = pd.DataFrame({\n",
    "    'Feature': selected_features,\n",
    "    'Gain': importance_gain\n",
    "}).sort_values(by='Gain', ascending=True)\n",
    "\n",
    "plt.barh(range(len(importance_df_gain)), importance_df_gain['Gain'])\n",
    "plt.yticks(range(len(importance_df_gain)), importance_df_gain['Feature'])\n",
    "plt.title(\"Feature Importance - Gain\")\n",
    "plt.xlabel(\"Gain\")\n",
    "\n",
    "plt.tight_layout()\n",
    "plt.show()\n",
    "\n",
    "# ✅ 11. Summary report\n",
    "print(\"\\n\" + \"=\"*60)\n",
    "print(\"📋 FINAL LIGHTGBM SUMMARY REPORT\")\n",
    "print(\"=\"*60)\n",
    "print(f\"🎯 Best Hyperparameters Found:\")\n",
    "for param, value in study.best_params.items():\n",
    "    print(f\"   {param}: {value}\")\n",
    "\n",
    "print(f\"\\n📊 Performance Summary:\")\n",
    "print(f\"   Validation F1: {val_f1:.4f}\")\n",
    "print(f\"   Test F1:       {test_f1:.4f}\")\n",
    "print(f\"   Validation AUC: {val_auc:.4f}\")\n",
    "print(f\"   Test AUC:       {test_auc:.4f}\")\n",
    "\n",
    "print(f\"\\n🏷️ Categorical Features: {categorical_features}\")\n",
    "print(f\"🌳 Final number of trees: {final_model.n_estimators}\")\n",
    "print(f\"🛑 Early stopping rounds: {final_model.n_estimators - len(results['valid_0']['binary_logloss']) if 'valid_0' in results else 'N/A'}\")\n",
    "\n",
    "print(f\"\\n💾 Model saved as: {model_filename}\")\n",
    "print(\"🎉 LightGBM Training completed successfully!\")\n",
    "\n",
    "# ✅ 12. Optional: Save study results\n",
    "study_filename = 'lightgbm_optuna100results.pkl'\n",
    "joblib.dump(study, study_filename)\n",
    "print(f\"📊 Study results saved as: {study_filename}\")\n",
    "\n",
    "# Create results dataframe for future analysis\n",
    "results_df = pd.DataFrame({\n",
    "    'Dataset': ['Validation', 'Test'],\n",
    "    'F1_Score': [val_f1, test_f1],\n",
    "    'Accuracy': [val_accuracy, test_accuracy],\n",
    "    'ROC_AUC': [val_auc, test_auc]\n",
    "})\n",
    "\n",
    "print(f\"\\n📈 Results Summary:\")\n",
    "print(results_df)\n",
    "\n",
    "# ✅ 13. Model comparison insights\n",
    "print(f\"\\n🔍 LightGBM vs XGBoost Insights:\")\n",
    "print(f\"   • LightGBM typically trains faster than XGBoost\")\n",
    "print(f\"   • LightGBM uses leaf-wise tree growth (vs level-wise)\")\n",
    "print(f\"   • Better memory efficiency with categorical features\")\n",
    "print(f\"   • Native support for categorical features detected: {len(categorical_features)} features\")\n",
    "\n",
    "print(\"✅ Part 4 completed! All visualizations and reports generated.\")\n",
    "\n",
    "# ✅ 14. Optional: Quick prediction function\n",
    "def predict_with_model(model, new_data):\n",
    "    \"\"\"Helper function for making predictions with the trained model\"\"\"\n",
    "    predictions = model.predict(new_data)\n",
    "    probabilities = model.predict_proba(new_data)[:, 1]\n",
    "    return predictions, probabilities\n",
    "\n",
    "print(f\"\\n🔮 Model ready for predictions!\")\n",
    "print(f\"   Use: predict_with_model(final_model, your_new_data)\")"
   ]
  }
 ],
 "metadata": {
  "kernelspec": {
   "display_name": ".venv",
   "language": "python",
   "name": "python3"
  },
  "language_info": {
   "codemirror_mode": {
    "name": "ipython",
    "version": 3
   },
   "file_extension": ".py",
   "mimetype": "text/x-python",
   "name": "python",
   "nbconvert_exporter": "python",
   "pygments_lexer": "ipython3",
   "version": "3.13.3"
  }
 },
 "nbformat": 4,
 "nbformat_minor": 5
}
